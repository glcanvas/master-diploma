{
 "cells": [
  {
   "cell_type": "code",
   "execution_count": 1,
   "id": "practical-african",
   "metadata": {},
   "outputs": [],
   "source": [
    "from pathlib import Path\n",
    "import pandas as pd\n",
    "import os"
   ]
  },
  {
   "cell_type": "code",
   "execution_count": 6,
   "id": "strange-penalty",
   "metadata": {},
   "outputs": [],
   "source": [
    "src_fldr = Path('generated_bussio')\n",
    "tgt_fldr = Path('synthesis_myconditions')\n",
    "tgt_fldr.mkdir(exist_ok=False, parents=True)"
   ]
  },
  {
   "cell_type": "code",
   "execution_count": 7,
   "id": "advised-friday",
   "metadata": {},
   "outputs": [],
   "source": [
    "def convert_path(pt):\n",
    "    synth_old = 'images/pix2pix_result_segm_maps/firstexp'\n",
    "    synth_new = 'images2/synthesis/myconditions'\n",
    "    if pt.startswith(synth_old):\n",
    "        pt = pt.replace(synth_old, synth_new)\n",
    "        pt = pt[:-4] + '.png'\n",
    "    return pt"
   ]
  },
  {
   "cell_type": "code",
   "execution_count": 8,
   "id": "banner-surgery",
   "metadata": {},
   "outputs": [],
   "source": [
    "for i in range(10):\n",
    "    df = pd.read_csv(src_fldr / f'train_200_{i}.csv')\n",
    "    df.images = df.images.map(convert_path)\n",
    "    df.to_csv(tgt_fldr / f'train_200_{i}.csv', index=False)"
   ]
  },
  {
   "cell_type": "code",
   "execution_count": null,
   "id": "informal-spoke",
   "metadata": {},
   "outputs": [],
   "source": []
  }
 ],
 "metadata": {
  "kernelspec": {
   "display_name": "main36",
   "language": "python",
   "name": "main36"
  },
  "language_info": {
   "codemirror_mode": {
    "name": "ipython",
    "version": 3
   },
   "file_extension": ".py",
   "mimetype": "text/x-python",
   "name": "python",
   "nbconvert_exporter": "python",
   "pygments_lexer": "ipython3",
   "version": "3.6.12"
  }
 },
 "nbformat": 4,
 "nbformat_minor": 5
}
