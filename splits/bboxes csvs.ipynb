{
 "cells": [
  {
   "cell_type": "code",
   "execution_count": 1,
   "id": "proper-motor",
   "metadata": {},
   "outputs": [],
   "source": [
    "from pathlib import Path\n",
    "import pandas as pd\n",
    "import os"
   ]
  },
  {
   "cell_type": "markdown",
   "id": "early-quebec",
   "metadata": {},
   "source": [
    "# synthesis"
   ]
  },
  {
   "cell_type": "code",
   "execution_count": 2,
   "id": "scheduled-luxury",
   "metadata": {},
   "outputs": [],
   "source": [
    "src_fldr = Path('generated_bussio')\n",
    "tgt_fldr = Path('synthesis_mybboxes')\n",
    "tgt_fldr.mkdir(exist_ok=False, parents=True)"
   ]
  },
  {
   "cell_type": "code",
   "execution_count": 3,
   "id": "disciplinary-content",
   "metadata": {},
   "outputs": [],
   "source": [
    "def convert_path(pt):\n",
    "    synth_old = 'images/pix2pix_result_segm_maps/firstexp/train_latest/images/'\n",
    "    synth_new = 'images2/synthesis/mybboxes/train_60/cut/'\n",
    "    if pt.startswith(synth_old):\n",
    "        pt = pt.replace(synth_old, synth_new)\n",
    "        pt = pt[:-4] + '.png'\n",
    "    return pt"
   ]
  },
  {
   "cell_type": "code",
   "execution_count": 4,
   "id": "mysterious-mechanics",
   "metadata": {},
   "outputs": [],
   "source": [
    "for i in range(10):\n",
    "    df = pd.read_csv(src_fldr / f'train_200_{i}.csv')\n",
    "    df.images = df.images.map(convert_path)\n",
    "    df.to_csv(tgt_fldr / f'train_200_{i}.csv', index=False)"
   ]
  },
  {
   "cell_type": "markdown",
   "id": "statewide-wellington",
   "metadata": {},
   "source": [
    "# synthesis augm"
   ]
  },
  {
   "cell_type": "code",
   "execution_count": 5,
   "id": "smaller-season",
   "metadata": {},
   "outputs": [],
   "source": [
    "src_fldr = Path('generated_bussio')\n",
    "tgt_fldr = Path('synthesis_augm_mybboxes')\n",
    "tgt_fldr.mkdir(exist_ok=False, parents=True)"
   ]
  },
  {
   "cell_type": "code",
   "execution_count": 6,
   "id": "faced-prescription",
   "metadata": {},
   "outputs": [],
   "source": [
    "def is_orig(pt):\n",
    "    return pt.startswith('images/ISIC2018_Task1-2_Training_Input')\n",
    "\n",
    "def convert_path(pt, j):\n",
    "    synth_old = 'images/pix2pix_result_segm_maps/firstexp/train_latest/images/'\n",
    "    synth_new = 'images2/synthesis_augm/mybboxes/train_60/cut/'\n",
    "    \n",
    "    ending_old = '_semantic_synthesized_image.jpg'\n",
    "    ending_new = f'_semantic_v{j}_synthesized_image.png'\n",
    "    if pt.startswith(synth_old):\n",
    "        pt = pt.replace(synth_old, synth_new)\n",
    "        pt = pt.replace(ending_old, ending_new)\n",
    "    return pt\n",
    "\n",
    "def get_convert_path_fn(j):\n",
    "    return lambda pt: convert_path(pt, j)"
   ]
  },
  {
   "cell_type": "code",
   "execution_count": 7,
   "id": "multiple-scroll",
   "metadata": {},
   "outputs": [],
   "source": [
    "for i in range(10):\n",
    "    df = pd.read_csv(src_fldr / f'train_200_{i}.csv')\n",
    "\n",
    "    orig = df[df.images.map(is_orig)]\n",
    "    gen = df[~df.images.map(is_orig)]\n",
    "    \n",
    "    synths = []\n",
    "    for j in range(4):\n",
    "        synth = gen.copy()\n",
    "        convert_fn = get_convert_path_fn(j)\n",
    "        synth.images = synth.images.map(convert_fn)\n",
    "        synths.append(synth)\n",
    "    synth = pd.concat(synths, axis=0)\n",
    "    synth = synth.sample(frac=1)\n",
    "    \n",
    "    df2 = pd.concat([orig, synth], axis=0)\n",
    "    df2.to_csv(tgt_fldr / f'train_200_{i}.csv', index=False)"
   ]
  },
  {
   "cell_type": "code",
   "execution_count": 24,
   "id": "civilian-belarus",
   "metadata": {},
   "outputs": [],
   "source": []
  },
  {
   "cell_type": "code",
   "execution_count": 27,
   "id": "dominican-surfing",
   "metadata": {},
   "outputs": [],
   "source": []
  }
 ],
 "metadata": {
  "kernelspec": {
   "display_name": "main36",
   "language": "python",
   "name": "main36"
  },
  "language_info": {
   "codemirror_mode": {
    "name": "ipython",
    "version": 3
   },
   "file_extension": ".py",
   "mimetype": "text/x-python",
   "name": "python",
   "nbconvert_exporter": "python",
   "pygments_lexer": "ipython3",
   "version": "3.6.12"
  }
 },
 "nbformat": 4,
 "nbformat_minor": 5
}
