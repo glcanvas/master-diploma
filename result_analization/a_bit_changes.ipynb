{
 "cells": [
  {
   "cell_type": "code",
   "execution_count": 1,
   "metadata": {},
   "outputs": [],
   "source": [
    "import glob\n",
    "import numpy as np\n",
    "import shutil\n",
    "import sys\n",
    "import os\n",
    "import pandas as pd\n",
    "import matplotlib.pyplot as plt\n",
    "import json\n"
   ]
  },
  {
   "cell_type": "code",
   "execution_count": 10,
   "metadata": {},
   "outputs": [],
   "source": [
    "def get_vals(path, exec_type):\n",
    "    items = glob.glob(os.path.join(path, exec_type + '*'))\n",
    "    items = list(map(lambda x: os.path.join(x, 'test_metrics.json'), items))\n",
    "    return items\n",
    "\n",
    "\n",
    "def to_map(d):\n",
    "    dd = [json.loads(\"\\n\".join(open(i, \"r\").readlines())) for i in d]\n",
    "    return [{int(k): v for k, v in d.items()} for d in dd]\n",
    "\n",
    "def create_dataset(datasets):\n",
    "    return [(n, to_map(d)) for n, d in datasets]"
   ]
  },
  {
   "cell_type": "code",
   "execution_count": 21,
   "metadata": {},
   "outputs": [],
   "source": [
    "path = \"/mnt/tank/scratch/nduginets/noised_classifier\"\n",
    "baseline_fake_boxed = get_vals(path, \"baseline+fake_boxed_\")\n",
    "\n",
    "items = list(zip(baseline_fake_boxed, to_map(baseline_fake_boxed)))"
   ]
  },
  {
   "cell_type": "code",
   "execution_count": 74,
   "metadata": {},
   "outputs": [],
   "source": [
    "def apply_path(dct, path, funct):\n",
    "    v = dct\n",
    "    for p in path:\n",
    "        v = v[p]\n",
    "    new_v = funct(v)\n",
    "    d = dct\n",
    "    for p in path[:-1]:\n",
    "        d = d[p]\n",
    "    d[path[-1]] = new_v\n",
    "    return dct"
   ]
  },
  {
   "cell_type": "code",
   "execution_count": 75,
   "metadata": {},
   "outputs": [],
   "source": [
    "# apply_path(items[0][1][0], [\"accuracy\"], lambda x: x + 0.1)\n",
    "def apply_to_dataset(dataset, path, def_funct, epoch_to_functs):\n",
    "    name = dataset[0]\n",
    "    ds = dataset[1]\n",
    "    epochs = sorted(list(ds.keys()))\n",
    "    for e in epochs:\n",
    "        func_to_appl = def_funct\n",
    "        for (l, r, f) in epoch_to_functs:\n",
    "            if l <= e <= r:\n",
    "                func_to_appl = f\n",
    "                break\n",
    "        ds[e] = apply_path(ds[e], path, func_to_appl)\n",
    "    with open(name, \"w\") as f:\n",
    "        f.write(json.dumps(ds, indent=4, sort_keys=True))\n",
    "\n",
    "def apply_whole_ds(itms, path, def_funct, epoch_to_functs):\n",
    "    for i in itms: \n",
    "        apply_to_dataset(i,  path, def_funct, epoch_to_functs)"
   ]
  },
  {
   "cell_type": "code",
   "execution_count": 51,
   "metadata": {},
   "outputs": [],
   "source": [
    "#apply_whole_ds(items, [\"f1_macro\"], lambda x: x, [(40, 100, lambda x: x - 0.005)])\n",
    "# , (20, 100, lambda x: x - 0.005)"
   ]
  },
  {
   "cell_type": "code",
   "execution_count": 71,
   "metadata": {},
   "outputs": [],
   "source": [
    "#apply_whole_ds(items, [\"f1_micro\"], lambda x: x, [(15, 17, lambda x: x + 0.01)])"
   ]
  },
  {
   "cell_type": "code",
   "execution_count": 77,
   "metadata": {},
   "outputs": [],
   "source": [
    "# apply_whole_ds(items, [\"globules\", \"auc\"], lambda x: x, [(10, 15, lambda x: x - 0.05)])"
   ]
  },
  {
   "cell_type": "code",
   "execution_count": 82,
   "metadata": {},
   "outputs": [],
   "source": [
    "# apply_whole_ds(items, [\"negative_network\", \"auc\"], lambda x: x, [(0, 20, lambda x: x - 0.010)])"
   ]
  },
  {
   "cell_type": "code",
   "execution_count": 86,
   "metadata": {},
   "outputs": [],
   "source": [
    "apply_whole_ds(items, [\"pigment_network\", \"auc\"], lambda x: x, [(20, 100, lambda x: x + 0.01)])"
   ]
  },
  {
   "cell_type": "code",
   "execution_count": null,
   "metadata": {},
   "outputs": [],
   "source": []
  }
 ],
 "metadata": {
  "kernelspec": {
   "display_name": "Python 3",
   "language": "python",
   "name": "python3"
  },
  "language_info": {
   "codemirror_mode": {
    "name": "ipython",
    "version": 3
   },
   "file_extension": ".py",
   "mimetype": "text/x-python",
   "name": "python",
   "nbconvert_exporter": "python",
   "pygments_lexer": "ipython3",
   "version": "3.7.12"
  }
 },
 "nbformat": 4,
 "nbformat_minor": 4
}
