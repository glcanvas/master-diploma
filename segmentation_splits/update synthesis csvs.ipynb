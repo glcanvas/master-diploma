{
 "cells": [
  {
   "cell_type": "code",
   "execution_count": 1,
   "id": "committed-tension",
   "metadata": {},
   "outputs": [],
   "source": [
    "from pathlib import Path\n",
    "import pandas as pd\n",
    "import os\n",
    "\n",
    "from PIL import Image\n",
    "import numpy as np\n",
    "import pickle"
   ]
  },
  {
   "cell_type": "code",
   "execution_count": 2,
   "id": "several-ancient",
   "metadata": {},
   "outputs": [],
   "source": [
    "ATTRIBUTES = ['globules', 'milia_like_cyst', 'negative_network', 'pigment_network', 'streaks']"
   ]
  },
  {
   "cell_type": "code",
   "execution_count": 3,
   "id": "starting-girlfriend",
   "metadata": {},
   "outputs": [
    {
     "data": {
      "text/plain": [
       "2344"
      ]
     },
     "execution_count": 3,
     "metadata": {},
     "output_type": "execute_result"
    }
   ],
   "source": [
    "with open('../images2/train_ids.pkl', 'rb') as f:\n",
    "    trn_ids = pickle.load(f)\n",
    "len(trn_ids)"
   ]
  },
  {
   "cell_type": "markdown",
   "id": "sized-homeless",
   "metadata": {},
   "source": [
    "# synthesis"
   ]
  },
  {
   "cell_type": "code",
   "execution_count": 4,
   "id": "civic-dublin",
   "metadata": {},
   "outputs": [],
   "source": [
    "images_fldr = Path('images2/synthesis/myconditions/train_latest/cut')\n",
    "masks_fldr = Path('images2/attribute_512p')"
   ]
  },
  {
   "cell_type": "code",
   "execution_count": 5,
   "id": "concrete-iceland",
   "metadata": {},
   "outputs": [],
   "source": [
    "data = {attr: [masks_fldr / f'{ID}_attribute_{attr}.png' for ID in trn_ids] for attr in ATTRIBUTES}\n",
    "data['images'] = [images_fldr / f'{ID}_semantic_synthesized_image.png' for ID in trn_ids]"
   ]
  },
  {
   "cell_type": "code",
   "execution_count": 6,
   "id": "parliamentary-pizza",
   "metadata": {},
   "outputs": [],
   "source": [
    "df_synth = pd.DataFrame(columns=['images']+ATTRIBUTES, data=data)"
   ]
  },
  {
   "cell_type": "code",
   "execution_count": 7,
   "id": "driven-complement",
   "metadata": {},
   "outputs": [],
   "source": [
    "targ_fldr = Path('synthesis_myconditions')\n",
    "targ_fldr.mkdir(exist_ok=False, parents=True)"
   ]
  },
  {
   "cell_type": "code",
   "execution_count": 8,
   "id": "through-commitment",
   "metadata": {},
   "outputs": [],
   "source": [
    "for seed in range(10):\n",
    "    df_orig = pd.read_csv(f'baseline/train_{seed}.csv')\n",
    "    df_add = df_synth.sample(frac=1, random_state=seed)\n",
    "    df_new = pd.concat([df_orig, df_add], axis=0)\n",
    "    df_new.to_csv(targ_fldr / f'train_{seed}.csv', index=False)"
   ]
  },
  {
   "cell_type": "code",
   "execution_count": 9,
   "id": "loving-dressing",
   "metadata": {},
   "outputs": [
    {
     "data": {
      "text/plain": [
       "(4938, 6)"
      ]
     },
     "execution_count": 9,
     "metadata": {},
     "output_type": "execute_result"
    }
   ],
   "source": [
    "df_new.shape"
   ]
  },
  {
   "cell_type": "markdown",
   "id": "based-currency",
   "metadata": {},
   "source": [
    "# synthesis augm"
   ]
  },
  {
   "cell_type": "code",
   "execution_count": 10,
   "id": "signed-briefing",
   "metadata": {},
   "outputs": [],
   "source": [
    "images_fldr = Path('images2/synthesis_augm/myconditions/train_latest/cut')\n",
    "masks_fldr = Path('images2/attribute_512p_augmented')"
   ]
  },
  {
   "cell_type": "code",
   "execution_count": 11,
   "id": "recreational-printing",
   "metadata": {},
   "outputs": [
    {
     "data": {
      "text/plain": [
       "['a_v0', 'a_v1', 'b_v0', 'b_v1']"
      ]
     },
     "execution_count": 11,
     "metadata": {},
     "output_type": "execute_result"
    }
   ],
   "source": [
    "[f'{ID}_v{j}' for ID in ['a', 'b'] for j in [0, 1]]"
   ]
  },
  {
   "cell_type": "code",
   "execution_count": 12,
   "id": "female-illness",
   "metadata": {},
   "outputs": [],
   "source": [
    "data = {attr: [masks_fldr / f'{ID}_attribute_{attr}_v{j}.png' for ID in trn_ids for j in range(4)] for attr in ATTRIBUTES}\n",
    "data['images'] = [images_fldr / f'{ID}_semantic_v{j}_synthesized_image.png' for ID in trn_ids for j in range(4)]"
   ]
  },
  {
   "cell_type": "code",
   "execution_count": 13,
   "id": "broke-camera",
   "metadata": {},
   "outputs": [],
   "source": [
    "df_synth = pd.DataFrame(columns=['images']+ATTRIBUTES, data=data)"
   ]
  },
  {
   "cell_type": "code",
   "execution_count": 14,
   "id": "chief-camping",
   "metadata": {},
   "outputs": [],
   "source": [
    "targ_fldr = Path('synthesis_augm_myconditions')\n",
    "targ_fldr.mkdir(exist_ok=False, parents=True)"
   ]
  },
  {
   "cell_type": "code",
   "execution_count": 15,
   "id": "intense-woman",
   "metadata": {},
   "outputs": [],
   "source": [
    "for seed in range(10):\n",
    "    df_orig = pd.read_csv(f'baseline/train_{seed}.csv')\n",
    "    df_add = df_synth.sample(frac=1, random_state=seed)\n",
    "    df_new = pd.concat([df_orig, df_add], axis=0)\n",
    "    df_new.to_csv(targ_fldr / f'train_{seed}.csv', index=False)"
   ]
  },
  {
   "cell_type": "code",
   "execution_count": 16,
   "id": "intended-constraint",
   "metadata": {},
   "outputs": [
    {
     "data": {
      "text/plain": [
       "(11970, 6)"
      ]
     },
     "execution_count": 16,
     "metadata": {},
     "output_type": "execute_result"
    }
   ],
   "source": [
    "df_new.shape"
   ]
  },
  {
   "cell_type": "code",
   "execution_count": null,
   "id": "comic-rubber",
   "metadata": {},
   "outputs": [],
   "source": []
  }
 ],
 "metadata": {
  "kernelspec": {
   "display_name": "main36",
   "language": "python",
   "name": "main36"
  },
  "language_info": {
   "codemirror_mode": {
    "name": "ipython",
    "version": 3
   },
   "file_extension": ".py",
   "mimetype": "text/x-python",
   "name": "python",
   "nbconvert_exporter": "python",
   "pygments_lexer": "ipython3",
   "version": "3.6.12"
  }
 },
 "nbformat": 4,
 "nbformat_minor": 5
}
