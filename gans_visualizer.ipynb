{
 "cells": [
  {
   "cell_type": "code",
   "execution_count": 14,
   "metadata": {
    "collapsed": true
   },
   "outputs": [],
   "source": [
    "import glob\n",
    "import numpy as np\n",
    "import shutil\n",
    "import sys\n",
    "import os\n",
    "import pandas as pd\n",
    "import matplotlib.pyplot as plt"
   ]
  },
  {
   "cell_type": "code",
   "execution_count": 15,
   "outputs": [],
   "source": [
    "path = \"/Users/nduginets/PycharmProjects/master-diploma/results-comet-gans\""
   ],
   "metadata": {
    "collapsed": false,
    "pycharm": {
     "name": "#%%\n"
    }
   }
  },
  {
   "cell_type": "code",
   "execution_count": 16,
   "outputs": [],
   "source": [
    "def get_vals(exec_type):\n",
    "    items = glob.glob(os.path.join(path, 'gans.train_'+exec_type+'.inceptionv4.split*'))\n",
    "    items = list(map(lambda x: os.path.join(x, 'val.csv'), items))\n",
    "    return items"
   ],
   "metadata": {
    "collapsed": false,
    "pycharm": {
     "name": "#%%\n"
    }
   }
  },
  {
   "cell_type": "code",
   "execution_count": 17,
   "outputs": [],
   "source": [
    "real = get_vals(\"Real\")\n",
    "pix2pix = get_vals(\"pix2pix\")"
   ],
   "metadata": {
    "collapsed": false,
    "pycharm": {
     "name": "#%%\n"
    }
   }
  },
  {
   "cell_type": "code",
   "execution_count": 18,
   "outputs": [],
   "source": [
    "def get_aucs(items):\n",
    "    res = []\n",
    "    for p in items:\n",
    "        res.append(pd.read_csv(p).iloc[-1]['auc'])\n",
    "    return np.array(res).astype(np.float)"
   ],
   "metadata": {
    "collapsed": false,
    "pycharm": {
     "name": "#%%\n"
    }
   }
  },
  {
   "cell_type": "code",
   "execution_count": 19,
   "outputs": [],
   "source": [
    "real_auc = get_aucs(real)"
   ],
   "metadata": {
    "collapsed": false,
    "pycharm": {
     "name": "#%%\n"
    }
   }
  },
  {
   "cell_type": "code",
   "execution_count": 20,
   "outputs": [],
   "source": [
    "pix2pix_auc = get_aucs(pix2pix)"
   ],
   "metadata": {
    "collapsed": false,
    "pycharm": {
     "name": "#%%\n"
    }
   }
  },
  {
   "cell_type": "markdown",
   "source": [
    "## average"
   ],
   "metadata": {
    "collapsed": false,
    "pycharm": {
     "name": "#%% md\n"
    }
   }
  },
  {
   "cell_type": "code",
   "execution_count": 21,
   "outputs": [
    {
     "name": "stdout",
     "output_type": "stream",
     "text": [
      "real average: 0.9430216853645537\n",
      "pix2pix average: 0.9417428585376739\n"
     ]
    }
   ],
   "source": [
    "real_average = np.average(real_auc)\n",
    "pix2pix_average = np.average(pix2pix_auc)\n",
    "\n",
    "print(\"real average:\", real_average)\n",
    "print(\"pix2pix average:\", pix2pix_average)"
   ],
   "metadata": {
    "collapsed": false,
    "pycharm": {
     "name": "#%%\n"
    }
   }
  },
  {
   "cell_type": "markdown",
   "source": [
    "## mean"
   ],
   "metadata": {
    "collapsed": false
   }
  },
  {
   "cell_type": "code",
   "execution_count": 22,
   "outputs": [
    {
     "name": "stdout",
     "output_type": "stream",
     "text": [
      "real mean: 0.9430216853645537\n",
      "pix2pix mean: 0.9417428585376739\n"
     ]
    }
   ],
   "source": [
    "real_mean = np.mean(real_auc)\n",
    "pix2pix_mean = np.mean(pix2pix_auc)\n",
    "\n",
    "print(\"real mean:\", real_mean)\n",
    "print(\"pix2pix mean:\", pix2pix_mean)"
   ],
   "metadata": {
    "collapsed": false,
    "pycharm": {
     "name": "#%%\n"
    }
   }
  },
  {
   "cell_type": "markdown",
   "source": [
    "## 25 percentile"
   ],
   "metadata": {
    "collapsed": false
   }
  },
  {
   "cell_type": "code",
   "execution_count": 23,
   "outputs": [
    {
     "name": "stdout",
     "output_type": "stream",
     "text": [
      "real 25 percentile: 0.9375084996652439\n",
      "pix2pix 25 percentile: 0.9389812301238598\n"
     ]
    }
   ],
   "source": [
    "real_25_percentile = np.percentile(real_auc, 25)\n",
    "pix2pix_25_percentile = np.percentile(pix2pix_auc, 25)\n",
    "\n",
    "print(\"real 25 percentile:\", real_25_percentile)\n",
    "print(\"pix2pix 25 percentile:\", pix2pix_25_percentile)"
   ],
   "metadata": {
    "collapsed": false,
    "pycharm": {
     "name": "#%%\n"
    }
   }
  },
  {
   "cell_type": "markdown",
   "source": [
    "## 75 percentile"
   ],
   "metadata": {
    "collapsed": false
   }
  },
  {
   "cell_type": "code",
   "execution_count": 24,
   "outputs": [
    {
     "name": "stdout",
     "output_type": "stream",
     "text": [
      "real 75 percentile: 0.9467718271403465\n",
      "pix2pix 75 percentile: 0.9487208657628253\n"
     ]
    }
   ],
   "source": [
    "real_75_percentile = np.percentile(real_auc, 75)\n",
    "pix2pix_75_percentile = np.percentile(pix2pix_auc, 75)\n",
    "\n",
    "print(\"real 75 percentile:\", real_75_percentile)\n",
    "print(\"pix2pix 75 percentile:\", pix2pix_75_percentile)"
   ],
   "metadata": {
    "collapsed": false,
    "pycharm": {
     "name": "#%%\n"
    }
   }
  },
  {
   "cell_type": "markdown",
   "source": [
    "## plots"
   ],
   "metadata": {
    "collapsed": false,
    "pycharm": {
     "name": "#%% md\n"
    }
   }
  },
  {
   "cell_type": "code",
   "execution_count": 25,
   "outputs": [
    {
     "name": "stdout",
     "output_type": "stream",
     "text": [
      "[1. 1. 1. 1. 1. 1. 1. 1. 1. 1. 1. 1. 1. 1. 1. 1. 1. 1. 1.]\n",
      "[0.92863812 0.94188844 0.94749561 0.94234742 0.94611997 0.93737708\n",
      " 0.94559168 0.95175328 0.94742369 0.93745554 0.95518976 0.94318301\n",
      " 0.94441611 0.93856965 0.93494749 0.93756146 0.95468502 0.94602713\n",
      " 0.93674157]\n",
      "[2. 2. 2. 2. 2. 2. 2. 2. 2. 2. 2. 2. 2. 2. 2. 2. 2. 2.]\n",
      "[0.94265341 0.95127469 0.89875722 0.9458519  0.93351823 0.95115177\n",
      " 0.93631397 0.94789313 0.94974475 0.94300517 0.93804006 0.94905431\n",
      " 0.94516408 0.93438258 0.94634619 0.94899678 0.94741846 0.94180475]\n"
     ]
    },
    {
     "data": {
      "text/plain": "<Figure size 1440x360 with 1 Axes>",
      "image/png": "[encoded data removed]"
     },
     "metadata": {
      "needs_background": "light"
     },
     "output_type": "display_data"
    }
   ],
   "source": [
    "def draw_runs(data, name, offset = 1):\n",
    "    offsets = np.empty(data.shape)\n",
    "    offsets.fill(offset)\n",
    "    print(offsets)\n",
    "    print(data)\n",
    "    plt.scatter(np.mean(data), offset, label=\"Mean %s\" % name, color=\"red\", s=200)\n",
    "    plt.scatter(np.percentile(data, 25), offset, label=\"25 percentile %s\" % name, color=\"green\", s=250)\n",
    "    plt.scatter(np.percentile(data, 75), offset, label=\"75 percentile %s\" % name, color=\"green\", s=250)\n",
    "    plt.scatter(data, offsets, label=\"Experiments %s\" % name, color=\"blue\", s=50)\n",
    "    plt.legend()\n",
    "\n",
    "\n",
    "plt.figure(figsize=(20, 5))\n",
    "draw_runs(real_auc, \"real\")\n",
    "draw_runs(pix2pix_auc, \"pix2pix\", 2)\n",
    "plt.show()"
   ],
   "metadata": {
    "collapsed": false,
    "pycharm": {
     "name": "#%%\n"
    }
   }
  }
 ],
 "metadata": {
  "kernelspec": {
   "display_name": "Python 3",
   "language": "python",
   "name": "python3"
  },
  "language_info": {
   "codemirror_mode": {
    "name": "ipython",
    "version": 2
   },
   "file_extension": ".py",
   "mimetype": "text/x-python",
   "name": "python",
   "nbconvert_exporter": "python",
   "pygments_lexer": "ipython2",
   "version": "2.7.6"
  }
 },
 "nbformat": 4,
 "nbformat_minor": 0
}