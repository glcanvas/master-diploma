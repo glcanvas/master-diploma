{
 "cells": [
  {
   "cell_type": "code",
   "execution_count": 1,
   "metadata": {},
   "outputs": [],
   "source": [
    "import sys\n",
    "import os\n",
    "\n",
    "import glob\n",
    "import numpy as np\n",
    "import matplotlib.pyplot as plt\n",
    "from scipy import misc\n",
    "import os\n",
    "from tqdm import tqdm\n",
    "from PIL import Image\n",
    "from joblib import Parallel, delayed\n",
    "\n",
    "import numpy\n",
    "\n",
    "from numpy import (amin, amax, ravel, asarray, arange, ones, newaxis,\n",
    "                   transpose, iscomplexobj, uint8, issubdtype, array)\n",
    "\n",
    "import csv\n",
    "import queue\n",
    "import numpy as np\n",
    "import matplotlib.pyplot as plt\n",
    "import math\n",
    "import matplotlib.image as mpimg\n",
    "import glob\n",
    "import json\n",
    "import os\n",
    "import torch\n",
    "import torch.nn as nn\n",
    "import torch\n",
    "from torch.autograd import Variable\n",
    "import torch.nn.functional as F\n",
    "import torch.optim as optim\n",
    "from torch.utils.data import DataLoader, sampler\n",
    "import pandas as pd\n",
    "import copy\n",
    "from tqdm import tqdm\n"
   ]
  },
  {
   "cell_type": "code",
   "execution_count": 2,
   "metadata": {},
   "outputs": [],
   "source": [
    "base_path = \"/nfs/home/nduginets/\"\n",
    "dataset_path = os.path.join(base_path, \"master-diploma/GAN_to_box/test_data/isic_2018_boxes.csv\")\n",
    "\n",
    "imgs_path = \"/mnt/tank/scratch/nduginets/images/pix2pix_datasets/base_dataset_folder/images_512p\"\n",
    "\n",
    "frame = pd.read_csv(dataset_path)\n",
    "images_list = sorted(glob.glob(os.path.join(imgs_path, \"*.png\")))\n",
    "\n",
    "images_names = list(map(lambda x: x.split(\"/\")[-1].split(\".\")[0], images_list))\n"
   ]
  },
  {
   "cell_type": "code",
   "execution_count": 3,
   "metadata": {},
   "outputs": [],
   "source": [
    "frame[\"name\"] = images_names"
   ]
  },
  {
   "cell_type": "code",
   "execution_count": 4,
   "metadata": {},
   "outputs": [],
   "source": [
    "frame.to_csv(\"bounding_boxes_metadata.csv\", index=False)"
   ]
  },
  {
   "cell_type": "code",
   "execution_count": null,
   "metadata": {},
   "outputs": [],
   "source": []
  }
 ],
 "metadata": {
  "kernelspec": {
   "display_name": "Python 3",
   "language": "python",
   "name": "python3"
  },
  "language_info": {
   "codemirror_mode": {
    "name": "ipython",
    "version": 3
   },
   "file_extension": ".py",
   "mimetype": "text/x-python",
   "name": "python",
   "nbconvert_exporter": "python",
   "pygments_lexer": "ipython3",
   "version": "3.7.12"
  }
 },
 "nbformat": 4,
 "nbformat_minor": 4
}
