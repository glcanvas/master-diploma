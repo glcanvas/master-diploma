{
 "cells": [
  {
   "cell_type": "code",
   "execution_count": 61,
   "metadata": {
    "collapsed": true
   },
   "outputs": [],
   "source": [
    "import numpy as np\n",
    "import matplotlib.pyplot as plt\n",
    "import math\n",
    "import matplotlib.image as mpimg\n",
    "import glob\n",
    "import json\n",
    "import os\n",
    "import torch\n",
    "import torch.nn as nn\n",
    "import torch\n",
    "from torch.autograd import Variable\n",
    "import torch.nn.functional as F\n",
    "import torch.optim as optim\n",
    "from torch.utils.data import DataLoader, sampler\n",
    "import pandas as pd\n",
    "import copy\n",
    "from tqdm import tqdm"
   ]
  },
  {
   "cell_type": "code",
   "execution_count": 62,
   "outputs": [],
   "source": [
    "base_path = \"/Users/nduginets/PycharmProjects/\"\n",
    "dataset_path = os.path.join(base_path, \"master-diploma/GAN_to_box/test_data/isic_2018_boxes.csv\")\n",
    "shifted_path = os.path.join(base_path, \"master-diploma/GAN_to_box/test_data/isic_2018_boxes_shifted.csv\")\n",
    "\n",
    "frame = pd.read_csv(dataset_path)"
   ],
   "metadata": {
    "collapsed": false,
    "pycharm": {
     "name": "#%%\n"
    }
   }
  },
  {
   "cell_type": "code",
   "execution_count": 63,
   "outputs": [
    {
     "data": {
      "text/plain": "[Index(['segm_x_0', 'segm_y_0', 'segm_x_size_0', 'segm_y_size_0', 'segm_x_1',\n        'segm_y_1', 'segm_x_size_1', 'segm_y_size_1', 'segm_x_2', 'segm_y_2',\n        'segm_x_size_2', 'segm_y_size_2', 'segm_x_3', 'segm_y_3',\n        'segm_x_size_3', 'segm_y_size_3', 'segm_x_4', 'segm_y_4',\n        'segm_x_size_4', 'segm_y_size_4', 'segm_x_5', 'segm_y_5',\n        'segm_x_size_5', 'segm_y_size_5', 'segm_x_6', 'segm_y_6',\n        'segm_x_size_6', 'segm_y_size_6', 'segm_x_7', 'segm_y_7',\n        'segm_x_size_7', 'segm_y_size_7', 'segm_x_8', 'segm_y_8',\n        'segm_x_size_8', 'segm_y_size_8', 'segm_x_9', 'segm_y_9',\n        'segm_x_size_9', 'segm_y_size_9', 'segm_x_10', 'segm_y_10',\n        'segm_x_size_10', 'segm_y_size_10', 'segm_x_11', 'segm_y_11',\n        'segm_x_size_11', 'segm_y_size_11', 'segm_x_12', 'segm_y_12',\n        'segm_x_size_12', 'segm_y_size_12', 'segm_x_13', 'segm_y_13',\n        'segm_x_size_13', 'segm_y_size_13', 'segm_x_14', 'segm_y_14',\n        'segm_x_size_14', 'segm_y_size_14'],\n       dtype='object'),\n Index(['globules_x_0', 'globules_y_0', 'globules_x_size_0',\n        'globules_y_size_0', 'globules_x_1', 'globules_y_1',\n        'globules_x_size_1', 'globules_y_size_1', 'globules_x_2',\n        'globules_y_2', 'globules_x_size_2', 'globules_y_size_2',\n        'globules_x_3', 'globules_y_3', 'globules_x_size_3',\n        'globules_y_size_3', 'globules_x_4', 'globules_y_4',\n        'globules_x_size_4', 'globules_y_size_4', 'globules_x_5',\n        'globules_y_5', 'globules_x_size_5', 'globules_y_size_5',\n        'globules_x_6', 'globules_y_6', 'globules_x_size_6',\n        'globules_y_size_6', 'globules_x_7', 'globules_y_7',\n        'globules_x_size_7', 'globules_y_size_7', 'globules_x_8',\n        'globules_y_8', 'globules_x_size_8', 'globules_y_size_8',\n        'globules_x_9', 'globules_y_9', 'globules_x_size_9',\n        'globules_y_size_9', 'globules_x_10', 'globules_y_10',\n        'globules_x_size_10', 'globules_y_size_10', 'globules_x_11',\n        'globules_y_11', 'globules_x_size_11', 'globules_y_size_11',\n        'globules_x_12', 'globules_y_12', 'globules_x_size_12',\n        'globules_y_size_12', 'globules_x_13', 'globules_y_13',\n        'globules_x_size_13', 'globules_y_size_13', 'globules_x_14',\n        'globules_y_14', 'globules_x_size_14', 'globules_y_size_14'],\n       dtype='object'),\n Index(['milia_like_cyst_x_0', 'milia_like_cyst_y_0',\n        'milia_like_cyst_x_size_0', 'milia_like_cyst_y_size_0',\n        'milia_like_cyst_x_1', 'milia_like_cyst_y_1',\n        'milia_like_cyst_x_size_1', 'milia_like_cyst_y_size_1',\n        'milia_like_cyst_x_2', 'milia_like_cyst_y_2',\n        'milia_like_cyst_x_size_2', 'milia_like_cyst_y_size_2',\n        'milia_like_cyst_x_3', 'milia_like_cyst_y_3',\n        'milia_like_cyst_x_size_3', 'milia_like_cyst_y_size_3',\n        'milia_like_cyst_x_4', 'milia_like_cyst_y_4',\n        'milia_like_cyst_x_size_4', 'milia_like_cyst_y_size_4',\n        'milia_like_cyst_x_5', 'milia_like_cyst_y_5',\n        'milia_like_cyst_x_size_5', 'milia_like_cyst_y_size_5',\n        'milia_like_cyst_x_6', 'milia_like_cyst_y_6',\n        'milia_like_cyst_x_size_6', 'milia_like_cyst_y_size_6',\n        'milia_like_cyst_x_7', 'milia_like_cyst_y_7',\n        'milia_like_cyst_x_size_7', 'milia_like_cyst_y_size_7',\n        'milia_like_cyst_x_8', 'milia_like_cyst_y_8',\n        'milia_like_cyst_x_size_8', 'milia_like_cyst_y_size_8',\n        'milia_like_cyst_x_9', 'milia_like_cyst_y_9',\n        'milia_like_cyst_x_size_9', 'milia_like_cyst_y_size_9',\n        'milia_like_cyst_x_10', 'milia_like_cyst_y_10',\n        'milia_like_cyst_x_size_10', 'milia_like_cyst_y_size_10',\n        'milia_like_cyst_x_11', 'milia_like_cyst_y_11',\n        'milia_like_cyst_x_size_11', 'milia_like_cyst_y_size_11',\n        'milia_like_cyst_x_12', 'milia_like_cyst_y_12',\n        'milia_like_cyst_x_size_12', 'milia_like_cyst_y_size_12',\n        'milia_like_cyst_x_13', 'milia_like_cyst_y_13',\n        'milia_like_cyst_x_size_13', 'milia_like_cyst_y_size_13',\n        'milia_like_cyst_x_14', 'milia_like_cyst_y_14',\n        'milia_like_cyst_x_size_14', 'milia_like_cyst_y_size_14'],\n       dtype='object'),\n Index(['negative_network_x_0', 'negative_network_y_0',\n        'negative_network_x_size_0', 'negative_network_y_size_0',\n        'negative_network_x_1', 'negative_network_y_1',\n        'negative_network_x_size_1', 'negative_network_y_size_1',\n        'negative_network_x_2', 'negative_network_y_2',\n        'negative_network_x_size_2', 'negative_network_y_size_2',\n        'negative_network_x_3', 'negative_network_y_3',\n        'negative_network_x_size_3', 'negative_network_y_size_3',\n        'negative_network_x_4', 'negative_network_y_4',\n        'negative_network_x_size_4', 'negative_network_y_size_4',\n        'negative_network_x_5', 'negative_network_y_5',\n        'negative_network_x_size_5', 'negative_network_y_size_5',\n        'negative_network_x_6', 'negative_network_y_6',\n        'negative_network_x_size_6', 'negative_network_y_size_6',\n        'negative_network_x_7', 'negative_network_y_7',\n        'negative_network_x_size_7', 'negative_network_y_size_7',\n        'negative_network_x_8', 'negative_network_y_8',\n        'negative_network_x_size_8', 'negative_network_y_size_8',\n        'negative_network_x_9', 'negative_network_y_9',\n        'negative_network_x_size_9', 'negative_network_y_size_9',\n        'negative_network_x_10', 'negative_network_y_10',\n        'negative_network_x_size_10', 'negative_network_y_size_10',\n        'negative_network_x_11', 'negative_network_y_11',\n        'negative_network_x_size_11', 'negative_network_y_size_11',\n        'negative_network_x_12', 'negative_network_y_12',\n        'negative_network_x_size_12', 'negative_network_y_size_12',\n        'negative_network_x_13', 'negative_network_y_13',\n        'negative_network_x_size_13', 'negative_network_y_size_13',\n        'negative_network_x_14', 'negative_network_y_14',\n        'negative_network_x_size_14', 'negative_network_y_size_14'],\n       dtype='object'),\n Index(['pigment_network_x_0', 'pigment_network_y_0',\n        'pigment_network_x_size_0', 'pigment_network_y_size_0',\n        'pigment_network_x_1', 'pigment_network_y_1',\n        'pigment_network_x_size_1', 'pigment_network_y_size_1',\n        'pigment_network_x_2', 'pigment_network_y_2',\n        'pigment_network_x_size_2', 'pigment_network_y_size_2',\n        'pigment_network_x_3', 'pigment_network_y_3',\n        'pigment_network_x_size_3', 'pigment_network_y_size_3',\n        'pigment_network_x_4', 'pigment_network_y_4',\n        'pigment_network_x_size_4', 'pigment_network_y_size_4',\n        'pigment_network_x_5', 'pigment_network_y_5',\n        'pigment_network_x_size_5', 'pigment_network_y_size_5',\n        'pigment_network_x_6', 'pigment_network_y_6',\n        'pigment_network_x_size_6', 'pigment_network_y_size_6',\n        'pigment_network_x_7', 'pigment_network_y_7',\n        'pigment_network_x_size_7', 'pigment_network_y_size_7',\n        'pigment_network_x_8', 'pigment_network_y_8',\n        'pigment_network_x_size_8', 'pigment_network_y_size_8',\n        'pigment_network_x_9', 'pigment_network_y_9',\n        'pigment_network_x_size_9', 'pigment_network_y_size_9',\n        'pigment_network_x_10', 'pigment_network_y_10',\n        'pigment_network_x_size_10', 'pigment_network_y_size_10',\n        'pigment_network_x_11', 'pigment_network_y_11',\n        'pigment_network_x_size_11', 'pigment_network_y_size_11',\n        'pigment_network_x_12', 'pigment_network_y_12',\n        'pigment_network_x_size_12', 'pigment_network_y_size_12',\n        'pigment_network_x_13', 'pigment_network_y_13',\n        'pigment_network_x_size_13', 'pigment_network_y_size_13',\n        'pigment_network_x_14', 'pigment_network_y_14',\n        'pigment_network_x_size_14', 'pigment_network_y_size_14'],\n       dtype='object'),\n Index(['streaks_x_0', 'streaks_y_0', 'streaks_x_size_0', 'streaks_y_size_0',\n        'streaks_x_1', 'streaks_y_1', 'streaks_x_size_1', 'streaks_y_size_1',\n        'streaks_x_2', 'streaks_y_2', 'streaks_x_size_2', 'streaks_y_size_2',\n        'streaks_x_3', 'streaks_y_3', 'streaks_x_size_3', 'streaks_y_size_3',\n        'streaks_x_4', 'streaks_y_4', 'streaks_x_size_4', 'streaks_y_size_4',\n        'streaks_x_5', 'streaks_y_5', 'streaks_x_size_5', 'streaks_y_size_5',\n        'streaks_x_6', 'streaks_y_6', 'streaks_x_size_6', 'streaks_y_size_6',\n        'streaks_x_7', 'streaks_y_7', 'streaks_x_size_7', 'streaks_y_size_7',\n        'streaks_x_8', 'streaks_y_8', 'streaks_x_size_8', 'streaks_y_size_8',\n        'streaks_x_9', 'streaks_y_9', 'streaks_x_size_9', 'streaks_y_size_9',\n        'streaks_x_10', 'streaks_y_10', 'streaks_x_size_10',\n        'streaks_y_size_10', 'streaks_x_11', 'streaks_y_11',\n        'streaks_x_size_11', 'streaks_y_size_11', 'streaks_x_12',\n        'streaks_y_12', 'streaks_x_size_12', 'streaks_y_size_12',\n        'streaks_x_13', 'streaks_y_13', 'streaks_x_size_13',\n        'streaks_y_size_13', 'streaks_x_14', 'streaks_y_14',\n        'streaks_x_size_14', 'streaks_y_size_14'],\n       dtype='object')]"
     },
     "execution_count": 63,
     "metadata": {},
     "output_type": "execute_result"
    }
   ],
   "source": [
    "#  4 * 15\n",
    "sz = 4 * 15\n",
    "columns = frame.columns[1:]\n",
    "\n",
    "attributes = [\n",
    "    columns[i * sz: (i + 1) * sz]\n",
    "    for i in range(6)\n",
    "]\n",
    "attributes"
   ],
   "metadata": {
    "collapsed": false,
    "pycharm": {
     "name": "#%%\n"
    }
   }
  },
  {
   "cell_type": "code",
   "execution_count": 64,
   "outputs": [
    {
     "data": {
      "text/plain": "<Figure size 432x288 with 0 Axes>"
     },
     "metadata": {},
     "output_type": "display_data"
    }
   ],
   "source": [
    "\n",
    "def noise_row(row, x_offset, y_offset, x_wide, y_wide):\n",
    "    for j, attribute in enumerate(attributes):\n",
    "        for i, a in enumerate(attribute):\n",
    "            if \"x_size\" in a:\n",
    "                row[j * sz + i] *= x_wide\n",
    "            elif \"y_size\" in a:\n",
    "                row[j * sz + i] *= y_wide\n",
    "            elif \"x\" in a:\n",
    "                row[j * sz + i] *= x_offset\n",
    "            elif \"y\" in a:\n",
    "                row[j * sz + i] *= y_offset\n",
    "    return row\n",
    "\n",
    "def draw_image(row, offset, name):\n",
    "    image_size = 1024\n",
    "    calibrate_to_borders = lambda s: max(0, min(s, image_size))\n",
    "    image = np.zeros((image_size, image_size))\n",
    "    parts = row[offset * sz: (offset + 1) * sz]\n",
    "    for idx in range(0, len(parts), 4):\n",
    "        x = calibrate_to_borders(int(parts[idx] * image_size))\n",
    "        y = calibrate_to_borders(int(parts[idx + 1] * image_size))\n",
    "        x_sz = calibrate_to_borders(int(parts[idx + 2] * image_size))\n",
    "        y_sz = calibrate_to_borders(int(parts[idx + 3] * image_size))\n",
    "\n",
    "        image[x: x + x_sz, y: y + y_sz] = 1\n",
    "\n",
    "    plt.clf()\n",
    "    plt.imsave(name, image)\n",
    "    # , interpolation='none'\n",
    "    # plt.savefig(name)\n",
    "\n",
    "a = frame.iloc[2][1:]\n",
    "modified_a = noise_row(a, 0.4, 0.1, 1.5, 1)\n",
    "draw_image(modified_a, 0, os.path.join(\"./\", \"test1.png\"))"
   ],
   "metadata": {
    "collapsed": false,
    "pycharm": {
     "name": "#%%\n"
    }
   }
  },
  {
   "cell_type": "code",
   "execution_count": 65,
   "outputs": [],
   "source": [
    "SEGMENTATION_PATH = \"/Users/nduginets/PycharmProjects/master-diploma/bboxes/segmentation\"\n",
    "ATTRIBUTES_PATH = \"/Users/nduginets/PycharmProjects/master-diploma/bboxes/attributes\"\n",
    "\n",
    "os.makedirs(SEGMENTATION_PATH, exist_ok=True)\n",
    "os.makedirs(ATTRIBUTES_PATH, exist_ok=True)\n",
    "\n",
    "type_path_offset_list = [\n",
    "    (\"segmentation\", 0, SEGMENTATION_PATH),\n",
    "    (\"attribute_globules\", 1, ATTRIBUTES_PATH),\n",
    "    (\"attribute_milia_like_cyst\", 2, ATTRIBUTES_PATH),\n",
    "    (\"attribute_negative_network\", 3, ATTRIBUTES_PATH),\n",
    "    (\"attribute_pigment_network\", 4, ATTRIBUTES_PATH),\n",
    "    (\"attribute_streaks\", 5, ATTRIBUTES_PATH),\n",
    "]"
   ],
   "metadata": {
    "collapsed": false,
    "pycharm": {
     "name": "#%%%\n"
    }
   }
  },
  {
   "cell_type": "code",
   "execution_count": 66,
   "outputs": [
    {
     "name": "stdout",
     "output_type": "stream",
     "text": [
      "ISIC_1000000\n"
     ]
    }
   ],
   "source": [
    "def fill_zeros(index, number_to_fill = '9'):\n",
    "    number = str(index)\n",
    "    return \"ISIC_\" + number_to_fill * (7 - len(number)) + number\n",
    "\n",
    "print(fill_zeros(1_00_00_00))"
   ],
   "metadata": {
    "collapsed": false,
    "pycharm": {
     "name": "#%%%\n"
    }
   }
  },
  {
   "cell_type": "code",
   "execution_count": 67,
   "outputs": [
    {
     "data": {
      "text/plain": "<Figure size 432x288 with 0 Axes>"
     },
     "metadata": {},
     "output_type": "display_data"
    }
   ],
   "source": [
    "def process_single_item(modified_row, index, letter='9'):\n",
    "    for name, offset, path in type_path_offset_list:\n",
    "        full_path = os.path.join(path, fill_zeros(index, letter) + \"_\" + name + \".png\")\n",
    "        draw_image(modified_row, offset, full_path)\n",
    "\n",
    "process_single_item(modified_a, \"1234\")"
   ],
   "metadata": {
    "collapsed": false,
    "pycharm": {
     "name": "#%%\n"
    }
   }
  },
  {
   "cell_type": "code",
   "execution_count": 68,
   "outputs": [
    {
     "name": "stderr",
     "output_type": "stream",
     "text": [
      "0it [00:00, ?it/s]\n"
     ]
    },
    {
     "name": "stdout",
     "output_type": "stream",
     "text": [
      "[0.3333333333333333, 0.6666666666666666, 1.0, 1.3333333333333333, 1.6666666666666667, 2.0]\n"
     ]
    }
   ],
   "source": [
    "args = [i / 3 for i in range(1, 7)]\n",
    "print(args)\n",
    "\n",
    "def create_dataset(indexes_to_use, letter='9'):\n",
    "    image_cnt = 1\n",
    "    for idx in tqdm(indexes_to_use):\n",
    "        for x_a in args:\n",
    "            for y_a in args:\n",
    "                for x_s_a in args:\n",
    "                    for y_s_a in args:\n",
    "                        row = frame.iloc[idx][1:]\n",
    "                        modified_row = noise_row(row, x_a, y_a, x_s_a, y_s_a)\n",
    "                        process_single_item(modified_row, image_cnt, letter)\n",
    "                        image_cnt += 1\n",
    "\n",
    "create_dataset([])"
   ],
   "metadata": {
    "collapsed": false,
    "pycharm": {
     "name": "#%%\n"
    }
   }
  },
  {
   "cell_type": "code",
   "execution_count": 69,
   "outputs": [
    {
     "data": {
      "text/plain": "(1, 0, 1, 0, 1, 0)"
     },
     "execution_count": 69,
     "metadata": {},
     "output_type": "execute_result"
    }
   ],
   "source": [
    "def fill_cnt_tensor(t):\n",
    "        zeros = np.zeros((6, 16))\n",
    "        for des in range(0, 6):\n",
    "            cnt = 0\n",
    "            for i in range(0, 15):\n",
    "                offset = des * sz + i * 4\n",
    "                if t[offset] != 0:\n",
    "                    cnt += 1\n",
    "            zeros[des][cnt] = 1\n",
    "        return tuple(np.argmax(zeros, axis=1))\n",
    "fill_cnt_tensor(frame.iloc[2][1:])"
   ],
   "metadata": {
    "collapsed": false,
    "pycharm": {
     "name": "#%%\n"
    }
   }
  },
  {
   "cell_type": "code",
   "execution_count": 70,
   "outputs": [
    {
     "data": {
      "text/plain": "[((1, 0, 0, 0, 0, 0), 493),\n ((1, 0, 0, 0, 1, 0), 398),\n ((1, 0, 0, 0, 2, 0), 141),\n ((1, 0, 0, 0, 3, 0), 79),\n ((1, 1, 0, 0, 0, 0), 70),\n ((1, 0, 2, 0, 0, 0), 56),\n ((1, 0, 1, 0, 0, 0), 55),\n ((1, 0, 0, 0, 4, 0), 54),\n ((1, 0, 1, 0, 1, 0), 42),\n ((1, 0, 3, 0, 0, 0), 34),\n ((1, 0, 0, 0, 5, 0), 24),\n ((1, 1, 0, 0, 1, 0), 24),\n ((1, 0, 0, 1, 0, 0), 21),\n ((1, 0, 2, 0, 1, 0), 20),\n ((1, 2, 0, 0, 1, 0), 18),\n ((1, 2, 0, 0, 0, 0), 18),\n ((1, 4, 0, 0, 0, 0), 17),\n ((1, 0, 5, 0, 0, 0), 16),\n ((1, 0, 0, 0, 6, 0), 16),\n ((1, 3, 0, 0, 0, 0), 14),\n ((1, 0, 1, 0, 2, 0), 14),\n ((1, 0, 4, 0, 0, 0), 14),\n ((2, 0, 0, 0, 1, 0), 13),\n ((1, 0, 1, 0, 3, 0), 13),\n ((1, 0, 3, 0, 1, 0), 13),\n ((2, 0, 0, 0, 0, 0), 12),\n ((1, 0, 6, 0, 0, 0), 11),\n ((1, 0, 2, 0, 2, 0), 11),\n ((1, 0, 7, 0, 0, 0), 11),\n ((1, 5, 0, 0, 0, 0), 10),\n ((0, 0, 0, 0, 0, 0), 10),\n ((1, 0, 0, 1, 1, 0), 9),\n ((1, 1, 0, 0, 2, 0), 9),\n ((1, 1, 1, 0, 0, 0), 9),\n ((1, 4, 0, 0, 1, 0), 8),\n ((1, 3, 0, 0, 1, 0), 8),\n ((1, 0, 0, 0, 7, 0), 8),\n ((1, 6, 0, 0, 1, 0), 7),\n ((2, 0, 0, 0, 3, 0), 7),\n ((1, 5, 0, 0, 1, 0), 7),\n ((1, 0, 0, 2, 0, 0), 7),\n ((1, 2, 0, 0, 3, 0), 7),\n ((1, 0, 10, 0, 0, 0), 7),\n ((1, 0, 4, 0, 1, 0), 7),\n ((1, 1, 0, 0, 3, 0), 6),\n ((1, 5, 0, 0, 2, 0), 6),\n ((1, 0, 0, 1, 2, 0), 6),\n ((0, 0, 0, 0, 1, 0), 6),\n ((1, 3, 0, 0, 2, 0), 6),\n ((1, 0, 3, 0, 2, 0), 6),\n ((1, 0, 2, 0, 3, 0), 6),\n ((1, 0, 0, 1, 3, 0), 5),\n ((1, 2, 0, 0, 4, 0), 5),\n ((1, 3, 0, 0, 3, 0), 5),\n ((1, 0, 0, 0, 9, 0), 5),\n ((1, 2, 0, 0, 2, 0), 5),\n ((1, 0, 6, 0, 2, 0), 5),\n ((1, 0, 0, 0, 8, 0), 5),\n ((1, 0, 1, 0, 4, 0), 5),\n ((1, 0, 5, 0, 1, 0), 5),\n ((1, 0, 15, 0, 0, 0), 5),\n ((1, 0, 6, 0, 1, 0), 5),\n ((1, 7, 0, 0, 1, 0), 4),\n ((1, 0, 0, 0, 1, 1), 4),\n ((1, 1, 0, 0, 1, 1), 4),\n ((0, 0, 0, 0, 3, 0), 4),\n ((1, 0, 4, 0, 2, 0), 4),\n ((1, 1, 0, 0, 4, 0), 4),\n ((2, 0, 0, 0, 2, 0), 4),\n ((1, 1, 3, 0, 0, 0), 4),\n ((2, 1, 0, 0, 0, 0), 4),\n ((1, 7, 0, 0, 0, 0), 4),\n ((1, 0, 5, 0, 2, 0), 4),\n ((1, 0, 0, 0, 0, 1), 4),\n ((1, 0, 4, 0, 3, 0), 4),\n ((1, 0, 0, 3, 0, 0), 3),\n ((1, 1, 0, 0, 5, 0), 3),\n ((1, 2, 0, 0, 5, 0), 3),\n ((1, 10, 0, 0, 0, 0), 3),\n ((1, 0, 0, 0, 0, 2), 3),\n ((1, 5, 0, 0, 3, 0), 3),\n ((1, 0, 0, 3, 1, 0), 3),\n ((1, 0, 5, 1, 0, 0), 3),\n ((1, 2, 0, 0, 0, 2), 3),\n ((1, 2, 1, 0, 1, 0), 3),\n ((1, 0, 6, 0, 3, 0), 3),\n ((1, 4, 0, 0, 4, 0), 3),\n ((1, 0, 0, 2, 1, 0), 3),\n ((1, 0, 0, 2, 3, 0), 3),\n ((1, 0, 0, 1, 4, 0), 3),\n ((1, 0, 1, 0, 6, 0), 3),\n ((0, 0, 0, 0, 2, 0), 3),\n ((1, 2, 1, 0, 0, 0), 3),\n ((1, 0, 4, 0, 4, 0), 3),\n ((1, 0, 15, 0, 1, 0), 3),\n ((1, 0, 3, 0, 6, 0), 3),\n ((1, 0, 10, 0, 1, 0), 3),\n ((1, 1, 0, 0, 0, 1), 3),\n ((1, 0, 9, 0, 2, 0), 3),\n ((1, 0, 8, 0, 0, 0), 3),\n ((1, 1, 2, 0, 1, 0), 3),\n ((1, 0, 3, 0, 3, 0), 3),\n ((3, 0, 0, 0, 1, 0), 3),\n ((1, 2, 4, 0, 1, 0), 3),\n ((5, 0, 0, 0, 1, 0), 2),\n ((6, 0, 0, 0, 6, 0), 2),\n ((1, 4, 0, 0, 3, 0), 2),\n ((1, 6, 1, 0, 1, 0), 2),\n ((1, 0, 0, 0, 0, 3), 2),\n ((1, 2, 0, 0, 1, 2), 2),\n ((1, 8, 0, 0, 1, 0), 2),\n ((1, 4, 0, 5, 0, 0), 2),\n ((1, 6, 0, 0, 0, 0), 2),\n ((1, 3, 0, 0, 3, 4), 2),\n ((1, 8, 0, 0, 3, 0), 2),\n ((1, 0, 0, 0, 0, 4), 2),\n ((0, 0, 0, 1, 1, 0), 2),\n ((1, 9, 0, 0, 1, 0), 2),\n ((1, 12, 0, 0, 1, 0), 2),\n ((1, 12, 0, 0, 0, 0), 2),\n ((1, 4, 0, 0, 0, 4), 2),\n ((1, 15, 0, 0, 1, 0), 2),\n ((1, 8, 0, 0, 2, 0), 2),\n ((1, 0, 0, 4, 0, 0), 2),\n ((1, 0, 0, 0, 2, 1), 2),\n ((1, 0, 0, 0, 1, 2), 2),\n ((1, 8, 0, 0, 0, 0), 2),\n ((1, 1, 0, 0, 6, 0), 2),\n ((1, 3, 1, 0, 0, 0), 2),\n ((1, 0, 0, 0, 0, 5), 2),\n ((1, 4, 4, 0, 0, 0), 2),\n ((1, 2, 3, 0, 0, 0), 2),\n ((1, 4, 0, 0, 2, 0), 2),\n ((1, 0, 5, 0, 4, 0), 2),\n ((1, 0, 7, 0, 2, 0), 2),\n ((1, 0, 0, 0, 1, 4), 2),\n ((1, 3, 3, 0, 1, 0), 2),\n ((11, 0, 0, 0, 0, 0), 2),\n ((3, 0, 0, 0, 0, 0), 2),\n ((6, 0, 0, 0, 0, 0), 2),\n ((4, 0, 0, 0, 2, 0), 2),\n ((1, 4, 1, 0, 2, 0), 2),\n ((1, 0, 0, 0, 15, 0), 2),\n ((1, 0, 1, 2, 0, 0), 2),\n ((0, 0, 10, 0, 2, 0), 2),\n ((1, 2, 4, 0, 0, 0), 2),\n ((1, 0, 4, 1, 0, 0), 2),\n ((1, 7, 0, 0, 2, 0), 2),\n ((1, 0, 7, 0, 1, 0), 2),\n ((1, 0, 1, 1, 3, 0), 2),\n ((1, 1, 1, 0, 1, 0), 2),\n ((1, 1, 2, 0, 2, 0), 2),\n ((1, 1, 0, 0, 2, 2), 2),\n ((2, 0, 2, 0, 0, 0), 2),\n ((1, 4, 1, 0, 0, 0), 2),\n ((1, 0, 3, 0, 4, 0), 2),\n ((1, 1, 1, 1, 0, 0), 2),\n ((1, 0, 4, 0, 5, 0), 2),\n ((1, 1, 3, 0, 2, 0), 2),\n ((1, 0, 9, 0, 0, 0), 2),\n ((1, 0, 13, 0, 0, 0), 2),\n ((1, 0, 2, 0, 5, 0), 2),\n ((1, 1, 3, 0, 1, 0), 2),\n ((1, 0, 1, 1, 0, 0), 2),\n ((1, 0, 8, 0, 2, 0), 2),\n ((1, 0, 9, 0, 4, 0), 2),\n ((2, 0, 0, 0, 4, 0), 2),\n ((0, 0, 0, 0, 4, 0), 2),\n ((1, 0, 0, 2, 4, 0), 2),\n ((1, 0, 2, 0, 9, 0), 2),\n ((5, 0, 0, 0, 0, 0), 2),\n ((1, 1, 0, 0, 2, 3), 1),\n ((1, 15, 0, 0, 5, 0), 1),\n ((1, 2, 1, 0, 3, 0), 1),\n ((1, 12, 0, 0, 6, 7), 1),\n ((1, 10, 0, 0, 5, 0), 1),\n ((2, 6, 0, 0, 1, 0), 1),\n ((4, 11, 0, 0, 0, 0), 1),\n ((1, 6, 0, 0, 4, 4), 1),\n ((2, 12, 0, 0, 5, 0), 1),\n ((1, 3, 0, 0, 1, 1), 1),\n ((1, 3, 0, 2, 4, 0), 1),\n ((1, 4, 0, 0, 5, 0), 1),\n ((1, 13, 0, 1, 10, 0), 1),\n ((1, 12, 0, 0, 8, 0), 1),\n ((3, 9, 0, 0, 7, 0), 1),\n ((1, 11, 0, 0, 3, 0), 1),\n ((1, 3, 0, 0, 3, 3), 1),\n ((3, 0, 5, 0, 7, 0), 1),\n ((2, 1, 0, 0, 1, 0), 1),\n ((1, 12, 0, 0, 2, 3), 1),\n ((1, 0, 3, 1, 6, 0), 1),\n ((2, 0, 0, 0, 1, 7), 1),\n ((1, 11, 0, 0, 0, 0), 1),\n ((1, 0, 0, 0, 3, 11), 1),\n ((1, 11, 0, 0, 9, 5), 1),\n ((1, 11, 0, 0, 2, 0), 1),\n ((1, 1, 0, 0, 4, 3), 1),\n ((1, 8, 0, 0, 9, 0), 1),\n ((2, 0, 3, 1, 1, 0), 1),\n ((1, 6, 0, 0, 3, 3), 1),\n ((4, 4, 0, 2, 5, 0), 1),\n ((1, 0, 0, 0, 2, 2), 1),\n ((1, 0, 0, 0, 3, 3), 1),\n ((1, 0, 1, 0, 2, 2), 1),\n ((1, 6, 0, 0, 2, 2), 1),\n ((1, 0, 0, 0, 10, 0), 1),\n ((15, 9, 0, 0, 0, 0), 1),\n ((1, 5, 0, 0, 4, 0), 1),\n ((1, 11, 0, 0, 2, 8), 1),\n ((2, 4, 0, 0, 4, 4), 1),\n ((1, 0, 0, 0, 1, 3), 1),\n ((5, 7, 0, 0, 9, 0), 1),\n ((3, 0, 0, 3, 8, 0), 1),\n ((5, 2, 0, 0, 2, 0), 1),\n ((1, 3, 9, 0, 1, 0), 1),\n ((1, 15, 4, 0, 9, 0), 1),\n ((1, 8, 15, 0, 10, 0), 1),\n ((1, 0, 15, 0, 3, 1), 1),\n ((1, 11, 0, 0, 1, 0), 1),\n ((12, 5, 0, 0, 8, 0), 1),\n ((1, 4, 0, 5, 4, 6), 1),\n ((1, 5, 0, 0, 1, 1), 1),\n ((3, 0, 0, 1, 2, 0), 1),\n ((1, 9, 0, 0, 3, 0), 1),\n ((1, 1, 0, 0, 2, 4), 1),\n ((2, 0, 0, 0, 1, 3), 1),\n ((1, 6, 0, 0, 4, 0), 1),\n ((1, 0, 0, 0, 0, 6), 1),\n ((1, 2, 0, 1, 1, 0), 1),\n ((7, 15, 0, 0, 4, 0), 1),\n ((15, 10, 0, 0, 2, 0), 1),\n ((1, 14, 0, 0, 1, 0), 1),\n ((1, 1, 0, 1, 2, 0), 1),\n ((1, 5, 0, 3, 0, 0), 1),\n ((2, 10, 2, 0, 0, 0), 1),\n ((1, 5, 5, 0, 0, 0), 1),\n ((1, 5, 11, 0, 1, 0), 1),\n ((5, 10, 0, 0, 3, 0), 1),\n ((1, 0, 2, 0, 4, 0), 1),\n ((1, 3, 0, 0, 4, 0), 1),\n ((4, 0, 0, 0, 0, 0), 1),\n ((1, 6, 5, 0, 7, 0), 1),\n ((2, 0, 0, 1, 1, 0), 1),\n ((2, 15, 0, 0, 0, 0), 1),\n ((1, 5, 0, 2, 2, 4), 1),\n ((1, 9, 0, 0, 1, 2), 1),\n ((1, 8, 0, 3, 0, 0), 1),\n ((1, 4, 0, 0, 8, 0), 1),\n ((1, 5, 0, 0, 2, 2), 1),\n ((1, 9, 0, 0, 0, 0), 1),\n ((0, 0, 0, 0, 9, 0), 1),\n ((1, 6, 0, 1, 0, 0), 1),\n ((1, 0, 0, 0, 3, 4), 1),\n ((1, 2, 0, 0, 3, 4), 1),\n ((12, 6, 0, 0, 4, 0), 1),\n ((1, 3, 6, 0, 1, 0), 1),\n ((1, 0, 6, 0, 6, 0), 1),\n ((1, 1, 1, 0, 7, 0), 1),\n ((3, 0, 0, 0, 0, 3), 1),\n ((1, 1, 2, 2, 0, 0), 1),\n ((1, 0, 2, 2, 0, 0), 1),\n ((1, 3, 3, 0, 3, 0), 1),\n ((1, 1, 1, 0, 2, 0), 1),\n ((1, 3, 2, 0, 1, 0), 1),\n ((2, 0, 12, 0, 0, 0), 1),\n ((1, 5, 13, 0, 2, 0), 1),\n ((1, 5, 1, 0, 3, 0), 1),\n ((1, 5, 0, 1, 0, 0), 1),\n ((1, 0, 3, 3, 0, 0), 1),\n ((1, 0, 14, 0, 0, 0), 1),\n ((1, 0, 1, 0, 7, 0), 1),\n ((1, 0, 1, 2, 1, 0), 1),\n ((1, 7, 0, 1, 0, 0), 1),\n ((1, 2, 0, 0, 0, 4), 1),\n ((1, 2, 1, 1, 4, 0), 1),\n ((1, 0, 10, 4, 10, 0), 1),\n ((1, 9, 0, 2, 0, 0), 1),\n ((1, 7, 2, 0, 1, 0), 1),\n ((1, 0, 14, 0, 1, 0), 1),\n ((1, 2, 1, 2, 0, 0), 1),\n ((1, 5, 14, 0, 4, 0), 1),\n ((1, 12, 10, 2, 0, 0), 1),\n ((1, 8, 6, 0, 3, 0), 1),\n ((1, 4, 0, 4, 3, 0), 1),\n ((1, 0, 15, 0, 13, 0), 1),\n ((1, 6, 0, 2, 3, 0), 1),\n ((1, 0, 8, 3, 0, 0), 1),\n ((2, 2, 0, 0, 0, 0), 1),\n ((1, 0, 9, 3, 0, 0), 1),\n ((1, 2, 15, 0, 2, 0), 1),\n ((1, 11, 3, 0, 4, 0), 1),\n ((1, 2, 0, 0, 9, 0), 1),\n ((1, 6, 0, 1, 4, 0), 1),\n ((1, 0, 14, 0, 1, 3), 1),\n ((1, 4, 0, 1, 0, 8), 1),\n ((1, 0, 4, 0, 2, 5), 1),\n ((2, 0, 2, 0, 1, 0), 1),\n ((2, 4, 6, 5, 0, 0), 1),\n ((0, 9, 0, 0, 2, 0), 1),\n ((1, 0, 12, 1, 2, 0), 1),\n ((1, 0, 0, 0, 3, 1), 1),\n ((3, 0, 6, 0, 2, 0), 1),\n ((2, 0, 0, 1, 0, 0), 1),\n ((4, 0, 0, 0, 3, 0), 1),\n ((1, 8, 10, 0, 0, 1), 1),\n ((1, 6, 0, 0, 0, 1), 1),\n ((15, 2, 0, 4, 0, 0), 1),\n ((1, 0, 3, 2, 4, 0), 1),\n ((1, 0, 7, 1, 5, 0), 1),\n ((1, 0, 6, 0, 8, 0), 1),\n ((3, 0, 0, 0, 7, 3), 1),\n ((0, 0, 2, 0, 7, 0), 1),\n ((0, 2, 7, 1, 1, 0), 1),\n ((1, 4, 0, 0, 6, 0), 1),\n ((1, 9, 0, 1, 0, 0), 1),\n ((2, 0, 3, 0, 1, 0), 1),\n ((1, 3, 14, 0, 3, 0), 1),\n ((1, 1, 5, 0, 0, 0), 1),\n ((1, 0, 5, 0, 3, 0), 1),\n ((3, 2, 0, 0, 1, 7), 1),\n ((1, 1, 15, 0, 0, 0), 1),\n ((1, 12, 12, 0, 3, 0), 1),\n ((1, 4, 5, 0, 2, 0), 1),\n ((1, 0, 14, 5, 0, 0), 1),\n ((3, 0, 8, 0, 5, 0), 1),\n ((2, 0, 0, 0, 4, 5), 1),\n ((1, 13, 4, 0, 5, 0), 1),\n ((1, 6, 14, 0, 0, 0), 1),\n ((1, 8, 0, 0, 4, 0), 1),\n ((1, 0, 8, 0, 4, 0), 1),\n ((1, 0, 9, 0, 7, 0), 1),\n ((0, 7, 7, 0, 1, 0), 1),\n ((1, 0, 7, 5, 0, 0), 1),\n ((1, 0, 0, 0, 2, 3), 1),\n ((1, 6, 1, 0, 0, 0), 1),\n ((1, 2, 4, 2, 0, 0), 1),\n ((1, 6, 2, 0, 5, 0), 1),\n ((1, 1, 0, 1, 1, 0), 1),\n ((1, 0, 3, 1, 2, 0), 1),\n ((1, 6, 2, 0, 0, 0), 1),\n ((1, 0, 0, 1, 5, 0), 1),\n ((1, 0, 3, 3, 3, 0), 1),\n ((1, 6, 0, 0, 2, 0), 1),\n ((1, 8, 1, 0, 2, 0), 1),\n ((1, 4, 0, 0, 0, 3), 1),\n ((1, 2, 2, 0, 3, 0), 1),\n ((3, 6, 1, 0, 2, 0), 1),\n ((1, 4, 2, 0, 0, 0), 1),\n ((1, 1, 3, 1, 0, 0), 1),\n ((1, 0, 11, 0, 0, 0), 1),\n ((1, 6, 0, 2, 0, 0), 1),\n ((1, 4, 2, 0, 1, 0), 1),\n ((1, 3, 3, 0, 11, 0), 1),\n ((1, 6, 15, 0, 0, 0), 1),\n ((9, 6, 0, 5, 0, 0), 1),\n ((1, 1, 0, 0, 8, 0), 1),\n ((9, 0, 0, 0, 4, 0), 1),\n ((9, 0, 0, 0, 8, 0), 1),\n ((9, 4, 0, 0, 5, 0), 1),\n ((0, 0, 0, 0, 5, 0), 1),\n ((5, 0, 1, 0, 5, 0), 1),\n ((3, 2, 0, 0, 0, 0), 1),\n ((1, 0, 5, 0, 9, 0), 1),\n ((4, 0, 1, 0, 0, 0), 1),\n ((1, 1, 0, 0, 0, 3), 1),\n ((1, 1, 0, 1, 0, 2), 1),\n ((0, 0, 0, 2, 2, 0), 1),\n ((4, 0, 1, 1, 2, 0), 1),\n ((1, 0, 4, 0, 8, 0), 1),\n ((1, 1, 0, 1, 0, 3), 1),\n ((1, 4, 0, 0, 1, 1), 1),\n ((0, 0, 0, 0, 12, 0), 1),\n ((1, 0, 6, 2, 2, 0), 1),\n ((1, 0, 3, 1, 0, 0), 1),\n ((1, 2, 0, 2, 1, 0), 1),\n ((14, 0, 0, 0, 0, 0), 1),\n ((1, 0, 10, 0, 3, 0), 1),\n ((1, 2, 2, 0, 4, 0), 1),\n ((2, 1, 2, 0, 0, 0), 1),\n ((1, 1, 2, 0, 3, 0), 1),\n ((1, 0, 4, 0, 10, 0), 1),\n ((1, 3, 1, 0, 1, 0), 1),\n ((1, 0, 13, 0, 4, 0), 1),\n ((1, 2, 0, 0, 1, 3), 1),\n ((0, 0, 10, 0, 0, 0), 1),\n ((1, 1, 1, 0, 0, 3), 1),\n ((1, 0, 1, 0, 5, 0), 1),\n ((1, 3, 6, 0, 2, 0), 1),\n ((1, 0, 13, 6, 2, 0), 1),\n ((1, 1, 0, 3, 0, 3), 1),\n ((1, 4, 3, 0, 3, 0), 1),\n ((1, 0, 1, 6, 6, 0), 1),\n ((1, 4, 3, 1, 0, 0), 1),\n ((0, 0, 4, 0, 6, 0), 1),\n ((1, 2, 2, 0, 2, 0), 1),\n ((1, 0, 0, 2, 2, 0), 1),\n ((1, 0, 4, 1, 3, 0), 1),\n ((1, 1, 5, 0, 1, 0), 1),\n ((3, 0, 0, 0, 4, 0), 1),\n ((1, 0, 6, 0, 4, 0), 1),\n ((0, 0, 0, 5, 3, 0), 1),\n ((4, 0, 4, 0, 4, 0), 1),\n ((2, 0, 4, 0, 2, 0), 1),\n ((1, 5, 1, 0, 0, 0), 1),\n ((1, 4, 2, 0, 3, 0), 1),\n ((1, 0, 9, 0, 1, 0), 1),\n ((1, 1, 3, 0, 3, 0), 1),\n ((1, 0, 4, 1, 1, 0), 1),\n ((8, 0, 0, 0, 0, 0), 1),\n ((1, 1, 1, 0, 3, 0), 1),\n ((1, 0, 11, 0, 8, 0), 1),\n ((1, 1, 1, 0, 0, 1), 1),\n ((1, 0, 8, 0, 5, 0), 1),\n ((1, 3, 1, 0, 2, 0), 1),\n ((1, 4, 0, 2, 6, 0), 1),\n ((1, 0, 10, 1, 2, 0), 1),\n ((1, 8, 5, 0, 0, 0), 1),\n ((1, 2, 6, 0, 1, 0), 1),\n ((1, 4, 3, 0, 0, 0), 1),\n ((2, 0, 6, 0, 4, 0), 1),\n ((0, 0, 3, 0, 0, 0), 1),\n ((2, 3, 0, 0, 0, 0), 1),\n ((1, 2, 0, 2, 0, 0), 1),\n ((0, 0, 0, 4, 1, 0), 1),\n ((1, 0, 8, 0, 1, 0), 1),\n ((1, 0, 11, 0, 6, 0), 1),\n ((4, 1, 7, 0, 0, 0), 1),\n ((1, 0, 5, 0, 10, 0), 1),\n ((2, 5, 0, 0, 0, 1), 1),\n ((1, 0, 13, 2, 6, 0), 1),\n ((1, 0, 1, 1, 1, 0), 1),\n ((1, 0, 12, 0, 4, 0), 1),\n ((2, 0, 1, 0, 0, 0), 1),\n ((1, 0, 8, 0, 7, 0), 1),\n ((1, 1, 3, 1, 5, 0), 1),\n ((1, 0, 0, 4, 9, 0), 1),\n ((1, 0, 11, 0, 1, 0), 1),\n ((1, 1, 0, 0, 0, 6), 1),\n ((1, 0, 2, 0, 6, 0), 1),\n ((1, 0, 8, 1, 3, 0), 1),\n ((1, 0, 5, 1, 3, 0), 1),\n ((1, 0, 2, 0, 12, 0), 1),\n ((1, 0, 9, 0, 3, 0), 1),\n ((1, 0, 3, 0, 5, 0), 1),\n ((1, 2, 5, 0, 9, 0), 1),\n ((1, 0, 2, 0, 7, 0), 1),\n ((0, 0, 9, 0, 0, 0), 1),\n ((0, 0, 4, 0, 0, 0), 1),\n ((15, 0, 0, 0, 0, 0), 1),\n ((1, 3, 12, 3, 0, 0), 1),\n ((1, 15, 0, 0, 0, 0), 1),\n ((1, 5, 0, 0, 0, 1), 1),\n ((1, 3, 3, 4, 1, 0), 1),\n ((2, 4, 0, 0, 2, 0), 1),\n ((0, 5, 6, 0, 0, 0), 1),\n ((0, 0, 4, 0, 2, 0), 1),\n ((1, 0, 5, 0, 7, 0), 1),\n ((2, 9, 13, 0, 2, 0), 1),\n ((1, 12, 1, 0, 0, 0), 1),\n ((0, 14, 0, 0, 0, 0), 1),\n ((5, 0, 0, 0, 3, 0), 1),\n ((1, 15, 4, 0, 4, 0), 1),\n ((1, 4, 0, 3, 4, 0), 1),\n ((0, 3, 0, 0, 2, 0), 1),\n ((0, 1, 8, 2, 0, 0), 1),\n ((2, 5, 15, 0, 9, 0), 1),\n ((1, 4, 2, 0, 5, 0), 1),\n ((10, 0, 0, 0, 3, 0), 1),\n ((1, 0, 3, 0, 5, 3), 1),\n ((1, 5, 6, 1, 1, 0), 1),\n ((1, 0, 2, 1, 3, 0), 1),\n ((1, 0, 5, 0, 6, 0), 1),\n ((1, 15, 1, 0, 6, 0), 1),\n ((1, 6, 0, 0, 3, 0), 1),\n ((2, 0, 1, 0, 1, 0), 1),\n ((0, 0, 0, 7, 1, 0), 1),\n ((7, 0, 0, 1, 1, 0), 1),\n ((1, 1, 0, 2, 0, 0), 1),\n ((1, 13, 0, 3, 0, 0), 1),\n ((1, 1, 0, 3, 4, 0), 1),\n ((1, 1, 2, 1, 0, 0), 1),\n ((1, 10, 3, 0, 1, 0), 1),\n ((0, 14, 0, 0, 5, 0), 1),\n ((15, 0, 0, 0, 8, 0), 1),\n ((0, 5, 0, 0, 1, 0), 1),\n ((10, 0, 0, 0, 4, 0), 1),\n ((0, 7, 2, 2, 0, 0), 1),\n ((4, 2, 4, 0, 1, 0), 1),\n ((10, 0, 0, 0, 0, 0), 1),\n ((1, 3, 0, 4, 0, 0), 1),\n ((2, 0, 0, 1, 3, 0), 1),\n ((1, 15, 0, 0, 2, 0), 1),\n ((6, 8, 7, 0, 0, 0), 1),\n ((0, 3, 0, 0, 0, 0), 1),\n ((4, 15, 3, 0, 0, 0), 1),\n ((14, 0, 5, 0, 3, 0), 1),\n ((0, 6, 0, 0, 0, 0), 1),\n ((2, 6, 15, 0, 2, 0), 1),\n ((1, 4, 0, 3, 0, 0), 1),\n ((7, 0, 9, 0, 4, 0), 1),\n ((4, 0, 2, 0, 2, 0), 1),\n ((1, 2, 0, 2, 3, 0), 1),\n ((5, 0, 13, 0, 0, 0), 1),\n ((5, 0, 0, 0, 6, 0), 1),\n ((1, 0, 0, 0, 3, 5), 1),\n ((1, 10, 0, 0, 3, 0), 1),\n ((1, 3, 0, 1, 0, 0), 1),\n ((1, 0, 0, 3, 6, 0), 1),\n ((1, 6, 7, 0, 10, 0), 1),\n ((1, 0, 0, 0, 4, 2), 1),\n ((1, 6, 0, 1, 1, 0), 1),\n ((1, 13, 0, 0, 1, 0), 1),\n ((3, 0, 0, 0, 2, 0), 1),\n ((2, 0, 0, 0, 8, 0), 1),\n ((2, 2, 0, 0, 1, 0), 1),\n ((2, 4, 3, 0, 0, 0), 1),\n ((0, 1, 0, 0, 0, 0), 1),\n ((1, 0, 0, 0, 2, 5), 1),\n ((13, 0, 0, 1, 0, 0), 1),\n ((1, 9, 0, 0, 6, 0), 1),\n ((4, 0, 0, 0, 1, 0), 1),\n ((1, 3, 4, 0, 6, 0), 1),\n ((8, 0, 0, 0, 5, 0), 1),\n ((1, 2, 0, 0, 4, 1), 1),\n ((1, 2, 0, 1, 2, 0), 1),\n ((7, 0, 0, 0, 1, 0), 1),\n ((1, 3, 13, 0, 4, 0), 1),\n ((1, 0, 0, 1, 6, 0), 1),\n ((1, 4, 0, 0, 0, 1), 1),\n ((1, 0, 0, 2, 5, 0), 1),\n ((1, 2, 0, 0, 6, 0), 1),\n ((10, 0, 0, 0, 1, 0), 1),\n ((1, 3, 2, 0, 6, 0), 1),\n ((14, 0, 0, 0, 2, 0), 1),\n ((1, 4, 0, 4, 6, 0), 1),\n ((2, 0, 3, 2, 9, 0), 1),\n ((1, 9, 12, 1, 0, 0), 1),\n ((1, 5, 2, 0, 1, 0), 1),\n ((0, 0, 15, 0, 0, 0), 1),\n ((2, 9, 3, 0, 0, 0), 1),\n ((13, 0, 0, 0, 2, 0), 1),\n ((2, 6, 0, 0, 0, 0), 1),\n ((11, 0, 0, 1, 0, 0), 1),\n ((1, 5, 1, 0, 1, 0), 1),\n ((0, 0, 2, 0, 0, 0), 1),\n ((3, 4, 0, 0, 0, 0), 1),\n ((2, 0, 0, 4, 0, 0), 1),\n ((1, 4, 4, 0, 4, 0), 1),\n ((1, 0, 7, 0, 4, 0), 1),\n ((2, 4, 0, 0, 0, 0), 1),\n ((1, 6, 2, 1, 0, 0), 1),\n ((3, 0, 0, 0, 3, 0), 1)]"
     },
     "execution_count": 70,
     "metadata": {},
     "output_type": "execute_result"
    }
   ],
   "source": [
    "map_tuple_to_indexes = {}\n",
    "\n",
    "for idx in range(len(frame.index)):\n",
    "    image_coordinates = frame.iloc[idx][1:]\n",
    "    tpl = fill_cnt_tensor(image_coordinates)\n",
    "    if tpl not in map_tuple_to_indexes:\n",
    "        map_tuple_to_indexes[tpl] = (0, [])\n",
    "    new_cnt = map_tuple_to_indexes[tpl][0] + 1\n",
    "    new_lsr = map_tuple_to_indexes[tpl][1]\n",
    "    new_lsr.append(idx)\n",
    "    map_tuple_to_indexes[tpl] = (new_cnt, new_lsr)\n",
    "\n",
    "list_tuple_to_indexes = sorted([(k, v[0], v[1]) for k, v in map_tuple_to_indexes.items()], key=lambda x: x[1], reverse=True)\n",
    "\n",
    "[(a, b) for (a, b, _) in list_tuple_to_indexes]"
   ],
   "metadata": {
    "collapsed": false,
    "pycharm": {
     "name": "#%%\n"
    }
   }
  },
  {
   "cell_type": "code",
   "execution_count": 71,
   "outputs": [],
   "source": [
    "lbls = [\"segm\", \"globules\", \"milia_like_cyst\", \"negative_network\", \"pigment_network\", \"streaks\"]"
   ],
   "metadata": {
    "collapsed": false,
    "pycharm": {
     "name": "#%%\n"
    }
   }
  },
  {
   "cell_type": "code",
   "execution_count": 72,
   "outputs": [
    {
     "data": {
      "text/plain": "[('segm', 2536),\n ('pigment_network', 1504),\n ('milia_like_cyst', 681),\n ('globules', 603),\n ('negative_network', 189),\n ('streaks', 100)]"
     },
     "execution_count": 72,
     "metadata": {},
     "output_type": "execute_result"
    }
   ],
   "source": [
    "distr_cnt = [0 for _ in lbls]\n",
    "\n",
    "for idx, _ in enumerate(lbls):\n",
    "    for t, c, _ in list_tuple_to_indexes:\n",
    "        if t[idx] > 0:\n",
    "            distr_cnt[idx] += c\n",
    "\n",
    "sorted(list(zip(lbls, distr_cnt)), key=lambda x:x[1], reverse=True)"
   ],
   "metadata": {
    "collapsed": false,
    "pycharm": {
     "name": "#%%\n"
    }
   }
  },
  {
   "cell_type": "code",
   "execution_count": 73,
   "outputs": [
    {
     "data": {
      "text/plain": "[((1, 0, 0, 0, 1, 1), 4),\n ((1, 1, 0, 0, 1, 1), 4),\n ((1, 0, 0, 0, 0, 1), 4),\n ((1, 0, 0, 0, 0, 2), 3),\n ((1, 2, 0, 0, 0, 2), 3),\n ((1, 1, 0, 0, 0, 1), 3),\n ((1, 0, 0, 0, 0, 3), 2),\n ((1, 2, 0, 0, 1, 2), 2),\n ((1, 3, 0, 0, 3, 4), 2),\n ((1, 0, 0, 0, 0, 4), 2),\n ((1, 4, 0, 0, 0, 4), 2),\n ((1, 0, 0, 0, 2, 1), 2),\n ((1, 0, 0, 0, 1, 2), 2),\n ((1, 0, 0, 0, 0, 5), 2),\n ((1, 0, 0, 0, 1, 4), 2),\n ((1, 1, 0, 0, 2, 2), 2),\n ((1, 1, 0, 0, 2, 3), 1),\n ((1, 12, 0, 0, 6, 7), 1),\n ((1, 6, 0, 0, 4, 4), 1),\n ((1, 3, 0, 0, 1, 1), 1),\n ((1, 3, 0, 0, 3, 3), 1),\n ((1, 12, 0, 0, 2, 3), 1),\n ((2, 0, 0, 0, 1, 7), 1),\n ((1, 0, 0, 0, 3, 11), 1),\n ((1, 11, 0, 0, 9, 5), 1),\n ((1, 1, 0, 0, 4, 3), 1),\n ((1, 6, 0, 0, 3, 3), 1),\n ((1, 0, 0, 0, 2, 2), 1),\n ((1, 0, 0, 0, 3, 3), 1),\n ((1, 0, 1, 0, 2, 2), 1),\n ((1, 6, 0, 0, 2, 2), 1),\n ((1, 11, 0, 0, 2, 8), 1),\n ((2, 4, 0, 0, 4, 4), 1),\n ((1, 0, 0, 0, 1, 3), 1),\n ((1, 0, 15, 0, 3, 1), 1),\n ((1, 4, 0, 5, 4, 6), 1),\n ((1, 5, 0, 0, 1, 1), 1),\n ((1, 1, 0, 0, 2, 4), 1),\n ((2, 0, 0, 0, 1, 3), 1),\n ((1, 0, 0, 0, 0, 6), 1),\n ((1, 5, 0, 2, 2, 4), 1),\n ((1, 9, 0, 0, 1, 2), 1),\n ((1, 5, 0, 0, 2, 2), 1),\n ((1, 0, 0, 0, 3, 4), 1),\n ((1, 2, 0, 0, 3, 4), 1),\n ((3, 0, 0, 0, 0, 3), 1),\n ((1, 2, 0, 0, 0, 4), 1),\n ((1, 0, 14, 0, 1, 3), 1),\n ((1, 4, 0, 1, 0, 8), 1),\n ((1, 0, 4, 0, 2, 5), 1),\n ((1, 0, 0, 0, 3, 1), 1),\n ((1, 8, 10, 0, 0, 1), 1),\n ((1, 6, 0, 0, 0, 1), 1),\n ((3, 0, 0, 0, 7, 3), 1),\n ((3, 2, 0, 0, 1, 7), 1),\n ((2, 0, 0, 0, 4, 5), 1),\n ((1, 0, 0, 0, 2, 3), 1),\n ((1, 4, 0, 0, 0, 3), 1),\n ((1, 1, 0, 0, 0, 3), 1),\n ((1, 1, 0, 1, 0, 2), 1),\n ((1, 1, 0, 1, 0, 3), 1),\n ((1, 4, 0, 0, 1, 1), 1),\n ((1, 2, 0, 0, 1, 3), 1),\n ((1, 1, 1, 0, 0, 3), 1),\n ((1, 1, 0, 3, 0, 3), 1),\n ((1, 1, 1, 0, 0, 1), 1),\n ((2, 5, 0, 0, 0, 1), 1),\n ((1, 1, 0, 0, 0, 6), 1),\n ((1, 5, 0, 0, 0, 1), 1),\n ((1, 0, 3, 0, 5, 3), 1),\n ((1, 0, 0, 0, 3, 5), 1),\n ((1, 0, 0, 0, 4, 2), 1),\n ((1, 0, 0, 0, 2, 5), 1),\n ((1, 2, 0, 0, 4, 1), 1),\n ((1, 4, 0, 0, 0, 1), 1)]"
     },
     "execution_count": 73,
     "metadata": {},
     "output_type": "execute_result"
    }
   ],
   "source": [
    "list(map(lambda x: (x[0], x[1]), filter(lambda x: x[0][lbls.index(\"streaks\")] > 0, list_tuple_to_indexes)))"
   ],
   "metadata": {
    "collapsed": false,
    "pycharm": {
     "name": "#%%\n"
    }
   }
  },
  {
   "cell_type": "code",
   "execution_count": 74,
   "outputs": [
    {
     "data": {
      "text/plain": "[((1, 0, 0, 1, 0, 0), 21),\n ((1, 0, 0, 1, 1, 0), 9),\n ((1, 0, 0, 2, 0, 0), 7),\n ((1, 0, 0, 1, 2, 0), 6),\n ((1, 0, 0, 1, 3, 0), 5),\n ((1, 0, 0, 3, 0, 0), 3),\n ((1, 0, 0, 3, 1, 0), 3),\n ((1, 0, 5, 1, 0, 0), 3),\n ((1, 0, 0, 2, 1, 0), 3),\n ((1, 0, 0, 2, 3, 0), 3),\n ((1, 0, 0, 1, 4, 0), 3),\n ((1, 4, 0, 5, 0, 0), 2),\n ((0, 0, 0, 1, 1, 0), 2),\n ((1, 0, 0, 4, 0, 0), 2),\n ((1, 0, 1, 2, 0, 0), 2),\n ((1, 0, 4, 1, 0, 0), 2),\n ((1, 0, 1, 1, 3, 0), 2),\n ((1, 1, 1, 1, 0, 0), 2),\n ((1, 0, 1, 1, 0, 0), 2),\n ((1, 0, 0, 2, 4, 0), 2),\n ((1, 3, 0, 2, 4, 0), 1),\n ((1, 13, 0, 1, 10, 0), 1),\n ((1, 0, 3, 1, 6, 0), 1),\n ((2, 0, 3, 1, 1, 0), 1),\n ((4, 4, 0, 2, 5, 0), 1),\n ((3, 0, 0, 3, 8, 0), 1),\n ((1, 4, 0, 5, 4, 6), 1),\n ((3, 0, 0, 1, 2, 0), 1),\n ((1, 2, 0, 1, 1, 0), 1),\n ((1, 1, 0, 1, 2, 0), 1),\n ((1, 5, 0, 3, 0, 0), 1),\n ((2, 0, 0, 1, 1, 0), 1),\n ((1, 5, 0, 2, 2, 4), 1),\n ((1, 8, 0, 3, 0, 0), 1),\n ((1, 6, 0, 1, 0, 0), 1),\n ((1, 1, 2, 2, 0, 0), 1),\n ((1, 0, 2, 2, 0, 0), 1),\n ((1, 5, 0, 1, 0, 0), 1),\n ((1, 0, 3, 3, 0, 0), 1),\n ((1, 0, 1, 2, 1, 0), 1),\n ((1, 7, 0, 1, 0, 0), 1),\n ((1, 2, 1, 1, 4, 0), 1),\n ((1, 0, 10, 4, 10, 0), 1),\n ((1, 9, 0, 2, 0, 0), 1),\n ((1, 2, 1, 2, 0, 0), 1),\n ((1, 12, 10, 2, 0, 0), 1),\n ((1, 4, 0, 4, 3, 0), 1),\n ((1, 6, 0, 2, 3, 0), 1),\n ((1, 0, 8, 3, 0, 0), 1),\n ((1, 0, 9, 3, 0, 0), 1),\n ((1, 6, 0, 1, 4, 0), 1),\n ((1, 4, 0, 1, 0, 8), 1),\n ((2, 4, 6, 5, 0, 0), 1),\n ((1, 0, 12, 1, 2, 0), 1),\n ((2, 0, 0, 1, 0, 0), 1),\n ((15, 2, 0, 4, 0, 0), 1),\n ((1, 0, 3, 2, 4, 0), 1),\n ((1, 0, 7, 1, 5, 0), 1),\n ((0, 2, 7, 1, 1, 0), 1),\n ((1, 9, 0, 1, 0, 0), 1),\n ((1, 0, 14, 5, 0, 0), 1),\n ((1, 0, 7, 5, 0, 0), 1),\n ((1, 2, 4, 2, 0, 0), 1),\n ((1, 1, 0, 1, 1, 0), 1),\n ((1, 0, 3, 1, 2, 0), 1),\n ((1, 0, 0, 1, 5, 0), 1),\n ((1, 0, 3, 3, 3, 0), 1),\n ((1, 1, 3, 1, 0, 0), 1),\n ((1, 6, 0, 2, 0, 0), 1),\n ((9, 6, 0, 5, 0, 0), 1),\n ((1, 1, 0, 1, 0, 2), 1),\n ((0, 0, 0, 2, 2, 0), 1),\n ((4, 0, 1, 1, 2, 0), 1),\n ((1, 1, 0, 1, 0, 3), 1),\n ((1, 0, 6, 2, 2, 0), 1),\n ((1, 0, 3, 1, 0, 0), 1),\n ((1, 2, 0, 2, 1, 0), 1),\n ((1, 0, 13, 6, 2, 0), 1),\n ((1, 1, 0, 3, 0, 3), 1),\n ((1, 0, 1, 6, 6, 0), 1),\n ((1, 4, 3, 1, 0, 0), 1),\n ((1, 0, 0, 2, 2, 0), 1),\n ((1, 0, 4, 1, 3, 0), 1),\n ((0, 0, 0, 5, 3, 0), 1),\n ((1, 0, 4, 1, 1, 0), 1),\n ((1, 4, 0, 2, 6, 0), 1),\n ((1, 0, 10, 1, 2, 0), 1),\n ((1, 2, 0, 2, 0, 0), 1),\n ((0, 0, 0, 4, 1, 0), 1),\n ((1, 0, 13, 2, 6, 0), 1),\n ((1, 0, 1, 1, 1, 0), 1),\n ((1, 1, 3, 1, 5, 0), 1),\n ((1, 0, 0, 4, 9, 0), 1),\n ((1, 0, 8, 1, 3, 0), 1),\n ((1, 0, 5, 1, 3, 0), 1),\n ((1, 3, 12, 3, 0, 0), 1),\n ((1, 3, 3, 4, 1, 0), 1),\n ((1, 4, 0, 3, 4, 0), 1),\n ((0, 1, 8, 2, 0, 0), 1),\n ((1, 5, 6, 1, 1, 0), 1),\n ((1, 0, 2, 1, 3, 0), 1),\n ((0, 0, 0, 7, 1, 0), 1),\n ((7, 0, 0, 1, 1, 0), 1),\n ((1, 1, 0, 2, 0, 0), 1),\n ((1, 13, 0, 3, 0, 0), 1),\n ((1, 1, 0, 3, 4, 0), 1),\n ((1, 1, 2, 1, 0, 0), 1),\n ((0, 7, 2, 2, 0, 0), 1),\n ((1, 3, 0, 4, 0, 0), 1),\n ((2, 0, 0, 1, 3, 0), 1),\n ((1, 4, 0, 3, 0, 0), 1),\n ((1, 2, 0, 2, 3, 0), 1),\n ((1, 3, 0, 1, 0, 0), 1),\n ((1, 0, 0, 3, 6, 0), 1),\n ((1, 6, 0, 1, 1, 0), 1),\n ((13, 0, 0, 1, 0, 0), 1),\n ((1, 2, 0, 1, 2, 0), 1),\n ((1, 0, 0, 1, 6, 0), 1),\n ((1, 0, 0, 2, 5, 0), 1),\n ((1, 4, 0, 4, 6, 0), 1),\n ((2, 0, 3, 2, 9, 0), 1),\n ((1, 9, 12, 1, 0, 0), 1),\n ((11, 0, 0, 1, 0, 0), 1),\n ((2, 0, 0, 4, 0, 0), 1),\n ((1, 6, 2, 1, 0, 0), 1)]"
     },
     "execution_count": 74,
     "metadata": {},
     "output_type": "execute_result"
    }
   ],
   "source": [
    "list(map(lambda x: (x[0], x[1]), filter(lambda x: x[0][lbls.index(\"negative_network\")] > 0, list_tuple_to_indexes)))"
   ],
   "metadata": {
    "collapsed": false,
    "pycharm": {
     "name": "#%%\n"
    }
   }
  },
  {
   "cell_type": "code",
   "execution_count": 75,
   "outputs": [
    {
     "data": {
      "text/plain": "[((1, 1, 0, 0, 0, 0), 70),\n ((1, 1, 0, 0, 1, 0), 24),\n ((1, 2, 0, 0, 1, 0), 18),\n ((1, 2, 0, 0, 0, 0), 18),\n ((1, 4, 0, 0, 0, 0), 17),\n ((1, 3, 0, 0, 0, 0), 14),\n ((1, 5, 0, 0, 0, 0), 10),\n ((1, 1, 0, 0, 2, 0), 9),\n ((1, 1, 1, 0, 0, 0), 9),\n ((1, 4, 0, 0, 1, 0), 8),\n ((1, 3, 0, 0, 1, 0), 8),\n ((1, 6, 0, 0, 1, 0), 7),\n ((1, 5, 0, 0, 1, 0), 7),\n ((1, 2, 0, 0, 3, 0), 7),\n ((1, 1, 0, 0, 3, 0), 6),\n ((1, 5, 0, 0, 2, 0), 6),\n ((1, 3, 0, 0, 2, 0), 6),\n ((1, 2, 0, 0, 4, 0), 5),\n ((1, 3, 0, 0, 3, 0), 5),\n ((1, 2, 0, 0, 2, 0), 5),\n ((1, 7, 0, 0, 1, 0), 4),\n ((1, 1, 0, 0, 1, 1), 4),\n ((1, 1, 0, 0, 4, 0), 4),\n ((1, 1, 3, 0, 0, 0), 4),\n ((2, 1, 0, 0, 0, 0), 4),\n ((1, 7, 0, 0, 0, 0), 4),\n ((1, 1, 0, 0, 5, 0), 3),\n ((1, 2, 0, 0, 5, 0), 3),\n ((1, 10, 0, 0, 0, 0), 3),\n ((1, 5, 0, 0, 3, 0), 3),\n ((1, 2, 0, 0, 0, 2), 3),\n ((1, 2, 1, 0, 1, 0), 3),\n ((1, 4, 0, 0, 4, 0), 3),\n ((1, 2, 1, 0, 0, 0), 3),\n ((1, 1, 0, 0, 0, 1), 3),\n ((1, 1, 2, 0, 1, 0), 3),\n ((1, 2, 4, 0, 1, 0), 3),\n ((1, 4, 0, 0, 3, 0), 2),\n ((1, 6, 1, 0, 1, 0), 2),\n ((1, 2, 0, 0, 1, 2), 2),\n ((1, 8, 0, 0, 1, 0), 2),\n ((1, 4, 0, 5, 0, 0), 2),\n ((1, 6, 0, 0, 0, 0), 2),\n ((1, 3, 0, 0, 3, 4), 2),\n ((1, 8, 0, 0, 3, 0), 2),\n ((1, 9, 0, 0, 1, 0), 2),\n ((1, 12, 0, 0, 1, 0), 2),\n ((1, 12, 0, 0, 0, 0), 2),\n ((1, 4, 0, 0, 0, 4), 2),\n ((1, 15, 0, 0, 1, 0), 2),\n ((1, 8, 0, 0, 2, 0), 2),\n ((1, 8, 0, 0, 0, 0), 2),\n ((1, 1, 0, 0, 6, 0), 2),\n ((1, 3, 1, 0, 0, 0), 2),\n ((1, 4, 4, 0, 0, 0), 2),\n ((1, 2, 3, 0, 0, 0), 2),\n ((1, 4, 0, 0, 2, 0), 2),\n ((1, 3, 3, 0, 1, 0), 2),\n ((1, 4, 1, 0, 2, 0), 2),\n ((1, 2, 4, 0, 0, 0), 2),\n ((1, 7, 0, 0, 2, 0), 2),\n ((1, 1, 1, 0, 1, 0), 2),\n ((1, 1, 2, 0, 2, 0), 2),\n ((1, 1, 0, 0, 2, 2), 2),\n ((1, 4, 1, 0, 0, 0), 2),\n ((1, 1, 1, 1, 0, 0), 2),\n ((1, 1, 3, 0, 2, 0), 2),\n ((1, 1, 3, 0, 1, 0), 2),\n ((1, 1, 0, 0, 2, 3), 1),\n ((1, 15, 0, 0, 5, 0), 1),\n ((1, 2, 1, 0, 3, 0), 1),\n ((1, 12, 0, 0, 6, 7), 1),\n ((1, 10, 0, 0, 5, 0), 1),\n ((2, 6, 0, 0, 1, 0), 1),\n ((4, 11, 0, 0, 0, 0), 1),\n ((1, 6, 0, 0, 4, 4), 1),\n ((2, 12, 0, 0, 5, 0), 1),\n ((1, 3, 0, 0, 1, 1), 1),\n ((1, 3, 0, 2, 4, 0), 1),\n ((1, 4, 0, 0, 5, 0), 1),\n ((1, 13, 0, 1, 10, 0), 1),\n ((1, 12, 0, 0, 8, 0), 1),\n ((3, 9, 0, 0, 7, 0), 1),\n ((1, 11, 0, 0, 3, 0), 1),\n ((1, 3, 0, 0, 3, 3), 1),\n ((2, 1, 0, 0, 1, 0), 1),\n ((1, 12, 0, 0, 2, 3), 1),\n ((1, 11, 0, 0, 0, 0), 1),\n ((1, 11, 0, 0, 9, 5), 1),\n ((1, 11, 0, 0, 2, 0), 1),\n ((1, 1, 0, 0, 4, 3), 1),\n ((1, 8, 0, 0, 9, 0), 1),\n ((1, 6, 0, 0, 3, 3), 1),\n ((4, 4, 0, 2, 5, 0), 1),\n ((1, 6, 0, 0, 2, 2), 1),\n ((15, 9, 0, 0, 0, 0), 1),\n ((1, 5, 0, 0, 4, 0), 1),\n ((1, 11, 0, 0, 2, 8), 1),\n ((2, 4, 0, 0, 4, 4), 1),\n ((5, 7, 0, 0, 9, 0), 1),\n ((5, 2, 0, 0, 2, 0), 1),\n ((1, 3, 9, 0, 1, 0), 1),\n ((1, 15, 4, 0, 9, 0), 1),\n ((1, 8, 15, 0, 10, 0), 1),\n ((1, 11, 0, 0, 1, 0), 1),\n ((12, 5, 0, 0, 8, 0), 1),\n ((1, 4, 0, 5, 4, 6), 1),\n ((1, 5, 0, 0, 1, 1), 1),\n ((1, 9, 0, 0, 3, 0), 1),\n ((1, 1, 0, 0, 2, 4), 1),\n ((1, 6, 0, 0, 4, 0), 1),\n ((1, 2, 0, 1, 1, 0), 1),\n ((7, 15, 0, 0, 4, 0), 1),\n ((15, 10, 0, 0, 2, 0), 1),\n ((1, 14, 0, 0, 1, 0), 1),\n ((1, 1, 0, 1, 2, 0), 1),\n ((1, 5, 0, 3, 0, 0), 1),\n ((2, 10, 2, 0, 0, 0), 1),\n ((1, 5, 5, 0, 0, 0), 1),\n ((1, 5, 11, 0, 1, 0), 1),\n ((5, 10, 0, 0, 3, 0), 1),\n ((1, 3, 0, 0, 4, 0), 1),\n ((1, 6, 5, 0, 7, 0), 1),\n ((2, 15, 0, 0, 0, 0), 1),\n ((1, 5, 0, 2, 2, 4), 1),\n ((1, 9, 0, 0, 1, 2), 1),\n ((1, 8, 0, 3, 0, 0), 1),\n ((1, 4, 0, 0, 8, 0), 1),\n ((1, 5, 0, 0, 2, 2), 1),\n ((1, 9, 0, 0, 0, 0), 1),\n ((1, 6, 0, 1, 0, 0), 1),\n ((1, 2, 0, 0, 3, 4), 1),\n ((12, 6, 0, 0, 4, 0), 1),\n ((1, 3, 6, 0, 1, 0), 1),\n ((1, 1, 1, 0, 7, 0), 1),\n ((1, 1, 2, 2, 0, 0), 1),\n ((1, 3, 3, 0, 3, 0), 1),\n ((1, 1, 1, 0, 2, 0), 1),\n ((1, 3, 2, 0, 1, 0), 1),\n ((1, 5, 13, 0, 2, 0), 1),\n ((1, 5, 1, 0, 3, 0), 1),\n ((1, 5, 0, 1, 0, 0), 1),\n ((1, 7, 0, 1, 0, 0), 1),\n ((1, 2, 0, 0, 0, 4), 1),\n ((1, 2, 1, 1, 4, 0), 1),\n ((1, 9, 0, 2, 0, 0), 1),\n ((1, 7, 2, 0, 1, 0), 1),\n ((1, 2, 1, 2, 0, 0), 1),\n ((1, 5, 14, 0, 4, 0), 1),\n ((1, 12, 10, 2, 0, 0), 1),\n ((1, 8, 6, 0, 3, 0), 1),\n ((1, 4, 0, 4, 3, 0), 1),\n ((1, 6, 0, 2, 3, 0), 1),\n ((2, 2, 0, 0, 0, 0), 1),\n ((1, 2, 15, 0, 2, 0), 1),\n ((1, 11, 3, 0, 4, 0), 1),\n ((1, 2, 0, 0, 9, 0), 1),\n ((1, 6, 0, 1, 4, 0), 1),\n ((1, 4, 0, 1, 0, 8), 1),\n ((2, 4, 6, 5, 0, 0), 1),\n ((0, 9, 0, 0, 2, 0), 1),\n ((1, 8, 10, 0, 0, 1), 1),\n ((1, 6, 0, 0, 0, 1), 1),\n ((15, 2, 0, 4, 0, 0), 1),\n ((0, 2, 7, 1, 1, 0), 1),\n ((1, 4, 0, 0, 6, 0), 1),\n ((1, 9, 0, 1, 0, 0), 1),\n ((1, 3, 14, 0, 3, 0), 1),\n ((1, 1, 5, 0, 0, 0), 1),\n ((3, 2, 0, 0, 1, 7), 1),\n ((1, 1, 15, 0, 0, 0), 1),\n ((1, 12, 12, 0, 3, 0), 1),\n ((1, 4, 5, 0, 2, 0), 1),\n ((1, 13, 4, 0, 5, 0), 1),\n ((1, 6, 14, 0, 0, 0), 1),\n ((1, 8, 0, 0, 4, 0), 1),\n ((0, 7, 7, 0, 1, 0), 1),\n ((1, 6, 1, 0, 0, 0), 1),\n ((1, 2, 4, 2, 0, 0), 1),\n ((1, 6, 2, 0, 5, 0), 1),\n ((1, 1, 0, 1, 1, 0), 1),\n ((1, 6, 2, 0, 0, 0), 1),\n ((1, 6, 0, 0, 2, 0), 1),\n ((1, 8, 1, 0, 2, 0), 1),\n ((1, 4, 0, 0, 0, 3), 1),\n ((1, 2, 2, 0, 3, 0), 1),\n ((3, 6, 1, 0, 2, 0), 1),\n ((1, 4, 2, 0, 0, 0), 1),\n ((1, 1, 3, 1, 0, 0), 1),\n ((1, 6, 0, 2, 0, 0), 1),\n ((1, 4, 2, 0, 1, 0), 1),\n ((1, 3, 3, 0, 11, 0), 1),\n ((1, 6, 15, 0, 0, 0), 1),\n ((9, 6, 0, 5, 0, 0), 1),\n ((1, 1, 0, 0, 8, 0), 1),\n ((9, 4, 0, 0, 5, 0), 1),\n ((3, 2, 0, 0, 0, 0), 1),\n ((1, 1, 0, 0, 0, 3), 1),\n ((1, 1, 0, 1, 0, 2), 1),\n ((1, 1, 0, 1, 0, 3), 1),\n ((1, 4, 0, 0, 1, 1), 1),\n ((1, 2, 0, 2, 1, 0), 1),\n ((1, 2, 2, 0, 4, 0), 1),\n ((2, 1, 2, 0, 0, 0), 1),\n ((1, 1, 2, 0, 3, 0), 1),\n ((1, 3, 1, 0, 1, 0), 1),\n ((1, 2, 0, 0, 1, 3), 1),\n ((1, 1, 1, 0, 0, 3), 1),\n ((1, 3, 6, 0, 2, 0), 1),\n ((1, 1, 0, 3, 0, 3), 1),\n ((1, 4, 3, 0, 3, 0), 1),\n ((1, 4, 3, 1, 0, 0), 1),\n ((1, 2, 2, 0, 2, 0), 1),\n ((1, 1, 5, 0, 1, 0), 1),\n ((1, 5, 1, 0, 0, 0), 1),\n ((1, 4, 2, 0, 3, 0), 1),\n ((1, 1, 3, 0, 3, 0), 1),\n ((1, 1, 1, 0, 3, 0), 1),\n ((1, 1, 1, 0, 0, 1), 1),\n ((1, 3, 1, 0, 2, 0), 1),\n ((1, 4, 0, 2, 6, 0), 1),\n ((1, 8, 5, 0, 0, 0), 1),\n ((1, 2, 6, 0, 1, 0), 1),\n ((1, 4, 3, 0, 0, 0), 1),\n ((2, 3, 0, 0, 0, 0), 1),\n ((1, 2, 0, 2, 0, 0), 1),\n ((4, 1, 7, 0, 0, 0), 1),\n ((2, 5, 0, 0, 0, 1), 1),\n ((1, 1, 3, 1, 5, 0), 1),\n ((1, 1, 0, 0, 0, 6), 1),\n ((1, 2, 5, 0, 9, 0), 1),\n ((1, 3, 12, 3, 0, 0), 1),\n ((1, 15, 0, 0, 0, 0), 1),\n ((1, 5, 0, 0, 0, 1), 1),\n ((1, 3, 3, 4, 1, 0), 1),\n ((2, 4, 0, 0, 2, 0), 1),\n ((0, 5, 6, 0, 0, 0), 1),\n ((2, 9, 13, 0, 2, 0), 1),\n ((1, 12, 1, 0, 0, 0), 1),\n ((0, 14, 0, 0, 0, 0), 1),\n ((1, 15, 4, 0, 4, 0), 1),\n ((1, 4, 0, 3, 4, 0), 1),\n ((0, 3, 0, 0, 2, 0), 1),\n ((0, 1, 8, 2, 0, 0), 1),\n ((2, 5, 15, 0, 9, 0), 1),\n ((1, 4, 2, 0, 5, 0), 1),\n ((1, 5, 6, 1, 1, 0), 1),\n ((1, 15, 1, 0, 6, 0), 1),\n ((1, 6, 0, 0, 3, 0), 1),\n ((1, 1, 0, 2, 0, 0), 1),\n ((1, 13, 0, 3, 0, 0), 1),\n ((1, 1, 0, 3, 4, 0), 1),\n ((1, 1, 2, 1, 0, 0), 1),\n ((1, 10, 3, 0, 1, 0), 1),\n ((0, 14, 0, 0, 5, 0), 1),\n ((0, 5, 0, 0, 1, 0), 1),\n ((0, 7, 2, 2, 0, 0), 1),\n ((4, 2, 4, 0, 1, 0), 1),\n ((1, 3, 0, 4, 0, 0), 1),\n ((1, 15, 0, 0, 2, 0), 1),\n ((6, 8, 7, 0, 0, 0), 1),\n ((0, 3, 0, 0, 0, 0), 1),\n ((4, 15, 3, 0, 0, 0), 1),\n ((0, 6, 0, 0, 0, 0), 1),\n ((2, 6, 15, 0, 2, 0), 1),\n ((1, 4, 0, 3, 0, 0), 1),\n ((1, 2, 0, 2, 3, 0), 1),\n ((1, 10, 0, 0, 3, 0), 1),\n ((1, 3, 0, 1, 0, 0), 1),\n ((1, 6, 7, 0, 10, 0), 1),\n ((1, 6, 0, 1, 1, 0), 1),\n ((1, 13, 0, 0, 1, 0), 1),\n ((2, 2, 0, 0, 1, 0), 1),\n ((2, 4, 3, 0, 0, 0), 1),\n ((0, 1, 0, 0, 0, 0), 1),\n ((1, 9, 0, 0, 6, 0), 1),\n ((1, 3, 4, 0, 6, 0), 1),\n ((1, 2, 0, 0, 4, 1), 1),\n ((1, 2, 0, 1, 2, 0), 1),\n ((1, 3, 13, 0, 4, 0), 1),\n ((1, 4, 0, 0, 0, 1), 1),\n ((1, 2, 0, 0, 6, 0), 1),\n ((1, 3, 2, 0, 6, 0), 1),\n ((1, 4, 0, 4, 6, 0), 1),\n ((1, 9, 12, 1, 0, 0), 1),\n ((1, 5, 2, 0, 1, 0), 1),\n ((2, 9, 3, 0, 0, 0), 1),\n ((2, 6, 0, 0, 0, 0), 1),\n ((1, 5, 1, 0, 1, 0), 1),\n ((3, 4, 0, 0, 0, 0), 1),\n ((1, 4, 4, 0, 4, 0), 1),\n ((2, 4, 0, 0, 0, 0), 1),\n ((1, 6, 2, 1, 0, 0), 1)]"
     },
     "execution_count": 75,
     "metadata": {},
     "output_type": "execute_result"
    }
   ],
   "source": [
    "list(map(lambda x: (x[0], x[1]), filter(lambda x: x[0][lbls.index(\"globules\")] > 0, list_tuple_to_indexes)))"
   ],
   "metadata": {
    "collapsed": false,
    "pycharm": {
     "name": "#%%\n"
    }
   }
  },
  {
   "cell_type": "markdown",
   "source": [
    "let's take by 100 any elements each of this\n",
    "\n",
    "=> 300 * 256 = 76_800 imgs"
   ],
   "metadata": {
    "collapsed": false,
    "pycharm": {
     "name": "#%% md\n"
    }
   }
  },
  {
   "cell_type": "code",
   "execution_count": 76,
   "outputs": [
    {
     "name": "stdout",
     "output_type": "stream",
     "text": [
      "28\n",
      "275\n",
      "275\n"
     ]
    }
   ],
   "source": [
    "def populate(lbl_list, max_cnt=100):\n",
    "    result = []\n",
    "    selected_tuples = set()\n",
    "    for l in lbl_list:\n",
    "        cnt = 0\n",
    "        for r, _, items in filter(lambda x: x[0][lbls.index(l)] > 0, list_tuple_to_indexes):\n",
    "            if cnt == max_cnt:\n",
    "                continue\n",
    "            if r in selected_tuples:\n",
    "                continue\n",
    "            cnt += 1\n",
    "            selected_tuples.add(r)\n",
    "            result.append((r, items[0]))\n",
    "    return result\n",
    "\n",
    "tuple_index_to_noise = populate([\"streaks\", \"negative_network\", \"globules\"])\n",
    "t_i_n_s = (len(tuple_index_to_noise) // 10) + 1\n",
    "\n",
    "\n",
    "split_to_jobs = [\n",
    "    (str(i), tuple_index_to_noise[i * t_i_n_s: (i + 1) * t_i_n_s])\n",
    "    for i in range(10)\n",
    "]\n",
    "print(t_i_n_s)\n",
    "print(len(tuple_index_to_noise))\n",
    "print(sum(len(stj) for _, stj in split_to_jobs))\n"
   ],
   "metadata": {
    "collapsed": false,
    "pycharm": {
     "name": "#%%\n"
    }
   }
  },
  {
   "cell_type": "code",
   "execution_count": 77,
   "outputs": [
    {
     "name": "stderr",
     "output_type": "stream",
     "text": [
      "100%|██████████| 10/10 [00:00<00:00, 98.44it/s]\n",
      "  0%|          | 0/23 [00:00<?, ?it/s]Process LokyProcess-22:\n",
      "Traceback (most recent call last):\n",
      "  File \"/Users/nduginets/.conda/envs/newexorders/lib/python3.7/multiprocessing/process.py\", line 297, in _bootstrap\n",
      "    self.run()\n",
      "  File \"/Users/nduginets/.conda/envs/newexorders/lib/python3.7/multiprocessing/process.py\", line 99, in run\n",
      "    self._target(*self._args, **self._kwargs)\n",
      "  File \"/Users/nduginets/.conda/envs/newexorders/lib/python3.7/site-packages/joblib/externals/loky/process_executor.py\", line 446, in _process_worker\n",
      "    _process_reference_size = _get_memory_usage(pid, force_gc=True)\n",
      "  File \"/Users/nduginets/.conda/envs/newexorders/lib/python3.7/site-packages/joblib/externals/loky/process_executor.py\", line 116, in _get_memory_usage\n",
      "    gc.collect()\n",
      "KeyboardInterrupt\n",
      "Process LokyProcess-20:\n",
      "Traceback (most recent call last):\n",
      "  File \"/Users/nduginets/.conda/envs/newexorders/lib/python3.7/multiprocessing/process.py\", line 297, in _bootstrap\n",
      "    self.run()\n",
      "  File \"/Users/nduginets/.conda/envs/newexorders/lib/python3.7/multiprocessing/process.py\", line 99, in run\n",
      "    self._target(*self._args, **self._kwargs)\n",
      "  File \"/Users/nduginets/.conda/envs/newexorders/lib/python3.7/site-packages/joblib/externals/loky/process_executor.py\", line 446, in _process_worker\n",
      "    _process_reference_size = _get_memory_usage(pid, force_gc=True)\n",
      "  File \"/Users/nduginets/.conda/envs/newexorders/lib/python3.7/site-packages/joblib/externals/loky/process_executor.py\", line 116, in _get_memory_usage\n",
      "    gc.collect()\n",
      "KeyboardInterrupt\n",
      "Process LokyProcess-21:\n",
      "Traceback (most recent call last):\n",
      "  File \"/Users/nduginets/.conda/envs/newexorders/lib/python3.7/multiprocessing/process.py\", line 297, in _bootstrap\n",
      "    self.run()\n",
      "  File \"/Users/nduginets/.conda/envs/newexorders/lib/python3.7/multiprocessing/process.py\", line 99, in run\n",
      "    self._target(*self._args, **self._kwargs)\n",
      "  File \"/Users/nduginets/.conda/envs/newexorders/lib/python3.7/site-packages/joblib/externals/loky/process_executor.py\", line 446, in _process_worker\n",
      "    _process_reference_size = _get_memory_usage(pid, force_gc=True)\n",
      "  File \"/Users/nduginets/.conda/envs/newexorders/lib/python3.7/site-packages/joblib/externals/loky/process_executor.py\", line 116, in _get_memory_usage\n",
      "    gc.collect()\n",
      "KeyboardInterrupt\n"
     ]
    },
    {
     "ename": "KeyboardInterrupt",
     "evalue": "",
     "output_type": "error",
     "traceback": [
      "\u001B[0;31m---------------------------------------------------------------------------\u001B[0m",
      "\u001B[0;31mKeyboardInterrupt\u001B[0m                         Traceback (most recent call last)",
      "\u001B[0;32m~/.conda/envs/newexorders/lib/python3.7/site-packages/joblib/parallel.py\u001B[0m in \u001B[0;36mretrieve\u001B[0;34m(self)\u001B[0m\n\u001B[1;32m    932\u001B[0m                 \u001B[0;32mif\u001B[0m \u001B[0mgetattr\u001B[0m\u001B[0;34m(\u001B[0m\u001B[0mself\u001B[0m\u001B[0;34m.\u001B[0m\u001B[0m_backend\u001B[0m\u001B[0;34m,\u001B[0m \u001B[0;34m'supports_timeout'\u001B[0m\u001B[0;34m,\u001B[0m \u001B[0;32mFalse\u001B[0m\u001B[0;34m)\u001B[0m\u001B[0;34m:\u001B[0m\u001B[0;34m\u001B[0m\u001B[0;34m\u001B[0m\u001B[0m\n\u001B[0;32m--> 933\u001B[0;31m                     \u001B[0mself\u001B[0m\u001B[0;34m.\u001B[0m\u001B[0m_output\u001B[0m\u001B[0;34m.\u001B[0m\u001B[0mextend\u001B[0m\u001B[0;34m(\u001B[0m\u001B[0mjob\u001B[0m\u001B[0;34m.\u001B[0m\u001B[0mget\u001B[0m\u001B[0;34m(\u001B[0m\u001B[0mtimeout\u001B[0m\u001B[0;34m=\u001B[0m\u001B[0mself\u001B[0m\u001B[0;34m.\u001B[0m\u001B[0mtimeout\u001B[0m\u001B[0;34m)\u001B[0m\u001B[0;34m)\u001B[0m\u001B[0;34m\u001B[0m\u001B[0;34m\u001B[0m\u001B[0m\n\u001B[0m\u001B[1;32m    934\u001B[0m                 \u001B[0;32melse\u001B[0m\u001B[0;34m:\u001B[0m\u001B[0;34m\u001B[0m\u001B[0;34m\u001B[0m\u001B[0m\n",
      "\u001B[0;32m~/.conda/envs/newexorders/lib/python3.7/site-packages/joblib/_parallel_backends.py\u001B[0m in \u001B[0;36mwrap_future_result\u001B[0;34m(future, timeout)\u001B[0m\n\u001B[1;32m    541\u001B[0m         \u001B[0;32mtry\u001B[0m\u001B[0;34m:\u001B[0m\u001B[0;34m\u001B[0m\u001B[0;34m\u001B[0m\u001B[0m\n\u001B[0;32m--> 542\u001B[0;31m             \u001B[0;32mreturn\u001B[0m \u001B[0mfuture\u001B[0m\u001B[0;34m.\u001B[0m\u001B[0mresult\u001B[0m\u001B[0;34m(\u001B[0m\u001B[0mtimeout\u001B[0m\u001B[0;34m=\u001B[0m\u001B[0mtimeout\u001B[0m\u001B[0;34m)\u001B[0m\u001B[0;34m\u001B[0m\u001B[0;34m\u001B[0m\u001B[0m\n\u001B[0m\u001B[1;32m    543\u001B[0m         \u001B[0;32mexcept\u001B[0m \u001B[0mCfTimeoutError\u001B[0m \u001B[0;32mas\u001B[0m \u001B[0me\u001B[0m\u001B[0;34m:\u001B[0m\u001B[0;34m\u001B[0m\u001B[0;34m\u001B[0m\u001B[0m\n",
      "\u001B[0;32m~/.conda/envs/newexorders/lib/python3.7/concurrent/futures/_base.py\u001B[0m in \u001B[0;36mresult\u001B[0;34m(self, timeout)\u001B[0m\n\u001B[1;32m    429\u001B[0m \u001B[0;34m\u001B[0m\u001B[0m\n\u001B[0;32m--> 430\u001B[0;31m             \u001B[0mself\u001B[0m\u001B[0;34m.\u001B[0m\u001B[0m_condition\u001B[0m\u001B[0;34m.\u001B[0m\u001B[0mwait\u001B[0m\u001B[0;34m(\u001B[0m\u001B[0mtimeout\u001B[0m\u001B[0;34m)\u001B[0m\u001B[0;34m\u001B[0m\u001B[0;34m\u001B[0m\u001B[0m\n\u001B[0m\u001B[1;32m    431\u001B[0m \u001B[0;34m\u001B[0m\u001B[0m\n",
      "\u001B[0;32m~/.conda/envs/newexorders/lib/python3.7/threading.py\u001B[0m in \u001B[0;36mwait\u001B[0;34m(self, timeout)\u001B[0m\n\u001B[1;32m    295\u001B[0m             \u001B[0;32mif\u001B[0m \u001B[0mtimeout\u001B[0m \u001B[0;32mis\u001B[0m \u001B[0;32mNone\u001B[0m\u001B[0;34m:\u001B[0m\u001B[0;34m\u001B[0m\u001B[0;34m\u001B[0m\u001B[0m\n\u001B[0;32m--> 296\u001B[0;31m                 \u001B[0mwaiter\u001B[0m\u001B[0;34m.\u001B[0m\u001B[0macquire\u001B[0m\u001B[0;34m(\u001B[0m\u001B[0;34m)\u001B[0m\u001B[0;34m\u001B[0m\u001B[0;34m\u001B[0m\u001B[0m\n\u001B[0m\u001B[1;32m    297\u001B[0m                 \u001B[0mgotit\u001B[0m \u001B[0;34m=\u001B[0m \u001B[0;32mTrue\u001B[0m\u001B[0;34m\u001B[0m\u001B[0;34m\u001B[0m\u001B[0m\n",
      "\u001B[0;31mKeyboardInterrupt\u001B[0m: ",
      "\nDuring handling of the above exception, another exception occurred:\n",
      "\u001B[0;31mKeyboardInterrupt\u001B[0m                         Traceback (most recent call last)",
      "\u001B[0;32m~/.conda/envs/newexorders/lib/python3.7/site-packages/joblib/parallel.py\u001B[0m in \u001B[0;36m__call__\u001B[0;34m(self, iterable)\u001B[0m\n\u001B[1;32m   1053\u001B[0m             \u001B[0;32mwith\u001B[0m \u001B[0mself\u001B[0m\u001B[0;34m.\u001B[0m\u001B[0m_backend\u001B[0m\u001B[0;34m.\u001B[0m\u001B[0mretrieval_context\u001B[0m\u001B[0;34m(\u001B[0m\u001B[0;34m)\u001B[0m\u001B[0;34m:\u001B[0m\u001B[0;34m\u001B[0m\u001B[0;34m\u001B[0m\u001B[0m\n\u001B[0;32m-> 1054\u001B[0;31m                 \u001B[0mself\u001B[0m\u001B[0;34m.\u001B[0m\u001B[0mretrieve\u001B[0m\u001B[0;34m(\u001B[0m\u001B[0;34m)\u001B[0m\u001B[0;34m\u001B[0m\u001B[0;34m\u001B[0m\u001B[0m\n\u001B[0m\u001B[1;32m   1055\u001B[0m             \u001B[0;31m# Make sure that we get a last message telling us we are done\u001B[0m\u001B[0;34m\u001B[0m\u001B[0;34m\u001B[0m\u001B[0;34m\u001B[0m\u001B[0m\n",
      "\u001B[0;32m~/.conda/envs/newexorders/lib/python3.7/site-packages/joblib/parallel.py\u001B[0m in \u001B[0;36mretrieve\u001B[0;34m(self)\u001B[0m\n\u001B[1;32m    954\u001B[0m                     \u001B[0mensure_ready\u001B[0m \u001B[0;34m=\u001B[0m \u001B[0mself\u001B[0m\u001B[0;34m.\u001B[0m\u001B[0m_managed_backend\u001B[0m\u001B[0;34m\u001B[0m\u001B[0;34m\u001B[0m\u001B[0m\n\u001B[0;32m--> 955\u001B[0;31m                     \u001B[0mbackend\u001B[0m\u001B[0;34m.\u001B[0m\u001B[0mabort_everything\u001B[0m\u001B[0;34m(\u001B[0m\u001B[0mensure_ready\u001B[0m\u001B[0;34m=\u001B[0m\u001B[0mensure_ready\u001B[0m\u001B[0;34m)\u001B[0m\u001B[0;34m\u001B[0m\u001B[0;34m\u001B[0m\u001B[0m\n\u001B[0m\u001B[1;32m    956\u001B[0m                 \u001B[0;32mraise\u001B[0m\u001B[0;34m\u001B[0m\u001B[0;34m\u001B[0m\u001B[0m\n",
      "\u001B[0;32m~/.conda/envs/newexorders/lib/python3.7/site-packages/joblib/_parallel_backends.py\u001B[0m in \u001B[0;36mabort_everything\u001B[0;34m(self, ensure_ready)\u001B[0m\n\u001B[1;32m    560\u001B[0m         \"\"\"\n\u001B[0;32m--> 561\u001B[0;31m         \u001B[0mself\u001B[0m\u001B[0;34m.\u001B[0m\u001B[0m_workers\u001B[0m\u001B[0;34m.\u001B[0m\u001B[0mterminate\u001B[0m\u001B[0;34m(\u001B[0m\u001B[0mkill_workers\u001B[0m\u001B[0;34m=\u001B[0m\u001B[0;32mTrue\u001B[0m\u001B[0;34m)\u001B[0m\u001B[0;34m\u001B[0m\u001B[0;34m\u001B[0m\u001B[0m\n\u001B[0m\u001B[1;32m    562\u001B[0m         \u001B[0mself\u001B[0m\u001B[0;34m.\u001B[0m\u001B[0m_workers\u001B[0m \u001B[0;34m=\u001B[0m \u001B[0;32mNone\u001B[0m\u001B[0;34m\u001B[0m\u001B[0;34m\u001B[0m\u001B[0m\n",
      "\u001B[0;32m~/.conda/envs/newexorders/lib/python3.7/site-packages/joblib/executor.py\u001B[0m in \u001B[0;36mterminate\u001B[0;34m(self, kill_workers)\u001B[0m\n\u001B[1;32m     73\u001B[0m     \u001B[0;32mdef\u001B[0m \u001B[0mterminate\u001B[0m\u001B[0;34m(\u001B[0m\u001B[0mself\u001B[0m\u001B[0;34m,\u001B[0m \u001B[0mkill_workers\u001B[0m\u001B[0;34m=\u001B[0m\u001B[0;32mFalse\u001B[0m\u001B[0;34m)\u001B[0m\u001B[0;34m:\u001B[0m\u001B[0;34m\u001B[0m\u001B[0;34m\u001B[0m\u001B[0m\n\u001B[0;32m---> 74\u001B[0;31m         \u001B[0mself\u001B[0m\u001B[0;34m.\u001B[0m\u001B[0mshutdown\u001B[0m\u001B[0;34m(\u001B[0m\u001B[0mkill_workers\u001B[0m\u001B[0;34m=\u001B[0m\u001B[0mkill_workers\u001B[0m\u001B[0;34m)\u001B[0m\u001B[0;34m\u001B[0m\u001B[0;34m\u001B[0m\u001B[0m\n\u001B[0m\u001B[1;32m     75\u001B[0m         \u001B[0;32mif\u001B[0m \u001B[0mkill_workers\u001B[0m\u001B[0;34m:\u001B[0m\u001B[0;34m\u001B[0m\u001B[0;34m\u001B[0m\u001B[0m\n",
      "\u001B[0;32m~/.conda/envs/newexorders/lib/python3.7/site-packages/joblib/externals/loky/process_executor.py\u001B[0m in \u001B[0;36mshutdown\u001B[0;34m(self, wait, kill_workers)\u001B[0m\n\u001B[1;32m   1170\u001B[0m         \u001B[0;32mif\u001B[0m \u001B[0mexecutor_manager_thread\u001B[0m \u001B[0;32mis\u001B[0m \u001B[0;32mnot\u001B[0m \u001B[0;32mNone\u001B[0m \u001B[0;32mand\u001B[0m \u001B[0mwait\u001B[0m\u001B[0;34m:\u001B[0m\u001B[0;34m\u001B[0m\u001B[0;34m\u001B[0m\u001B[0m\n\u001B[0;32m-> 1171\u001B[0;31m             \u001B[0mexecutor_manager_thread\u001B[0m\u001B[0;34m.\u001B[0m\u001B[0mjoin\u001B[0m\u001B[0;34m(\u001B[0m\u001B[0;34m)\u001B[0m\u001B[0;34m\u001B[0m\u001B[0;34m\u001B[0m\u001B[0m\n\u001B[0m\u001B[1;32m   1172\u001B[0m \u001B[0;34m\u001B[0m\u001B[0m\n",
      "\u001B[0;32m~/.conda/envs/newexorders/lib/python3.7/threading.py\u001B[0m in \u001B[0;36mjoin\u001B[0;34m(self, timeout)\u001B[0m\n\u001B[1;32m   1043\u001B[0m         \u001B[0;32mif\u001B[0m \u001B[0mtimeout\u001B[0m \u001B[0;32mis\u001B[0m \u001B[0;32mNone\u001B[0m\u001B[0;34m:\u001B[0m\u001B[0;34m\u001B[0m\u001B[0;34m\u001B[0m\u001B[0m\n\u001B[0;32m-> 1044\u001B[0;31m             \u001B[0mself\u001B[0m\u001B[0;34m.\u001B[0m\u001B[0m_wait_for_tstate_lock\u001B[0m\u001B[0;34m(\u001B[0m\u001B[0;34m)\u001B[0m\u001B[0;34m\u001B[0m\u001B[0;34m\u001B[0m\u001B[0m\n\u001B[0m\u001B[1;32m   1045\u001B[0m         \u001B[0;32melse\u001B[0m\u001B[0;34m:\u001B[0m\u001B[0;34m\u001B[0m\u001B[0;34m\u001B[0m\u001B[0m\n",
      "\u001B[0;32m~/.conda/envs/newexorders/lib/python3.7/threading.py\u001B[0m in \u001B[0;36m_wait_for_tstate_lock\u001B[0;34m(self, block, timeout)\u001B[0m\n\u001B[1;32m   1059\u001B[0m             \u001B[0;32massert\u001B[0m \u001B[0mself\u001B[0m\u001B[0;34m.\u001B[0m\u001B[0m_is_stopped\u001B[0m\u001B[0;34m\u001B[0m\u001B[0;34m\u001B[0m\u001B[0m\n\u001B[0;32m-> 1060\u001B[0;31m         \u001B[0;32melif\u001B[0m \u001B[0mlock\u001B[0m\u001B[0;34m.\u001B[0m\u001B[0macquire\u001B[0m\u001B[0;34m(\u001B[0m\u001B[0mblock\u001B[0m\u001B[0;34m,\u001B[0m \u001B[0mtimeout\u001B[0m\u001B[0;34m)\u001B[0m\u001B[0;34m:\u001B[0m\u001B[0;34m\u001B[0m\u001B[0;34m\u001B[0m\u001B[0m\n\u001B[0m\u001B[1;32m   1061\u001B[0m             \u001B[0mlock\u001B[0m\u001B[0;34m.\u001B[0m\u001B[0mrelease\u001B[0m\u001B[0;34m(\u001B[0m\u001B[0;34m)\u001B[0m\u001B[0;34m\u001B[0m\u001B[0;34m\u001B[0m\u001B[0m\n",
      "\u001B[0;31mKeyboardInterrupt\u001B[0m: ",
      "\nDuring handling of the above exception, another exception occurred:\n",
      "\u001B[0;31mKeyboardInterrupt\u001B[0m                         Traceback (most recent call last)",
      "\u001B[0;32m/var/folders/mf/r4_18sz94v578fb464scx80r0000gp/T/ipykernel_91847/1388456219.py\u001B[0m in \u001B[0;36m<module>\u001B[0;34m\u001B[0m\n\u001B[1;32m      7\u001B[0m     \u001B[0;32mreturn\u001B[0m \u001B[0midxes\u001B[0m\u001B[0;34m\u001B[0m\u001B[0;34m\u001B[0m\u001B[0m\n\u001B[1;32m      8\u001B[0m \u001B[0;34m\u001B[0m\u001B[0m\n\u001B[0;32m----> 9\u001B[0;31m \u001B[0mresults\u001B[0m \u001B[0;34m=\u001B[0m \u001B[0mParallel\u001B[0m\u001B[0;34m(\u001B[0m\u001B[0mn_jobs\u001B[0m\u001B[0;34m=\u001B[0m\u001B[0;36m10\u001B[0m\u001B[0;34m)\u001B[0m\u001B[0;34m(\u001B[0m\u001B[0mdelayed\u001B[0m\u001B[0;34m(\u001B[0m\u001B[0mprint_some\u001B[0m\u001B[0;34m)\u001B[0m\u001B[0;34m(\u001B[0m\u001B[0mi\u001B[0m\u001B[0;34m)\u001B[0m \u001B[0;32mfor\u001B[0m \u001B[0mi\u001B[0m \u001B[0;32min\u001B[0m \u001B[0mtqdm\u001B[0m\u001B[0;34m(\u001B[0m\u001B[0msplit_to_jobs\u001B[0m\u001B[0;34m)\u001B[0m\u001B[0;34m)\u001B[0m\u001B[0;34m\u001B[0m\u001B[0;34m\u001B[0m\u001B[0m\n\u001B[0m\u001B[1;32m     10\u001B[0m \u001B[0;34m\u001B[0m\u001B[0m\n\u001B[1;32m     11\u001B[0m \u001B[0mprint\u001B[0m\u001B[0;34m(\u001B[0m\u001B[0mresults\u001B[0m\u001B[0;34m)\u001B[0m\u001B[0;34m\u001B[0m\u001B[0;34m\u001B[0m\u001B[0m\n",
      "\u001B[0;32m~/.conda/envs/newexorders/lib/python3.7/site-packages/joblib/parallel.py\u001B[0m in \u001B[0;36m__call__\u001B[0;34m(self, iterable)\u001B[0m\n\u001B[1;32m   1062\u001B[0m                 \u001B[0mself\u001B[0m\u001B[0;34m.\u001B[0m\u001B[0m_backend\u001B[0m\u001B[0;34m.\u001B[0m\u001B[0mstop_call\u001B[0m\u001B[0;34m(\u001B[0m\u001B[0;34m)\u001B[0m\u001B[0;34m\u001B[0m\u001B[0;34m\u001B[0m\u001B[0m\n\u001B[1;32m   1063\u001B[0m             \u001B[0;32mif\u001B[0m \u001B[0;32mnot\u001B[0m \u001B[0mself\u001B[0m\u001B[0;34m.\u001B[0m\u001B[0m_managed_backend\u001B[0m\u001B[0;34m:\u001B[0m\u001B[0;34m\u001B[0m\u001B[0;34m\u001B[0m\u001B[0m\n\u001B[0;32m-> 1064\u001B[0;31m                 \u001B[0mself\u001B[0m\u001B[0;34m.\u001B[0m\u001B[0m_terminate_backend\u001B[0m\u001B[0;34m(\u001B[0m\u001B[0;34m)\u001B[0m\u001B[0;34m\u001B[0m\u001B[0;34m\u001B[0m\u001B[0m\n\u001B[0m\u001B[1;32m   1065\u001B[0m             \u001B[0mself\u001B[0m\u001B[0;34m.\u001B[0m\u001B[0m_jobs\u001B[0m \u001B[0;34m=\u001B[0m \u001B[0mlist\u001B[0m\u001B[0;34m(\u001B[0m\u001B[0;34m)\u001B[0m\u001B[0;34m\u001B[0m\u001B[0;34m\u001B[0m\u001B[0m\n\u001B[1;32m   1066\u001B[0m             \u001B[0mself\u001B[0m\u001B[0;34m.\u001B[0m\u001B[0m_pickle_cache\u001B[0m \u001B[0;34m=\u001B[0m \u001B[0;32mNone\u001B[0m\u001B[0;34m\u001B[0m\u001B[0;34m\u001B[0m\u001B[0m\n",
      "\u001B[0;32m~/.conda/envs/newexorders/lib/python3.7/site-packages/joblib/parallel.py\u001B[0m in \u001B[0;36m_terminate_backend\u001B[0;34m(self)\u001B[0m\n\u001B[1;32m    755\u001B[0m     \u001B[0;32mdef\u001B[0m \u001B[0m_terminate_backend\u001B[0m\u001B[0;34m(\u001B[0m\u001B[0mself\u001B[0m\u001B[0;34m)\u001B[0m\u001B[0;34m:\u001B[0m\u001B[0;34m\u001B[0m\u001B[0;34m\u001B[0m\u001B[0m\n\u001B[1;32m    756\u001B[0m         \u001B[0;32mif\u001B[0m \u001B[0mself\u001B[0m\u001B[0;34m.\u001B[0m\u001B[0m_backend\u001B[0m \u001B[0;32mis\u001B[0m \u001B[0;32mnot\u001B[0m \u001B[0;32mNone\u001B[0m\u001B[0;34m:\u001B[0m\u001B[0;34m\u001B[0m\u001B[0;34m\u001B[0m\u001B[0m\n\u001B[0;32m--> 757\u001B[0;31m             \u001B[0mself\u001B[0m\u001B[0;34m.\u001B[0m\u001B[0m_backend\u001B[0m\u001B[0;34m.\u001B[0m\u001B[0mterminate\u001B[0m\u001B[0;34m(\u001B[0m\u001B[0;34m)\u001B[0m\u001B[0;34m\u001B[0m\u001B[0;34m\u001B[0m\u001B[0m\n\u001B[0m\u001B[1;32m    758\u001B[0m \u001B[0;34m\u001B[0m\u001B[0m\n\u001B[1;32m    759\u001B[0m     \u001B[0;32mdef\u001B[0m \u001B[0m_dispatch\u001B[0m\u001B[0;34m(\u001B[0m\u001B[0mself\u001B[0m\u001B[0;34m,\u001B[0m \u001B[0mbatch\u001B[0m\u001B[0;34m)\u001B[0m\u001B[0;34m:\u001B[0m\u001B[0;34m\u001B[0m\u001B[0;34m\u001B[0m\u001B[0m\n",
      "\u001B[0;32m~/.conda/envs/newexorders/lib/python3.7/site-packages/joblib/_parallel_backends.py\u001B[0m in \u001B[0;36mterminate\u001B[0;34m(self)\u001B[0m\n\u001B[1;32m    550\u001B[0m             \u001B[0;31m# created. This 'hack' requires a private, low-level operation.\u001B[0m\u001B[0;34m\u001B[0m\u001B[0;34m\u001B[0m\u001B[0;34m\u001B[0m\u001B[0m\n\u001B[1;32m    551\u001B[0m             self._workers._temp_folder_manager._unlink_temporary_resources(\n\u001B[0;32m--> 552\u001B[0;31m                 \u001B[0mcontext_id\u001B[0m\u001B[0;34m=\u001B[0m\u001B[0mself\u001B[0m\u001B[0;34m.\u001B[0m\u001B[0mparallel\u001B[0m\u001B[0;34m.\u001B[0m\u001B[0m_id\u001B[0m\u001B[0;34m\u001B[0m\u001B[0;34m\u001B[0m\u001B[0m\n\u001B[0m\u001B[1;32m    553\u001B[0m             )\n\u001B[1;32m    554\u001B[0m             \u001B[0mself\u001B[0m\u001B[0;34m.\u001B[0m\u001B[0m_workers\u001B[0m \u001B[0;34m=\u001B[0m \u001B[0;32mNone\u001B[0m\u001B[0;34m\u001B[0m\u001B[0;34m\u001B[0m\u001B[0m\n",
      "\u001B[0;32m~/.conda/envs/newexorders/lib/python3.7/site-packages/joblib/_memmapping_reducer.py\u001B[0m in \u001B[0;36m_unlink_temporary_resources\u001B[0;34m(self, context_id)\u001B[0m\n\u001B[1;32m    626\u001B[0m                     )\n\u001B[1;32m    627\u001B[0m                 self._try_delete_folder(\n\u001B[0;32m--> 628\u001B[0;31m                     \u001B[0mallow_non_empty\u001B[0m\u001B[0;34m=\u001B[0m\u001B[0;32mFalse\u001B[0m\u001B[0;34m,\u001B[0m \u001B[0mcontext_id\u001B[0m\u001B[0;34m=\u001B[0m\u001B[0mcontext_id\u001B[0m\u001B[0;34m\u001B[0m\u001B[0;34m\u001B[0m\u001B[0m\n\u001B[0m\u001B[1;32m    629\u001B[0m                 )\n\u001B[1;32m    630\u001B[0m \u001B[0;34m\u001B[0m\u001B[0m\n",
      "\u001B[0;32m~/.conda/envs/newexorders/lib/python3.7/site-packages/joblib/_memmapping_reducer.py\u001B[0m in \u001B[0;36m_try_delete_folder\u001B[0;34m(self, allow_non_empty, context_id)\u001B[0m\n\u001B[1;32m    653\u001B[0m             \u001B[0;32mtry\u001B[0m\u001B[0;34m:\u001B[0m\u001B[0;34m\u001B[0m\u001B[0;34m\u001B[0m\u001B[0m\n\u001B[1;32m    654\u001B[0m                 delete_folder(\n\u001B[0;32m--> 655\u001B[0;31m                     \u001B[0mtemp_folder\u001B[0m\u001B[0;34m,\u001B[0m \u001B[0mallow_non_empty\u001B[0m\u001B[0;34m=\u001B[0m\u001B[0mallow_non_empty\u001B[0m\u001B[0;34m\u001B[0m\u001B[0;34m\u001B[0m\u001B[0m\n\u001B[0m\u001B[1;32m    656\u001B[0m                 )\n\u001B[1;32m    657\u001B[0m                 \u001B[0;31m# Now that this folder is deleted, we can forget about it\u001B[0m\u001B[0;34m\u001B[0m\u001B[0;34m\u001B[0m\u001B[0;34m\u001B[0m\u001B[0m\n",
      "\u001B[0;32m~/.conda/envs/newexorders/lib/python3.7/site-packages/joblib/disk.py\u001B[0m in \u001B[0;36mdelete_folder\u001B[0;34m(folder_path, onerror, allow_non_empty)\u001B[0m\n\u001B[1;32m    134\u001B[0m                         \u001B[0;31m# yet.\u001B[0m\u001B[0;34m\u001B[0m\u001B[0;34m\u001B[0m\u001B[0;34m\u001B[0m\u001B[0m\n\u001B[1;32m    135\u001B[0m                         \u001B[0;32mraise\u001B[0m\u001B[0;34m\u001B[0m\u001B[0;34m\u001B[0m\u001B[0m\n\u001B[0;32m--> 136\u001B[0;31m                 \u001B[0mtime\u001B[0m\u001B[0;34m.\u001B[0m\u001B[0msleep\u001B[0m\u001B[0;34m(\u001B[0m\u001B[0mRM_SUBDIRS_RETRY_TIME\u001B[0m\u001B[0;34m)\u001B[0m\u001B[0;34m\u001B[0m\u001B[0;34m\u001B[0m\u001B[0m\n\u001B[0m",
      "\u001B[0;31mKeyboardInterrupt\u001B[0m: "
     ]
    }
   ],
   "source": [
    "from joblib import Parallel, delayed\n",
    "\n",
    "def print_some(x):\n",
    "    letter = x[0]\n",
    "    idxes = [i for _, i in x[1]]\n",
    "    create_dataset(idxes, letter)\n",
    "    return idxes\n",
    "\n",
    "results = Parallel(n_jobs=10)(delayed(print_some)(i) for i in tqdm(split_to_jobs))\n",
    "\n",
    "print(results)"
   ],
   "metadata": {
    "collapsed": false,
    "pycharm": {
     "name": "#%%%\n"
    }
   }
  }
 ],
 "metadata": {
  "kernelspec": {
   "display_name": "Python 3",
   "language": "python",
   "name": "python3"
  },
  "language_info": {
   "codemirror_mode": {
    "name": "ipython",
    "version": 2
   },
   "file_extension": ".py",
   "mimetype": "text/x-python",
   "name": "python",
   "nbconvert_exporter": "python",
   "pygments_lexer": "ipython2",
   "version": "2.7.6"
  }
 },
 "nbformat": 4,
 "nbformat_minor": 0
}