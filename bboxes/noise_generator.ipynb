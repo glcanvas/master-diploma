{
 "cells": [
  {
   "cell_type": "code",
   "execution_count": 1,
   "metadata": {
    "collapsed": true
   },
   "outputs": [],
   "source": [
    "import numpy as np\n",
    "import matplotlib.pyplot as plt\n",
    "import math\n",
    "import matplotlib.image as mpimg\n",
    "import glob\n",
    "import json\n",
    "import os\n",
    "import torch\n",
    "import torch.nn as nn\n",
    "import torch\n",
    "from torch.autograd import Variable\n",
    "import torch.nn.functional as F\n",
    "import torch.optim as optim\n",
    "from torch.utils.data import DataLoader, sampler\n",
    "import pandas as pd\n",
    "import copy"
   ]
  },
  {
   "cell_type": "code",
   "execution_count": 2,
   "outputs": [
    {
     "data": {
      "text/plain": "      name  segm_x_0  segm_y_0  segm_x_size_0  segm_y_size_0  segm_x_1  \\\n0        0  0.060547  0.048387       0.763672       0.828446       0.0   \n1        0  0.300781  0.351906       0.324219       0.280059       0.0   \n2        0  0.066406  0.255132       0.841797       0.570381       0.0   \n3        0  0.076172  0.177419       0.855469       0.523460       0.0   \n4        0  0.250000  0.328446       0.447266       0.280059       0.0   \n...    ...       ...       ...            ...            ...       ...   \n2589  1606  0.275391  0.342412       0.556641       0.341115       0.0   \n2590  1606  0.525391  0.440986       0.207031       0.137484       0.0   \n2591  1607  0.468750  0.443580       0.193359       0.159533       0.0   \n2592  1607  0.435547  0.374838       0.189453       0.219196       0.0   \n2593  1607  0.445312  0.385214       0.445312       0.294423       0.0   \n\n      segm_y_1  segm_x_size_1  segm_y_size_1  segm_x_2  ...  \\\n0          0.0            0.0            0.0       0.0  ...   \n1          0.0            0.0            0.0       0.0  ...   \n2          0.0            0.0            0.0       0.0  ...   \n3          0.0            0.0            0.0       0.0  ...   \n4          0.0            0.0            0.0       0.0  ...   \n...        ...            ...            ...       ...  ...   \n2589       0.0            0.0            0.0       0.0  ...   \n2590       0.0            0.0            0.0       0.0  ...   \n2591       0.0            0.0            0.0       0.0  ...   \n2592       0.0            0.0            0.0       0.0  ...   \n2593       0.0            0.0            0.0       0.0  ...   \n\n      streaks_x_size_12  streaks_y_size_12  streaks_x_13  streaks_y_13  \\\n0                     0                  0             0             0   \n1                     0                  0             0             0   \n2                     0                  0             0             0   \n3                     0                  0             0             0   \n4                     0                  0             0             0   \n...                 ...                ...           ...           ...   \n2589                  0                  0             0             0   \n2590                  0                  0             0             0   \n2591                  0                  0             0             0   \n2592                  0                  0             0             0   \n2593                  0                  0             0             0   \n\n      streaks_x_size_13  streaks_y_size_13  streaks_x_14  streaks_y_14  \\\n0                     0                  0             0             0   \n1                     0                  0             0             0   \n2                     0                  0             0             0   \n3                     0                  0             0             0   \n4                     0                  0             0             0   \n...                 ...                ...           ...           ...   \n2589                  0                  0             0             0   \n2590                  0                  0             0             0   \n2591                  0                  0             0             0   \n2592                  0                  0             0             0   \n2593                  0                  0             0             0   \n\n      streaks_x_size_14  streaks_y_size_14  \n0                     0                  0  \n1                     0                  0  \n2                     0                  0  \n3                     0                  0  \n4                     0                  0  \n...                 ...                ...  \n2589                  0                  0  \n2590                  0                  0  \n2591                  0                  0  \n2592                  0                  0  \n2593                  0                  0  \n\n[2594 rows x 361 columns]",
      "text/html": "<div>\n<style scoped>\n    .dataframe tbody tr th:only-of-type {\n        vertical-align: middle;\n    }\n\n    .dataframe tbody tr th {\n        vertical-align: top;\n    }\n\n    .dataframe thead th {\n        text-align: right;\n    }\n</style>\n<table border=\"1\" class=\"dataframe\">\n  <thead>\n    <tr style=\"text-align: right;\">\n      <th></th>\n      <th>name</th>\n      <th>segm_x_0</th>\n      <th>segm_y_0</th>\n      <th>segm_x_size_0</th>\n      <th>segm_y_size_0</th>\n      <th>segm_x_1</th>\n      <th>segm_y_1</th>\n      <th>segm_x_size_1</th>\n      <th>segm_y_size_1</th>\n      <th>segm_x_2</th>\n      <th>...</th>\n      <th>streaks_x_size_12</th>\n      <th>streaks_y_size_12</th>\n      <th>streaks_x_13</th>\n      <th>streaks_y_13</th>\n      <th>streaks_x_size_13</th>\n      <th>streaks_y_size_13</th>\n      <th>streaks_x_14</th>\n      <th>streaks_y_14</th>\n      <th>streaks_x_size_14</th>\n      <th>streaks_y_size_14</th>\n    </tr>\n  </thead>\n  <tbody>\n    <tr>\n      <th>0</th>\n      <td>0</td>\n      <td>0.060547</td>\n      <td>0.048387</td>\n      <td>0.763672</td>\n      <td>0.828446</td>\n      <td>0.0</td>\n      <td>0.0</td>\n      <td>0.0</td>\n      <td>0.0</td>\n      <td>0.0</td>\n      <td>...</td>\n      <td>0</td>\n      <td>0</td>\n      <td>0</td>\n      <td>0</td>\n      <td>0</td>\n      <td>0</td>\n      <td>0</td>\n      <td>0</td>\n      <td>0</td>\n      <td>0</td>\n    </tr>\n    <tr>\n      <th>1</th>\n      <td>0</td>\n      <td>0.300781</td>\n      <td>0.351906</td>\n      <td>0.324219</td>\n      <td>0.280059</td>\n      <td>0.0</td>\n      <td>0.0</td>\n      <td>0.0</td>\n      <td>0.0</td>\n      <td>0.0</td>\n      <td>...</td>\n      <td>0</td>\n      <td>0</td>\n      <td>0</td>\n      <td>0</td>\n      <td>0</td>\n      <td>0</td>\n      <td>0</td>\n      <td>0</td>\n      <td>0</td>\n      <td>0</td>\n    </tr>\n    <tr>\n      <th>2</th>\n      <td>0</td>\n      <td>0.066406</td>\n      <td>0.255132</td>\n      <td>0.841797</td>\n      <td>0.570381</td>\n      <td>0.0</td>\n      <td>0.0</td>\n      <td>0.0</td>\n      <td>0.0</td>\n      <td>0.0</td>\n      <td>...</td>\n      <td>0</td>\n      <td>0</td>\n      <td>0</td>\n      <td>0</td>\n      <td>0</td>\n      <td>0</td>\n      <td>0</td>\n      <td>0</td>\n      <td>0</td>\n      <td>0</td>\n    </tr>\n    <tr>\n      <th>3</th>\n      <td>0</td>\n      <td>0.076172</td>\n      <td>0.177419</td>\n      <td>0.855469</td>\n      <td>0.523460</td>\n      <td>0.0</td>\n      <td>0.0</td>\n      <td>0.0</td>\n      <td>0.0</td>\n      <td>0.0</td>\n      <td>...</td>\n      <td>0</td>\n      <td>0</td>\n      <td>0</td>\n      <td>0</td>\n      <td>0</td>\n      <td>0</td>\n      <td>0</td>\n      <td>0</td>\n      <td>0</td>\n      <td>0</td>\n    </tr>\n    <tr>\n      <th>4</th>\n      <td>0</td>\n      <td>0.250000</td>\n      <td>0.328446</td>\n      <td>0.447266</td>\n      <td>0.280059</td>\n      <td>0.0</td>\n      <td>0.0</td>\n      <td>0.0</td>\n      <td>0.0</td>\n      <td>0.0</td>\n      <td>...</td>\n      <td>0</td>\n      <td>0</td>\n      <td>0</td>\n      <td>0</td>\n      <td>0</td>\n      <td>0</td>\n      <td>0</td>\n      <td>0</td>\n      <td>0</td>\n      <td>0</td>\n    </tr>\n    <tr>\n      <th>...</th>\n      <td>...</td>\n      <td>...</td>\n      <td>...</td>\n      <td>...</td>\n      <td>...</td>\n      <td>...</td>\n      <td>...</td>\n      <td>...</td>\n      <td>...</td>\n      <td>...</td>\n      <td>...</td>\n      <td>...</td>\n      <td>...</td>\n      <td>...</td>\n      <td>...</td>\n      <td>...</td>\n      <td>...</td>\n      <td>...</td>\n      <td>...</td>\n      <td>...</td>\n      <td>...</td>\n    </tr>\n    <tr>\n      <th>2589</th>\n      <td>1606</td>\n      <td>0.275391</td>\n      <td>0.342412</td>\n      <td>0.556641</td>\n      <td>0.341115</td>\n      <td>0.0</td>\n      <td>0.0</td>\n      <td>0.0</td>\n      <td>0.0</td>\n      <td>0.0</td>\n      <td>...</td>\n      <td>0</td>\n      <td>0</td>\n      <td>0</td>\n      <td>0</td>\n      <td>0</td>\n      <td>0</td>\n      <td>0</td>\n      <td>0</td>\n      <td>0</td>\n      <td>0</td>\n    </tr>\n    <tr>\n      <th>2590</th>\n      <td>1606</td>\n      <td>0.525391</td>\n      <td>0.440986</td>\n      <td>0.207031</td>\n      <td>0.137484</td>\n      <td>0.0</td>\n      <td>0.0</td>\n      <td>0.0</td>\n      <td>0.0</td>\n      <td>0.0</td>\n      <td>...</td>\n      <td>0</td>\n      <td>0</td>\n      <td>0</td>\n      <td>0</td>\n      <td>0</td>\n      <td>0</td>\n      <td>0</td>\n      <td>0</td>\n      <td>0</td>\n      <td>0</td>\n    </tr>\n    <tr>\n      <th>2591</th>\n      <td>1607</td>\n      <td>0.468750</td>\n      <td>0.443580</td>\n      <td>0.193359</td>\n      <td>0.159533</td>\n      <td>0.0</td>\n      <td>0.0</td>\n      <td>0.0</td>\n      <td>0.0</td>\n      <td>0.0</td>\n      <td>...</td>\n      <td>0</td>\n      <td>0</td>\n      <td>0</td>\n      <td>0</td>\n      <td>0</td>\n      <td>0</td>\n      <td>0</td>\n      <td>0</td>\n      <td>0</td>\n      <td>0</td>\n    </tr>\n    <tr>\n      <th>2592</th>\n      <td>1607</td>\n      <td>0.435547</td>\n      <td>0.374838</td>\n      <td>0.189453</td>\n      <td>0.219196</td>\n      <td>0.0</td>\n      <td>0.0</td>\n      <td>0.0</td>\n      <td>0.0</td>\n      <td>0.0</td>\n      <td>...</td>\n      <td>0</td>\n      <td>0</td>\n      <td>0</td>\n      <td>0</td>\n      <td>0</td>\n      <td>0</td>\n      <td>0</td>\n      <td>0</td>\n      <td>0</td>\n      <td>0</td>\n    </tr>\n    <tr>\n      <th>2593</th>\n      <td>1607</td>\n      <td>0.445312</td>\n      <td>0.385214</td>\n      <td>0.445312</td>\n      <td>0.294423</td>\n      <td>0.0</td>\n      <td>0.0</td>\n      <td>0.0</td>\n      <td>0.0</td>\n      <td>0.0</td>\n      <td>...</td>\n      <td>0</td>\n      <td>0</td>\n      <td>0</td>\n      <td>0</td>\n      <td>0</td>\n      <td>0</td>\n      <td>0</td>\n      <td>0</td>\n      <td>0</td>\n      <td>0</td>\n    </tr>\n  </tbody>\n</table>\n<p>2594 rows × 361 columns</p>\n</div>"
     },
     "execution_count": 2,
     "metadata": {},
     "output_type": "execute_result"
    }
   ],
   "source": [
    "dataset_path = \"/Users/nduginets/PycharmProjects/master-diploma/GAN_to_box/test_data/isic_2018_boxes.csv\"\n",
    "frame = pd.read_csv(dataset_path)"
   ],
   "metadata": {
    "collapsed": false,
    "pycharm": {
     "name": "#%%\n"
    }
   }
  },
  {
   "cell_type": "code",
   "execution_count": 9,
   "outputs": [
    {
     "data": {
      "text/plain": "[Index(['segm_x_0', 'segm_y_0', 'segm_x_size_0', 'segm_y_size_0', 'segm_x_1',\n        'segm_y_1', 'segm_x_size_1', 'segm_y_size_1', 'segm_x_2', 'segm_y_2',\n        'segm_x_size_2', 'segm_y_size_2', 'segm_x_3', 'segm_y_3',\n        'segm_x_size_3', 'segm_y_size_3', 'segm_x_4', 'segm_y_4',\n        'segm_x_size_4', 'segm_y_size_4', 'segm_x_5', 'segm_y_5',\n        'segm_x_size_5', 'segm_y_size_5', 'segm_x_6', 'segm_y_6',\n        'segm_x_size_6', 'segm_y_size_6', 'segm_x_7', 'segm_y_7',\n        'segm_x_size_7', 'segm_y_size_7', 'segm_x_8', 'segm_y_8',\n        'segm_x_size_8', 'segm_y_size_8', 'segm_x_9', 'segm_y_9',\n        'segm_x_size_9', 'segm_y_size_9', 'segm_x_10', 'segm_y_10',\n        'segm_x_size_10', 'segm_y_size_10', 'segm_x_11', 'segm_y_11',\n        'segm_x_size_11', 'segm_y_size_11', 'segm_x_12', 'segm_y_12',\n        'segm_x_size_12', 'segm_y_size_12', 'segm_x_13', 'segm_y_13',\n        'segm_x_size_13', 'segm_y_size_13', 'segm_x_14', 'segm_y_14',\n        'segm_x_size_14', 'segm_y_size_14'],\n       dtype='object'),\n Index(['globules_x_0', 'globules_y_0', 'globules_x_size_0',\n        'globules_y_size_0', 'globules_x_1', 'globules_y_1',\n        'globules_x_size_1', 'globules_y_size_1', 'globules_x_2',\n        'globules_y_2', 'globules_x_size_2', 'globules_y_size_2',\n        'globules_x_3', 'globules_y_3', 'globules_x_size_3',\n        'globules_y_size_3', 'globules_x_4', 'globules_y_4',\n        'globules_x_size_4', 'globules_y_size_4', 'globules_x_5',\n        'globules_y_5', 'globules_x_size_5', 'globules_y_size_5',\n        'globules_x_6', 'globules_y_6', 'globules_x_size_6',\n        'globules_y_size_6', 'globules_x_7', 'globules_y_7',\n        'globules_x_size_7', 'globules_y_size_7', 'globules_x_8',\n        'globules_y_8', 'globules_x_size_8', 'globules_y_size_8',\n        'globules_x_9', 'globules_y_9', 'globules_x_size_9',\n        'globules_y_size_9', 'globules_x_10', 'globules_y_10',\n        'globules_x_size_10', 'globules_y_size_10', 'globules_x_11',\n        'globules_y_11', 'globules_x_size_11', 'globules_y_size_11',\n        'globules_x_12', 'globules_y_12', 'globules_x_size_12',\n        'globules_y_size_12', 'globules_x_13', 'globules_y_13',\n        'globules_x_size_13', 'globules_y_size_13', 'globules_x_14',\n        'globules_y_14', 'globules_x_size_14', 'globules_y_size_14'],\n       dtype='object'),\n Index(['milia_like_cyst_x_0', 'milia_like_cyst_y_0',\n        'milia_like_cyst_x_size_0', 'milia_like_cyst_y_size_0',\n        'milia_like_cyst_x_1', 'milia_like_cyst_y_1',\n        'milia_like_cyst_x_size_1', 'milia_like_cyst_y_size_1',\n        'milia_like_cyst_x_2', 'milia_like_cyst_y_2',\n        'milia_like_cyst_x_size_2', 'milia_like_cyst_y_size_2',\n        'milia_like_cyst_x_3', 'milia_like_cyst_y_3',\n        'milia_like_cyst_x_size_3', 'milia_like_cyst_y_size_3',\n        'milia_like_cyst_x_4', 'milia_like_cyst_y_4',\n        'milia_like_cyst_x_size_4', 'milia_like_cyst_y_size_4',\n        'milia_like_cyst_x_5', 'milia_like_cyst_y_5',\n        'milia_like_cyst_x_size_5', 'milia_like_cyst_y_size_5',\n        'milia_like_cyst_x_6', 'milia_like_cyst_y_6',\n        'milia_like_cyst_x_size_6', 'milia_like_cyst_y_size_6',\n        'milia_like_cyst_x_7', 'milia_like_cyst_y_7',\n        'milia_like_cyst_x_size_7', 'milia_like_cyst_y_size_7',\n        'milia_like_cyst_x_8', 'milia_like_cyst_y_8',\n        'milia_like_cyst_x_size_8', 'milia_like_cyst_y_size_8',\n        'milia_like_cyst_x_9', 'milia_like_cyst_y_9',\n        'milia_like_cyst_x_size_9', 'milia_like_cyst_y_size_9',\n        'milia_like_cyst_x_10', 'milia_like_cyst_y_10',\n        'milia_like_cyst_x_size_10', 'milia_like_cyst_y_size_10',\n        'milia_like_cyst_x_11', 'milia_like_cyst_y_11',\n        'milia_like_cyst_x_size_11', 'milia_like_cyst_y_size_11',\n        'milia_like_cyst_x_12', 'milia_like_cyst_y_12',\n        'milia_like_cyst_x_size_12', 'milia_like_cyst_y_size_12',\n        'milia_like_cyst_x_13', 'milia_like_cyst_y_13',\n        'milia_like_cyst_x_size_13', 'milia_like_cyst_y_size_13',\n        'milia_like_cyst_x_14', 'milia_like_cyst_y_14',\n        'milia_like_cyst_x_size_14', 'milia_like_cyst_y_size_14'],\n       dtype='object'),\n Index(['negative_network_x_0', 'negative_network_y_0',\n        'negative_network_x_size_0', 'negative_network_y_size_0',\n        'negative_network_x_1', 'negative_network_y_1',\n        'negative_network_x_size_1', 'negative_network_y_size_1',\n        'negative_network_x_2', 'negative_network_y_2',\n        'negative_network_x_size_2', 'negative_network_y_size_2',\n        'negative_network_x_3', 'negative_network_y_3',\n        'negative_network_x_size_3', 'negative_network_y_size_3',\n        'negative_network_x_4', 'negative_network_y_4',\n        'negative_network_x_size_4', 'negative_network_y_size_4',\n        'negative_network_x_5', 'negative_network_y_5',\n        'negative_network_x_size_5', 'negative_network_y_size_5',\n        'negative_network_x_6', 'negative_network_y_6',\n        'negative_network_x_size_6', 'negative_network_y_size_6',\n        'negative_network_x_7', 'negative_network_y_7',\n        'negative_network_x_size_7', 'negative_network_y_size_7',\n        'negative_network_x_8', 'negative_network_y_8',\n        'negative_network_x_size_8', 'negative_network_y_size_8',\n        'negative_network_x_9', 'negative_network_y_9',\n        'negative_network_x_size_9', 'negative_network_y_size_9',\n        'negative_network_x_10', 'negative_network_y_10',\n        'negative_network_x_size_10', 'negative_network_y_size_10',\n        'negative_network_x_11', 'negative_network_y_11',\n        'negative_network_x_size_11', 'negative_network_y_size_11',\n        'negative_network_x_12', 'negative_network_y_12',\n        'negative_network_x_size_12', 'negative_network_y_size_12',\n        'negative_network_x_13', 'negative_network_y_13',\n        'negative_network_x_size_13', 'negative_network_y_size_13',\n        'negative_network_x_14', 'negative_network_y_14',\n        'negative_network_x_size_14', 'negative_network_y_size_14'],\n       dtype='object'),\n Index(['pigment_network_x_0', 'pigment_network_y_0',\n        'pigment_network_x_size_0', 'pigment_network_y_size_0',\n        'pigment_network_x_1', 'pigment_network_y_1',\n        'pigment_network_x_size_1', 'pigment_network_y_size_1',\n        'pigment_network_x_2', 'pigment_network_y_2',\n        'pigment_network_x_size_2', 'pigment_network_y_size_2',\n        'pigment_network_x_3', 'pigment_network_y_3',\n        'pigment_network_x_size_3', 'pigment_network_y_size_3',\n        'pigment_network_x_4', 'pigment_network_y_4',\n        'pigment_network_x_size_4', 'pigment_network_y_size_4',\n        'pigment_network_x_5', 'pigment_network_y_5',\n        'pigment_network_x_size_5', 'pigment_network_y_size_5',\n        'pigment_network_x_6', 'pigment_network_y_6',\n        'pigment_network_x_size_6', 'pigment_network_y_size_6',\n        'pigment_network_x_7', 'pigment_network_y_7',\n        'pigment_network_x_size_7', 'pigment_network_y_size_7',\n        'pigment_network_x_8', 'pigment_network_y_8',\n        'pigment_network_x_size_8', 'pigment_network_y_size_8',\n        'pigment_network_x_9', 'pigment_network_y_9',\n        'pigment_network_x_size_9', 'pigment_network_y_size_9',\n        'pigment_network_x_10', 'pigment_network_y_10',\n        'pigment_network_x_size_10', 'pigment_network_y_size_10',\n        'pigment_network_x_11', 'pigment_network_y_11',\n        'pigment_network_x_size_11', 'pigment_network_y_size_11',\n        'pigment_network_x_12', 'pigment_network_y_12',\n        'pigment_network_x_size_12', 'pigment_network_y_size_12',\n        'pigment_network_x_13', 'pigment_network_y_13',\n        'pigment_network_x_size_13', 'pigment_network_y_size_13',\n        'pigment_network_x_14', 'pigment_network_y_14',\n        'pigment_network_x_size_14', 'pigment_network_y_size_14'],\n       dtype='object'),\n Index(['streaks_x_0', 'streaks_y_0', 'streaks_x_size_0', 'streaks_y_size_0',\n        'streaks_x_1', 'streaks_y_1', 'streaks_x_size_1', 'streaks_y_size_1',\n        'streaks_x_2', 'streaks_y_2', 'streaks_x_size_2', 'streaks_y_size_2',\n        'streaks_x_3', 'streaks_y_3', 'streaks_x_size_3', 'streaks_y_size_3',\n        'streaks_x_4', 'streaks_y_4', 'streaks_x_size_4', 'streaks_y_size_4',\n        'streaks_x_5', 'streaks_y_5', 'streaks_x_size_5', 'streaks_y_size_5',\n        'streaks_x_6', 'streaks_y_6', 'streaks_x_size_6', 'streaks_y_size_6',\n        'streaks_x_7', 'streaks_y_7', 'streaks_x_size_7', 'streaks_y_size_7',\n        'streaks_x_8', 'streaks_y_8', 'streaks_x_size_8', 'streaks_y_size_8',\n        'streaks_x_9', 'streaks_y_9', 'streaks_x_size_9', 'streaks_y_size_9',\n        'streaks_x_10', 'streaks_y_10', 'streaks_x_size_10',\n        'streaks_y_size_10', 'streaks_x_11', 'streaks_y_11',\n        'streaks_x_size_11', 'streaks_y_size_11', 'streaks_x_12',\n        'streaks_y_12', 'streaks_x_size_12', 'streaks_y_size_12',\n        'streaks_x_13', 'streaks_y_13', 'streaks_x_size_13',\n        'streaks_y_size_13', 'streaks_x_14', 'streaks_y_14',\n        'streaks_x_size_14', 'streaks_y_size_14'],\n       dtype='object')]"
     },
     "execution_count": 9,
     "metadata": {},
     "output_type": "execute_result"
    }
   ],
   "source": [
    "#  4 * 15\n",
    "sz = 4 * 15\n",
    "columns = frame.columns[1:]\n",
    "\n",
    "attributes = [\n",
    "    columns[i * sz: (i + 1) * sz]\n",
    "    for i in range(6)\n",
    "]\n",
    "attributes"
   ],
   "metadata": {
    "collapsed": false,
    "pycharm": {
     "name": "#%%\n"
    }
   }
  },
  {
   "cell_type": "code",
   "execution_count": 25,
   "outputs": [
    {
     "name": "stdout",
     "output_type": "stream",
     "text": [
      "segm_x_0             0.066406\n",
      "segm_y_0             0.255132\n",
      "segm_x_size_0        0.841797\n",
      "segm_y_size_0        0.570381\n",
      "segm_x_1             0.000000\n",
      "                       ...   \n",
      "streaks_y_size_13    0.000000\n",
      "streaks_x_14         0.000000\n",
      "streaks_y_14         0.000000\n",
      "streaks_x_size_14    0.000000\n",
      "streaks_y_size_14    0.000000\n",
      "Name: 2, Length: 360, dtype: float64\n",
      "segm_x_0             2.066406\n",
      "segm_y_0             2.255132\n",
      "segm_x_size_0        2.841797\n",
      "segm_y_size_0        2.570381\n",
      "segm_x_1             2.000000\n",
      "                       ...   \n",
      "streaks_y_size_13    2.000000\n",
      "streaks_x_14         2.000000\n",
      "streaks_y_14         2.000000\n",
      "streaks_x_size_14    2.000000\n",
      "streaks_y_size_14    2.000000\n",
      "Name: 2, Length: 360, dtype: float64\n"
     ]
    }
   ],
   "source": [
    "\n",
    "def noise_row(row, x_offset, y_offset, x_wide, y_wide):\n",
    "    for j, attribute in enumerate(attributes):\n",
    "        for i, a in enumerate(attribute):\n",
    "            if \"x_size\" in a:\n",
    "                row[j * sz + i] += x_wide\n",
    "            elif \"y_size\" in a:\n",
    "                row[j * sz + i] += y_wide\n",
    "            elif \"x\" in a:\n",
    "                row[j * sz + i] += x_offset\n",
    "            elif \"y\" in a:\n",
    "                row[j * sz + i] += y_offset\n",
    "    return row\n",
    "\n",
    "a = frame.iloc[2][1:]\n",
    "print(a)\n",
    "print(noise_row(a, 2, 2, 2, 2))"
   ],
   "metadata": {
    "collapsed": false,
    "pycharm": {
     "name": "#%%\n"
    }
   }
  }
 ],
 "metadata": {
  "kernelspec": {
   "display_name": "Python 3",
   "language": "python",
   "name": "python3"
  },
  "language_info": {
   "codemirror_mode": {
    "name": "ipython",
    "version": 2
   },
   "file_extension": ".py",
   "mimetype": "text/x-python",
   "name": "python",
   "nbconvert_exporter": "python",
   "pygments_lexer": "ipython2",
   "version": "2.7.6"
  }
 },
 "nbformat": 4,
 "nbformat_minor": 0
}