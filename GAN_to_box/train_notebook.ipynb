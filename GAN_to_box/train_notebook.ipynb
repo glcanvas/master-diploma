{
 "cells": [
  {
   "cell_type": "code",
   "execution_count": 2,
   "metadata": {
    "collapsed": true
   },
   "outputs": [],
   "source": [
    "from itertools import islice\n",
    "import os\n",
    "import matplotlib.pyplot as plt\n",
    "import numpy as np\n",
    "import pandas as pd\n",
    "import pretrainedmodels as ptm\n",
    "from sklearn.metrics import confusion_matrix, roc_auc_score, f1_score\n",
    "import torch\n",
    "import torch.nn as nn\n",
    "import torch\n",
    "from torch.autograd import Variable\n",
    "import torch.nn.functional as F\n",
    "import torch.optim as optim\n",
    "from torch.utils.data import DataLoader, sampler\n",
    "from torchvision import models, datasets, transforms\n",
    "from torchvision.utils import save_image\n",
    "from tqdm import tqdm\n",
    "from dataset_loader import CSVDataset, DatasetMetadata\n",
    "import params_loader as pl\n",
    "import utils as utils\n",
    "from sacred.observers import RunObserver\n",
    "import logging\n",
    "import math\n",
    "import MY_GAN as GAN\n",
    "import boundary_seeking_gan as BSGAN\n",
    "import tanh_boundary_seeking_gan as TBSGAN\n",
    "import gan_counter as CNT_GAN\n",
    "import gan_counter_simple_dec as CNT_GAN_SIMP"
   ]
  },
  {
   "cell_type": "code",
   "execution_count": 3,
   "outputs": [
    {
     "name": "stdout",
     "output_type": "stream",
     "text": [
      "cpu\n"
     ]
    }
   ],
   "source": [
    "if torch.cuda.is_available():\n",
    "    device = 'cuda:0'\n",
    "else:\n",
    "    device = 'cpu'\n",
    "print(device)"
   ],
   "metadata": {
    "collapsed": false,
    "pycharm": {
     "name": "#%%\n"
    }
   }
  },
  {
   "cell_type": "code",
   "execution_count": 4,
   "outputs": [],
   "source": [
    "dataset_path_csv = \"/Users/nduginets/PycharmProjects/master-diploma/GAN_to_box/test_data/isic_2018_boxes_shifted.csv\"\n",
    "batch_size = 32\n",
    "num_workers = 8\n",
    "THRESHOLD = 0.5\n",
    "if os.path.exists(\"/Users/nduginets/Desktop\"):\n",
    "    num_workers = 1"
   ],
   "metadata": {
    "collapsed": false,
    "pycharm": {
     "name": "#%%\n"
    }
   }
  },
  {
   "cell_type": "code",
   "execution_count": 5,
   "outputs": [
    {
     "name": "stderr",
     "output_type": "stream",
     "text": [
      "/Users/nduginets/PycharmProjects/master-diploma/GAN_to_box/dataset_loader.py:26: ParserWarning: Falling back to the 'python' engine because the 'c' engine does not support sep=None with delim_whitespace=False; you can avoid this warning by specifying engine='python'.\n",
      "  self.pandas_data = pd.read_csv(csv_file, sep=None)\n"
     ]
    }
   ],
   "source": [
    "train_dataset = CSVDataset(dataset_path_csv)\n",
    "dataset_metadata = train_dataset.metadata\n",
    "dataset_loader = DataLoader(train_dataset, batch_size=batch_size, num_workers=num_workers)"
   ],
   "metadata": {
    "collapsed": false,
    "pycharm": {
     "name": "#%%\n"
    }
   }
  },
  {
   "cell_type": "code",
   "execution_count": 6,
   "outputs": [
    {
     "name": "stdout",
     "output_type": "stream",
     "text": [
      "torch.Size([32, 6, 16])\n",
      "Success!!!\n"
     ]
    }
   ],
   "source": [
    "for i in dataset_loader:\n",
    "    assert len(i) == 2\n",
    "    assert i[0][0].shape[0] == batch_size\n",
    "    break\n",
    "print(i[1][0].shape)\n",
    "print(\"Success!!!\")"
   ],
   "metadata": {
    "collapsed": false,
    "pycharm": {
     "name": "#%%\n"
    }
   }
  },
  {
   "cell_type": "code",
   "execution_count": 7,
   "outputs": [],
   "source": [
    "def get_generator_block(input_dim, output_dim):\n",
    "    return nn.Sequential(\n",
    "        nn.Linear(input_dim, output_dim),\n",
    "        nn.BatchNorm1d(output_dim),\n",
    "        nn.ReLU(inplace=True),\n",
    "    )\n",
    "\n",
    "class Generator(nn.Module):\n",
    "    def __init__(self, z_dim=10, im_dim=6*16, hidden_dim=128):\n",
    "        super(Generator, self).__init__()\n",
    "        self.gen = nn.Sequential(\n",
    "            get_generator_block(z_dim, hidden_dim),\n",
    "            get_generator_block(hidden_dim, hidden_dim * 2),\n",
    "            get_generator_block(hidden_dim * 2, hidden_dim * 4),\n",
    "            get_generator_block(hidden_dim * 4, hidden_dim * 8),\n",
    "            nn.Linear(hidden_dim * 8, im_dim),\n",
    "            nn.Sigmoid() # todo maybe tanh??\n",
    "        )\n",
    "    def forward(self, noise):\n",
    "        return self.gen(noise)\n",
    "\n",
    "    def get_gen(self):\n",
    "        return self.gen"
   ],
   "metadata": {
    "collapsed": false,
    "pycharm": {
     "name": "#%%\n"
    }
   }
  },
  {
   "cell_type": "code",
   "execution_count": 8,
   "outputs": [
    {
     "name": "stdout",
     "output_type": "stream",
     "text": [
      "Success!\n"
     ]
    }
   ],
   "source": [
    "# Verify the generator class\n",
    "def test_generator(z_dim, im_dim, hidden_dim, num_test=10000):\n",
    "    gen = Generator(z_dim, im_dim, hidden_dim).get_gen()\n",
    "\n",
    "    # Check there are six modules in the sequential part\n",
    "    assert len(gen) == 6\n",
    "    test_input = torch.randn(num_test, z_dim)\n",
    "    test_output = gen(test_input)\n",
    "\n",
    "    # Check that the output shape is correct\n",
    "    assert tuple(test_output.shape) == (num_test, im_dim)\n",
    "    assert test_output.max() < 1, \"Make sure to use a sigmoid\"\n",
    "    assert test_output.min() > 0, \"Make sure to use a sigmoid\"\n",
    "    assert test_output.std() > 0.05, \"Don't use batchnorm here\"\n",
    "    assert test_output.std() < 0.15, \"Don't use batchnorm here\"\n",
    "\n",
    "test_generator(5, 10, 20)\n",
    "test_generator(20, 8, 24)\n",
    "print(\"Success!\")"
   ],
   "metadata": {
    "collapsed": false,
    "pycharm": {
     "name": "#%%\n"
    }
   }
  },
  {
   "cell_type": "code",
   "execution_count": 9,
   "outputs": [],
   "source": [
    "def get_noise(n_samples, z_dim, device='cpu'):\n",
    "    return torch.randn((n_samples, z_dim), device=device)"
   ],
   "metadata": {
    "collapsed": false,
    "pycharm": {
     "name": "#%%\n"
    }
   }
  },
  {
   "cell_type": "code",
   "execution_count": 10,
   "outputs": [
    {
     "name": "stdout",
     "output_type": "stream",
     "text": [
      "Success!\n"
     ]
    }
   ],
   "source": [
    "def test_get_noise(n_samples, z_dim, device='cpu'):\n",
    "    noise = get_noise(n_samples, z_dim, device)\n",
    "\n",
    "    assert tuple(noise.shape) == (n_samples, z_dim)\n",
    "    assert torch.abs(noise.std() - torch.tensor(1.0)) < 0.01\n",
    "    assert str(noise.device).startswith(device)\n",
    "\n",
    "test_get_noise(1000, 100, 'cpu')\n",
    "if torch.cuda.is_available():\n",
    "    test_get_noise(1000, 32, 'cuda')\n",
    "print(\"Success!\")"
   ],
   "metadata": {
    "collapsed": false,
    "pycharm": {
     "name": "#%%\n"
    }
   }
  },
  {
   "cell_type": "code",
   "execution_count": 11,
   "outputs": [],
   "source": [
    "def get_discriminator_block(input_dim, output_dim):\n",
    "    return nn.Sequential(\n",
    "        nn.Linear(input_dim, output_dim),\n",
    "        nn.LeakyReLU(negative_slope=0.2)\n",
    "    )\n",
    "\n",
    "class Discriminator(nn.Module):\n",
    "\n",
    "    def __init__(self, im_dim=6*16, hidden_dim=128):\n",
    "        super(Discriminator, self).__init__()\n",
    "        self.disc = nn.Sequential(\n",
    "            get_discriminator_block(im_dim, hidden_dim * 4),\n",
    "            get_discriminator_block(hidden_dim * 4, hidden_dim * 2),\n",
    "            get_discriminator_block(hidden_dim * 2, hidden_dim),\n",
    "            nn.Linear(hidden_dim, 1)\n",
    "        )\n",
    "\n",
    "    def forward(self, image):\n",
    "        return self.disc(image)\n",
    "\n",
    "    def get_disc(self):\n",
    "        return self.disc"
   ],
   "metadata": {
    "collapsed": false,
    "pycharm": {
     "name": "#%%\n"
    }
   }
  },
  {
   "cell_type": "code",
   "execution_count": 12,
   "outputs": [
    {
     "name": "stdout",
     "output_type": "stream",
     "text": [
      "Success!\n"
     ]
    }
   ],
   "source": [
    "# Verify the discriminator class\n",
    "def test_discriminator(z_dim, hidden_dim, num_test=100):\n",
    "\n",
    "    disc = Discriminator(z_dim, hidden_dim).get_disc()\n",
    "\n",
    "    # Check there are three parts\n",
    "    assert len(disc) == 4\n",
    "\n",
    "    # Check the linear layer is correct\n",
    "    test_input = torch.randn(num_test, z_dim)\n",
    "    test_output = disc(test_input)\n",
    "    assert tuple(test_output.shape) == (num_test, 1)\n",
    "\n",
    "    # Make sure there's no sigmoid\n",
    "    assert test_input.max() > 1\n",
    "    assert test_input.min() < -1\n",
    "\n",
    "test_discriminator(5, 10)\n",
    "test_discriminator(20, 8)\n",
    "print(\"Success!\")"
   ],
   "metadata": {
    "collapsed": false,
    "pycharm": {
     "name": "#%%\n"
    }
   }
  },
  {
   "cell_type": "code",
   "execution_count": 13,
   "outputs": [],
   "source": [
    "criterion = nn.BCEWithLogitsLoss()\n",
    "n_epochs = 200\n",
    "z_dim = 64\n",
    "batch_size = 128\n",
    "lr = 0.00001"
   ],
   "metadata": {
    "collapsed": false,
    "pycharm": {
     "name": "#%%\n"
    }
   }
  },
  {
   "cell_type": "code",
   "execution_count": 14,
   "outputs": [],
   "source": [
    "gen = Generator(z_dim).to(device)\n",
    "gen_opt = torch.optim.Adam(gen.parameters(), lr=lr)\n",
    "disc = Discriminator().to(device)\n",
    "disc_opt = torch.optim.Adam(disc.parameters(), lr=lr)"
   ],
   "metadata": {
    "collapsed": false,
    "pycharm": {
     "name": "#%%\n"
    }
   }
  },
  {
   "cell_type": "code",
   "execution_count": 15,
   "outputs": [
    {
     "data": {
      "text/plain": "<Figure size 1440x360 with 6 Axes>",
      "image/png": "[encoded data removed]"
     },
     "metadata": {
      "needs_background": "light"
     },
     "output_type": "display_data"
    },
    {
     "name": "stdout",
     "output_type": "stream",
     "text": [
      "!!\n"
     ]
    },
    {
     "data": {
      "text/plain": "<Figure size 1440x360 with 6 Axes>",
      "image/png": "[encoded data removed]"
     },
     "metadata": {
      "needs_background": "light"
     },
     "output_type": "display_data"
    }
   ],
   "source": [
    "def visualize_generated_distribution(gen_model, z_dim, distribution_count=2_500):\n",
    "        z = get_noise(distribution_count, z_dim=z_dim, device=device)\n",
    "        out_v = torch.argmax(gen_model(z).view(distribution_count, 6, 16), dim=2)\n",
    "        res = [[] for _ in range(6)]\n",
    "        for row in out_v:\n",
    "            for i in range(6):\n",
    "                res[i].append(row[i].item())\n",
    "\n",
    "        fig, plots = plt.subplots(nrows=1, ncols=6, figsize = (20,5))\n",
    "        for idx in range(6):\n",
    "            plots[idx].hist(res[idx], bins=15)\n",
    "        plt.show()\n",
    "\n",
    "visualize_generated_distribution(gen, z_dim, 10)\n",
    "print(\"!!\")\n",
    "visualize_generated_distribution(gen, z_dim, 10)\n"
   ],
   "metadata": {
    "collapsed": false,
    "pycharm": {
     "name": "#%%\n"
    }
   }
  },
  {
   "cell_type": "code",
   "execution_count": 16,
   "outputs": [
    {
     "data": {
      "text/plain": "<Figure size 720x720 with 5 Axes>",
      "image/png": "[encoded data removed]"
     },
     "metadata": {
      "needs_background": "light"
     },
     "output_type": "display_data"
    }
   ],
   "source": [
    "def visualize_epochs(data:dict):\n",
    "    keys = sorted([i for i in data.keys()])\n",
    "    items = [\"disc_loss\", \"gen_loss\", \"fake_cnt\", \"real_cnt\", \"gen_cnt\"]\n",
    "    fig, plots = plt.subplots(nrows=len(items), ncols=1, figsize = (10, 10))\n",
    "\n",
    "    for idx, measure in enumerate(items):\n",
    "        values = [data[k][measure] for k in keys]\n",
    "        plots[idx].plot(keys, values, label=measure)\n",
    "        plots[idx].legend(loc=\"upper right\")\n",
    "    plt.show()\n",
    "\n",
    "data = {\n",
    "    0:  {\n",
    "         \"disc_loss\": 0,\n",
    "        \"gen_loss\": 0,\n",
    "        \"fake_cnt\": 0,\n",
    "        \"real_cnt\": 0,\n",
    "        \"gen_cnt\": 0\n",
    "    },\n",
    "    1:  {\n",
    "         \"disc_loss\": 0,\n",
    "        \"gen_loss\": 0,\n",
    "        \"fake_cnt\": 0,\n",
    "        \"real_cnt\": 0,\n",
    "        \"gen_cnt\": 0\n",
    "    },\n",
    "    2:  {\n",
    "         \"disc_loss\": 0,\n",
    "        \"gen_loss\": 0,\n",
    "        \"fake_cnt\": 0,\n",
    "        \"real_cnt\": 0,\n",
    "        \"gen_cnt\": 0\n",
    "    }\n",
    "}\n",
    "\n",
    "visualize_epochs(data)"
   ],
   "metadata": {
    "collapsed": false,
    "pycharm": {
     "name": "#%%\n"
    }
   }
  },
  {
   "cell_type": "code",
   "execution_count": 17,
   "outputs": [
    {
     "name": "stdout",
     "output_type": "stream",
     "text": [
      "tensor([[0., 0., 1., 1.],\n",
      "        [0., 0., 1., 1.]])\n"
     ]
    }
   ],
   "source": [
    "def crate_thresholded_data(tensor):\n",
    "    output_copy = torch.zeros_like(tensor)\n",
    "    output_copy[tensor[:] <= THRESHOLD] = 0\n",
    "    output_copy[tensor[:] > THRESHOLD] = 1\n",
    "    return output_copy\n",
    "\n",
    "t = torch.tensor([[0, 0.5, 0.7, 1], [0, 0.5, 0.7, 1]])\n",
    "print( crate_thresholded_data(t))"
   ],
   "metadata": {
    "collapsed": false,
    "pycharm": {
     "name": "#%%\n"
    }
   }
  },
  {
   "cell_type": "code",
   "execution_count": 18,
   "outputs": [
    {
     "name": "stderr",
     "output_type": "stream",
     "text": [
      "  0%|          | 0/82 [00:00<?, ?it/s][W ParallelNative.cpp:206] Warning: Cannot set number of intraop threads after parallel work has started or after set_num_threads call when using native parallel backend (function set_num_threads)\n",
      "\n"
     ]
    }
   ],
   "source": [
    "def calculate_accuracy_real(gen, disc, real, num_images, z_dim, device):\n",
    "    sigmoid = nn.Sigmoid().to(device)\n",
    "    z = get_noise(num_images, z_dim, device=device)\n",
    "    fake = gen(z)\n",
    "\n",
    "    out_fake = crate_thresholded_data(sigmoid(disc(fake)))\n",
    "    fake_cnt = torch.sum(out_fake == torch.zeros((num_images,1), device=device)).item()\n",
    "    #loss_fake = criterion(out_fake, torch.zeros((num_images,1), device=device))\n",
    "\n",
    "    out_real = crate_thresholded_data(sigmoid(disc(real)))\n",
    "    real_cnt = torch.sum(out_real == torch.ones((num_images,1), device=device)).item()\n",
    "    #loss_real = criterion(out_real, torch.ones((num_images,1), device=device))\n",
    "\n",
    "    out = crate_thresholded_data(sigmoid(disc(gen(z))))\n",
    "    #gen_loss = criterion(out, torch.ones((num_images,1), device=device))\n",
    "    gen_cnt = torch.sum(out == torch.ones((num_images,1), device=device)).item()\n",
    "\n",
    "    # print(fake_cnt, real_cnt, gen_cnt, out, sigmoid(disc(gen(z))))\n",
    "    gen.zero_grad()\n",
    "    disc.zero_grad()\n",
    "\n",
    "    return fake_cnt, real_cnt, gen_cnt\n",
    "\n",
    "for _, (real, _) in tqdm(dataset_loader):\n",
    "    break\n",
    "\n",
    "fake_cnt, real_cnt, gen_cnt = calculate_accuracy_real(gen, disc, real.view(real.shape[0], -1).to(device), real.shape[0], z_dim, device)\n"
   ],
   "metadata": {
    "collapsed": false,
    "pycharm": {
     "name": "#%%\n"
    }
   }
  },
  {
   "cell_type": "code",
   "execution_count": 19,
   "outputs": [],
   "source": [
    "def get_gen_loss(gen, disc, criterion, num_images, z_dim, device):\n",
    "    z = get_noise(num_images, z_dim, device=device)\n",
    "    out = disc(gen(z))\n",
    "    gen_loss = criterion(out, torch.ones((num_images,1), device=device))\n",
    "    return gen_loss"
   ],
   "metadata": {
    "collapsed": false,
    "pycharm": {
     "name": "#%%\n"
    }
   }
  },
  {
   "cell_type": "code",
   "execution_count": 20,
   "outputs": [
    {
     "name": "stdout",
     "output_type": "stream",
     "text": [
      "Success!\n"
     ]
    }
   ],
   "source": [
    "def test_gen_reasonable(num_images=10):\n",
    "    # Don't use explicit casts to cuda - use the device argument\n",
    "    import inspect, re\n",
    "    lines = inspect.getsource(get_gen_loss)\n",
    "    assert (re.search(r\"to\\(.cuda.\\)\", lines)) is None\n",
    "    assert (re.search(r\"\\.cuda\\(\\)\", lines)) is None\n",
    "\n",
    "    z_dim = 64\n",
    "    gen = torch.zeros_like\n",
    "    disc = nn.Identity()\n",
    "    criterion = torch.mul # Multiply\n",
    "    gen_loss_tensor = get_gen_loss(gen, disc, criterion, num_images, z_dim, 'cpu')\n",
    "    assert torch.all(torch.abs(gen_loss_tensor) < 1e-5)\n",
    "    #Verify shape. Related to gen_noise parametrization\n",
    "    assert tuple(gen_loss_tensor.shape) == (num_images, z_dim)\n",
    "\n",
    "    gen = torch.ones_like\n",
    "    disc = nn.Identity()\n",
    "    criterion = torch.mul # Multiply\n",
    "    real = torch.zeros(num_images, 1)\n",
    "    gen_loss_tensor = get_gen_loss(gen, disc, criterion, num_images, z_dim, 'cpu')\n",
    "    assert torch.all(torch.abs(gen_loss_tensor - 1) < 1e-5)\n",
    "    #Verify shape. Related to gen_noise parametrization\n",
    "    assert tuple(gen_loss_tensor.shape) == (num_images, z_dim)\n",
    "\n",
    "\n",
    "def test_gen_loss(num_images):\n",
    "    z_dim = 64\n",
    "    gen = Generator(z_dim).to(device)\n",
    "    gen_opt = torch.optim.Adam(gen.parameters(), lr=lr)\n",
    "    disc = Discriminator().to(device)\n",
    "    disc_opt = torch.optim.Adam(disc.parameters(), lr=lr)\n",
    "\n",
    "    gen_loss = get_gen_loss(gen, disc, criterion, num_images, z_dim, device)\n",
    "\n",
    "    # Check that the loss is reasonable\n",
    "    assert (gen_loss - 0.7).abs() < 0.1\n",
    "    gen_loss.backward()\n",
    "    old_weight = gen.gen[0][0].weight.clone()\n",
    "    gen_opt.step()\n",
    "    new_weight = gen.gen[0][0].weight\n",
    "    assert not torch.all(torch.eq(old_weight, new_weight))\n",
    "\n",
    "\n",
    "test_gen_reasonable(10)\n",
    "test_gen_loss(18)\n",
    "print(\"Success!\")"
   ],
   "metadata": {
    "collapsed": false,
    "pycharm": {
     "name": "#%%\n"
    }
   }
  },
  {
   "cell_type": "code",
   "execution_count": 21,
   "outputs": [],
   "source": [
    "def get_disc_loss(gen, disc, criterion, real, num_images, z_dim, device):\n",
    "\n",
    "    z = get_noise(num_images, z_dim, device=device)\n",
    "    fake = gen(z).detach()\n",
    "\n",
    "    out_fake = disc(fake)\n",
    "    loss_fake = criterion(out_fake, torch.zeros((num_images,1), device=device))\n",
    "\n",
    "    out_real = disc(real)\n",
    "    loss_real = criterion(out_real, torch.ones((num_images,1), device=device))\n",
    "\n",
    "    disc_loss = (loss_fake + loss_real) / 2\n",
    "\n",
    "    return disc_loss"
   ],
   "metadata": {
    "collapsed": false,
    "pycharm": {
     "name": "#%%\n"
    }
   }
  },
  {
   "cell_type": "code",
   "execution_count": 22,
   "outputs": [
    {
     "name": "stdout",
     "output_type": "stream",
     "text": [
      "Success!\n"
     ]
    },
    {
     "name": "stderr",
     "output_type": "stream",
     "text": [
      "[W ParallelNative.cpp:206] Warning: Cannot set number of intraop threads after parallel work has started or after set_num_threads call when using native parallel backend (function set_num_threads)\n"
     ]
    }
   ],
   "source": [
    "def test_disc_reasonable(num_images=10):\n",
    "    # Don't use explicit casts to cuda - use the device argument\n",
    "    import inspect, re\n",
    "    lines = inspect.getsource(get_disc_loss)\n",
    "    assert (re.search(r\"to\\(.cuda.\\)\", lines)) is None\n",
    "    assert (re.search(r\"\\.cuda\\(\\)\", lines)) is None\n",
    "\n",
    "    z_dim = 64\n",
    "    gen = torch.zeros_like\n",
    "    disc = lambda x: x.mean(1)[:, None]\n",
    "    criterion = torch.mul # Multiply\n",
    "    real = torch.ones(num_images, z_dim)\n",
    "    disc_loss = get_disc_loss(gen, disc, criterion, real, num_images, z_dim, 'cpu')\n",
    "    assert torch.all(torch.abs(disc_loss.mean() - 0.5) < 1e-5)\n",
    "\n",
    "    gen = torch.ones_like\n",
    "    criterion = torch.mul # Multiply\n",
    "    real = torch.zeros(num_images, z_dim)\n",
    "    assert torch.all(torch.abs(get_disc_loss(gen, disc, criterion, real, num_images, z_dim, 'cpu')) < 1e-5)\n",
    "\n",
    "    gen = lambda x: torch.ones(num_images, 10)\n",
    "    disc = lambda x: x.mean(1)[:, None] + 10\n",
    "    criterion = torch.mul # Multiply\n",
    "    real = torch.zeros(num_images, 10)\n",
    "    assert torch.all(torch.abs(get_disc_loss(gen, disc, criterion, real, num_images, z_dim, 'cpu').mean() - 5) < 1e-5)\n",
    "\n",
    "    gen = torch.ones_like\n",
    "    disc = nn.Linear(64, 1, bias=False)\n",
    "    real = torch.ones(num_images, 64) * 0.5\n",
    "    disc.weight.data = torch.ones_like(disc.weight.data) * 0.5\n",
    "    disc_opt = torch.optim.Adam(disc.parameters(), lr=lr)\n",
    "    criterion = lambda x, y: torch.sum(x) + torch.sum(y)\n",
    "    disc_loss = get_disc_loss(gen, disc, criterion, real, num_images, z_dim, 'cpu').mean()\n",
    "    disc_loss.backward()\n",
    "    assert torch.isclose(torch.abs(disc.weight.grad.mean() - 11.25), torch.tensor(3.75))\n",
    "\n",
    "def test_disc_loss(max_tests = 10):\n",
    "    z_dim = 64\n",
    "    gen = Generator(z_dim).to(device)\n",
    "    gen_opt = torch.optim.Adam(gen.parameters(), lr=lr)\n",
    "    disc = Discriminator().to(device)\n",
    "    disc_opt = torch.optim.Adam(disc.parameters(), lr=lr)\n",
    "    num_steps = 0\n",
    "    for _, (real, real_noise) in dataset_loader:\n",
    "        cur_batch_size = len(real)\n",
    "        real = real.view(cur_batch_size, -1).to(device)\n",
    "\n",
    "        ### Update discriminator ###\n",
    "        # Zero out the gradient before backpropagation\n",
    "        disc_opt.zero_grad()\n",
    "\n",
    "        # Calculate discriminator loss\n",
    "        disc_loss = get_disc_loss(gen, disc, criterion, real, cur_batch_size, z_dim, device)\n",
    "        assert (disc_loss - 0.68).abs() < 0.05\n",
    "\n",
    "        # Update gradients\n",
    "        disc_loss.backward(retain_graph=True)\n",
    "\n",
    "        # Check that they detached correctly\n",
    "        assert gen.gen[0][0].weight.grad is None\n",
    "\n",
    "        # Update optimizer\n",
    "        old_weight = disc.disc[0][0].weight.data.clone()\n",
    "        disc_opt.step()\n",
    "        new_weight = disc.disc[0][0].weight.data\n",
    "\n",
    "        # Check that some discriminator weights changed\n",
    "        assert not torch.all(torch.eq(old_weight, new_weight))\n",
    "        num_steps += 1\n",
    "        if num_steps >= max_tests:\n",
    "            break\n",
    "\n",
    "test_disc_reasonable()\n",
    "test_disc_loss()\n",
    "print(\"Success!\")"
   ],
   "metadata": {
    "collapsed": false,
    "pycharm": {
     "name": "#%%\n"
    }
   }
  },
  {
   "cell_type": "code",
   "execution_count": 23,
   "outputs": [],
   "source": [
    "cur_step = 0\n",
    "mean_generator_loss = 0\n",
    "mean_discriminator_loss = 0\n",
    "test_generator = True # Whether the generator should be tested\n",
    "error = False\n",
    "cur_epoches = 1"
   ],
   "metadata": {
    "collapsed": false,
    "pycharm": {
     "name": "#%%\n"
    }
   }
  },
  {
   "cell_type": "code",
   "execution_count": null,
   "outputs": [],
   "source": [
    "train_losses = {}\n"
   ],
   "metadata": {
    "collapsed": false,
    "pycharm": {
     "name": "#%%\n"
    }
   }
  },
  {
   "cell_type": "code",
   "execution_count": null,
   "outputs": [
    {
     "name": "stderr",
     "output_type": "stream",
     "text": [
      "  0%|          | 0/82 [00:00<?, ?it/s][W ParallelNative.cpp:206] Warning: Cannot set number of intraop threads after parallel work has started or after set_num_threads call when using native parallel backend (function set_num_threads)\n",
      "100%|██████████| 82/82 [00:04<00:00, 19.08it/s, epoch=0]\n",
      "  0%|          | 0/82 [00:00<?, ?it/s][W ParallelNative.cpp:206] Warning: Cannot set number of intraop threads after parallel work has started or after set_num_threads call when using native parallel backend (function set_num_threads)\n",
      "100%|██████████| 82/82 [00:04<00:00, 18.74it/s, epoch=1]\n",
      "  0%|          | 0/82 [00:00<?, ?it/s][W ParallelNative.cpp:206] Warning: Cannot set number of intraop threads after parallel work has started or after set_num_threads call when using native parallel backend (function set_num_threads)\n",
      "100%|██████████| 82/82 [00:04<00:00, 18.94it/s, epoch=2]\n",
      "  0%|          | 0/82 [00:00<?, ?it/s][W ParallelNative.cpp:206] Warning: Cannot set number of intraop threads after parallel work has started or after set_num_threads call when using native parallel backend (function set_num_threads)\n",
      "100%|██████████| 82/82 [00:04<00:00, 20.09it/s, epoch=3]\n",
      "  0%|          | 0/82 [00:00<?, ?it/s][W ParallelNative.cpp:206] Warning: Cannot set number of intraop threads after parallel work has started or after set_num_threads call when using native parallel backend (function set_num_threads)\n",
      "100%|██████████| 82/82 [00:04<00:00, 19.79it/s, epoch=4]\n",
      "  0%|          | 0/82 [00:00<?, ?it/s][W ParallelNative.cpp:206] Warning: Cannot set number of intraop threads after parallel work has started or after set_num_threads call when using native parallel backend (function set_num_threads)\n",
      "100%|██████████| 82/82 [00:04<00:00, 20.31it/s, epoch=5]\n",
      "  0%|          | 0/82 [00:00<?, ?it/s][W ParallelNative.cpp:206] Warning: Cannot set number of intraop threads after parallel work has started or after set_num_threads call when using native parallel backend (function set_num_threads)\n",
      "100%|██████████| 82/82 [00:04<00:00, 18.65it/s, epoch=6]\n",
      "  0%|          | 0/82 [00:00<?, ?it/s][W ParallelNative.cpp:206] Warning: Cannot set number of intraop threads after parallel work has started or after set_num_threads call when using native parallel backend (function set_num_threads)\n",
      "100%|██████████| 82/82 [00:04<00:00, 18.60it/s, epoch=7]\n",
      "  0%|          | 0/82 [00:00<?, ?it/s][W ParallelNative.cpp:206] Warning: Cannot set number of intraop threads after parallel work has started or after set_num_threads call when using native parallel backend (function set_num_threads)\n",
      "100%|██████████| 82/82 [00:04<00:00, 18.98it/s, epoch=8]\n",
      "  0%|          | 0/82 [00:00<?, ?it/s][W ParallelNative.cpp:206] Warning: Cannot set number of intraop threads after parallel work has started or after set_num_threads call when using native parallel backend (function set_num_threads)\n",
      "100%|██████████| 82/82 [00:04<00:00, 20.04it/s, epoch=9]\n",
      "  0%|          | 0/82 [00:00<?, ?it/s][W ParallelNative.cpp:206] Warning: Cannot set number of intraop threads after parallel work has started or after set_num_threads call when using native parallel backend (function set_num_threads)\n",
      "100%|██████████| 82/82 [00:04<00:00, 20.32it/s, epoch=10]\n",
      "  0%|          | 0/82 [00:00<?, ?it/s][W ParallelNative.cpp:206] Warning: Cannot set number of intraop threads after parallel work has started or after set_num_threads call when using native parallel backend (function set_num_threads)\n",
      " 73%|███████▎  | 60/82 [00:03<00:01, 19.20it/s, epoch=11]"
     ]
    },
    {
     "name": "stdout",
     "output_type": "stream",
     "text": [
      "0\n"
     ]
    },
    {
     "data": {
      "text/plain": "<Figure size 1440x360 with 6 Axes>",
      "image/png": "[encoded data removed]"
     },
     "metadata": {
      "needs_background": "light"
     },
     "output_type": "display_data"
    },
    {
     "data": {
      "text/plain": "<Figure size 720x720 with 5 Axes>",
      "image/png": "[encoded data removed]"
     },
     "metadata": {
      "needs_background": "light"
     },
     "output_type": "display_data"
    }
   ],
   "source": [
    "for epoch in range(cur_epoches, n_epochs):\n",
    "\n",
    "    disc_train_loss = 0\n",
    "    gen_train_loss = 0\n",
    "    fake_cnt = 0\n",
    "    real_cnt = 0\n",
    "    gen_cnt = 0\n",
    "\n",
    "    size = 0\n",
    "    tqdm_loader = tqdm(dataset_loader)\n",
    "\n",
    "    for _, (real, _) in tqdm_loader:\n",
    "        cur_batch_size = real.shape[0]\n",
    "        #print(cur_batch_size)\n",
    "        real = real.view(cur_batch_size, -1).to(device)\n",
    "        #print(real.shape)\n",
    "\n",
    "        size += cur_batch_size\n",
    "\n",
    "        disc_opt.zero_grad()\n",
    "        # Calculate discriminator loss\n",
    "        disc_loss = get_disc_loss(gen, disc, criterion, real, cur_batch_size, z_dim, device)\n",
    "        # Update gradients\n",
    "        disc_loss.backward(retain_graph=True)\n",
    "        # Update optimizer\n",
    "        disc_opt.step()\n",
    "\n",
    "        if test_generator:\n",
    "            old_generator_weights = gen.gen[0][0].weight.detach().clone()\n",
    "\n",
    "        gen_opt.zero_grad()\n",
    "        gen_loss = get_gen_loss(gen, disc, criterion, num_images=cur_batch_size, z_dim=z_dim, device=device)\n",
    "        gen_loss.backward(retain_graph=True)\n",
    "        gen_opt.step()\n",
    "\n",
    "        if test_generator:\n",
    "            try:\n",
    "                assert lr > 0.0000002 or (gen.gen[0][0].weight.grad.abs().max() < 0.0005 and epoch == 0)\n",
    "                assert torch.any(gen.gen[0][0].weight.detach().clone() != old_generator_weights)\n",
    "            except:\n",
    "                error = True\n",
    "                print(\"Runtime tests have failed\")\n",
    "\n",
    "\n",
    "        z = get_noise(2, z_dim, device=device)\n",
    "        out = gen(z)\n",
    "        out_v = torch.argmax(out.view(2, 6, 16), dim=2)\n",
    "        #print(out_v.shape, out_v)\n",
    "        disc_train_loss += disc_loss.item()\n",
    "        gen_train_loss += gen_loss.item()\n",
    "\n",
    "        fake_cnt_ep, real_cnt_ep, gen_cnt_ep = calculate_accuracy_real(gen, disc, real, cur_batch_size, z_dim, device)\n",
    "        fake_cnt += fake_cnt_ep\n",
    "        real_cnt += real_cnt_ep\n",
    "        gen_cnt += gen_cnt_ep\n",
    "        tqdm_loader.set_postfix(epoch=epoch)\n",
    "\n",
    "    train_losses[epoch] = {\n",
    "        \"disc_loss\": disc_train_loss,\n",
    "        \"gen_loss\": gen_train_loss,\n",
    "        \"fake_cnt\": fake_cnt,\n",
    "        \"real_cnt\": real_cnt,\n",
    "        \"gen_cnt\": gen_cnt\n",
    "    }\n",
    "    if epoch % 100 == 0:\n",
    "        print(epoch)\n",
    "        visualize_generated_distribution(gen, z_dim, 2_500)\n",
    "        visualize_epochs(train_losses)"
   ],
   "metadata": {
    "collapsed": false,
    "pycharm": {
     "name": "#%%\n",
     "is_executing": true
    }
   }
  }
 ],
 "metadata": {
  "kernelspec": {
   "display_name": "Python 3",
   "language": "python",
   "name": "python3"
  },
  "language_info": {
   "codemirror_mode": {
    "name": "ipython",
    "version": 2
   },
   "file_extension": ".py",
   "mimetype": "text/x-python",
   "name": "python",
   "nbconvert_exporter": "python",
   "pygments_lexer": "ipython2",
   "version": "2.7.6"
  }
 },
 "nbformat": 4,
 "nbformat_minor": 0
}